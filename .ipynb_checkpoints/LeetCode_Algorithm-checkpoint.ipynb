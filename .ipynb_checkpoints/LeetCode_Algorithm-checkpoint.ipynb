{
 "cells": [
  {
   "cell_type": "markdown",
   "metadata": {},
   "source": [
    "## 2018-10-22 Longest Common Prefix 最长公共前缀\n",
    "\n",
    "- 编写一个函数来查找字符串数组中的最长公共前缀。\n",
    "\n",
    "- 如果不存在公共前缀，返回空字符串 \"\"。"
   ]
  },
  {
   "cell_type": "raw",
   "metadata": {},
   "source": [
    "输入: [\"flower\",\"flow\",\"flight\"]\n",
    "输出: \"fl\"\n",
    "\n",
    "输入: [\"dog\",\"racecar\",\"car\"]\n",
    "输出: \"\"\n",
    "解释: 输入不存在公共前缀。"
   ]
  },
  {
   "cell_type": "code",
   "execution_count": 466,
   "metadata": {
    "collapsed": true,
    "scrolled": true
   },
   "outputs": [],
   "source": [
    "class Solution:\n",
    "    def common(self,a,b):\n",
    "        i=0\n",
    "        while i<len(a) and i<len(b) and a[i]==b[i]:\n",
    "            i+=1\n",
    "        return a[0:i]\n",
    "            \n",
    "    def longestCommonPrefix(self, strs):\n",
    "        \"\"\"\n",
    "        :type strs: List[str]\n",
    "        :rtype: str\n",
    "        \"\"\"\n",
    "        if len(strs)==0:\n",
    "            return ''\n",
    "        if len(strs)==1:\n",
    "            return strs[0]\n",
    "        maxcommon=self.common(strs[0],strs[1])\n",
    "        for i in range(1,len(strs)):\n",
    "            maxcommon=self.common(maxcommon,strs[i])\n",
    "        return maxcommon\n",
    "        "
   ]
  },
  {
   "cell_type": "code",
   "execution_count": 476,
   "metadata": {
    "collapsed": true,
    "scrolled": true
   },
   "outputs": [
    {
     "name": "stdout",
     "output_type": "stream",
     "text": [
      "fl\n"
     ]
    }
   ],
   "source": [
    "a=Solution()\n",
    "b=[\"flower\",\"flow\",\"flight\"]\n",
    "c=a.longestCommonPrefix(b)\n",
    "print(c)"
   ]
  },
  {
   "cell_type": "code",
   "execution_count": 506,
   "metadata": {
    "collapsed": true,
    "scrolled": true
   },
   "outputs": [
    {
     "name": "stdout",
     "output_type": "stream",
     "text": [
      "a\n"
     ]
    }
   ],
   "source": [
    "if 'a'>'1':\n",
    "    print('a')"
   ]
  },
  {
   "cell_type": "code",
   "execution_count": 477,
   "metadata": {
    "collapsed": true,
    "scrolled": true
   },
   "outputs": [
    {
     "name": "stdout",
     "output_type": "stream",
     "text": [
      "fl\n"
     ]
    }
   ],
   "source": [
    "#也可以用到zip函数，set函数加快运算\n",
    "class Solution:\n",
    "    def longestCommonPrefix(self, strs):\n",
    "        prefix = ''\n",
    "        for item in list(zip(*strs)):\n",
    "            if len(set(item)) > 1:\n",
    "                return prefix\n",
    "            else:\n",
    "                prefix += item[0]\n",
    "        return prefix\n",
    "\n",
    "a=Solution()\n",
    "b=[\"flower\",\"flow\",\"flight\"]\n",
    "c=a.longestCommonPrefix(b)\n",
    "print(c)"
   ]
  },
  {
   "cell_type": "markdown",
   "metadata": {},
   "source": [
    "附记：\n",
    "- zip(a,b....)：输入n个list，取每个list前一个，组成一个tuble，再取每个list第二个，组成一个tuble。。。将这些tuble何伟一个list\n",
    "- zip([(a),(b)]): 输入一个list，取list第一个tuble，里面分别为输出list的第一个,,,,具体过程为zip反向\n",
    "- set():无序不重复元素组，可以进行交集，并集，差集"
   ]
  },
  {
   "cell_type": "code",
   "execution_count": 513,
   "metadata": {
    "collapsed": true,
    "scrolled": true
   },
   "outputs": [
    {
     "name": "stdout",
     "output_type": "stream",
     "text": [
      "abc\n"
     ]
    }
   ],
   "source": [
    "#最简方法\n",
    "class Solution:\n",
    "    def longestCommonPrefix(self, strs):\n",
    "        if len(strs)==0 or len(strs)==1:\n",
    "            return strs\n",
    "        prefix = ''\n",
    "        a=min(strs)\n",
    "        b=max(strs)\n",
    "        for i in range(len(a)):\n",
    "            if a[i]!=b[i]:\n",
    "                return a[0:i]\n",
    "        return a\n",
    "\n",
    "a=Solution()\n",
    "b=[\"abc\",\"abc\"]\n",
    "c=a.longestCommonPrefix(b)\n",
    "print(c)"
   ]
  },
  {
   "cell_type": "code",
   "execution_count": 511,
   "metadata": {
    "collapsed": true,
    "scrolled": true
   },
   "outputs": [
    {
     "data": {
      "text/plain": [
       "''"
      ]
     },
     "execution_count": 511,
     "metadata": {},
     "output_type": "execute_result"
    }
   ],
   "source": [
    "b=[\"\",\"\"]"
   ]
  },
  {
   "cell_type": "markdown",
   "metadata": {},
   "source": [
    "附记：\n",
    "- 注意min,max 与str结合的用法"
   ]
  },
  {
   "cell_type": "markdown",
   "metadata": {},
   "source": [
    "## 2018-10-23 3Sum 三数之和\n",
    "\n",
    "- 给定一个包含 n 个整数的数组 nums，判断 nums 中是否存在三个元素 a，b，c ，使得 a + b + c = 0 ？找出所有满足条件且不重复的三元组。\n",
    "\n",
    "- 注意：答案中不可以包含重复的三元组。"
   ]
  },
  {
   "cell_type": "raw",
   "metadata": {},
   "source": [
    "例如, 给定数组 nums = [-1, 0, 1, 2, -1, -4]，\n",
    "\n",
    "满足要求的三元组集合为：\n",
    "[\n",
    "  [-1, 0, 1],\n",
    "  [-1, -1, 2]\n",
    "]"
   ]
  },
  {
   "cell_type": "code",
   "execution_count": 144,
   "metadata": {
    "collapsed": true,
    "scrolled": true
   },
   "outputs": [],
   "source": [
    "class Solution:\n",
    "    def threeSum(self, nums):\n",
    "        \"\"\"\n",
    "        :type nums: List[int]\n",
    "        :rtype: List[List[int]]\n",
    "        \"\"\"\n",
    "\n",
    "        nums.sort()\n",
    "        result=[]\n",
    "        for i in range(len(nums)-2):\n",
    "            if nums[i]>0:\n",
    "                break\n",
    "            if i>0 and nums[i]==nums[i-1]:\n",
    "                continue\n",
    "            j,k=i+1,len(nums)-1\n",
    "            while j<k:\n",
    "                s=nums[i]+nums[j]+nums[k]\n",
    "                if s<0:\n",
    "                    j+=1\n",
    "                    while j<k and nums[j]==nums[j-1]:\n",
    "                        j+=1\n",
    "                elif s>0:\n",
    "                    k-=1\n",
    "                    while j<k and nums[k]==nums[k+1]:\n",
    "                        k-=1\n",
    "                else:\n",
    "                    result.append([nums[i],nums[j],nums[k]])\n",
    "                    j+=1\n",
    "                    k-=1\n",
    "                    while j<k and nums[j]==nums[j-1]:\n",
    "                        j+=1  \n",
    "                    while j<k and nums[k]==nums[k+1]:\n",
    "                        k-=1   \n",
    "\n",
    "        return result"
   ]
  },
  {
   "cell_type": "code",
   "execution_count": 145,
   "metadata": {
    "collapsed": true,
    "scrolled": true
   },
   "outputs": [
    {
     "name": "stdout",
     "output_type": "stream",
     "text": [
      "[[-1, -1, 2], [-1, 0, 1]]\n"
     ]
    }
   ],
   "source": [
    "a=Solution()\n",
    "b=[-1, 0, 1, 2, -1, -4]\n",
    "c=a.threeSum(b)\n",
    "print(c)"
   ]
  },
  {
   "cell_type": "code",
   "execution_count": 673,
   "metadata": {
    "collapsed": true,
    "scrolled": true
   },
   "outputs": [],
   "source": [
    "#可以通过字典提高运算速度\n",
    "class Solution:\n",
    "    def threeSum(self, nums):\n",
    "        \"\"\"\n",
    "        :type nums: List[int]\n",
    "        :rtype: List[List[int]]\n",
    "        \"\"\"\n",
    "        d = {}\n",
    "        result = []\n",
    "        \n",
    "        for n in nums:\n",
    "            d[n] = d.get(n, 0) + 1\n",
    "        \n",
    "        pos = {p for p in nums if p > 0}\n",
    "        neg = {n for n in nums if n < 0}\n",
    "        \n",
    "        if d.get(0, 0) >= 3:\n",
    "            result.append([0, 0, 0])\n",
    "            \n",
    "        for p in pos:\n",
    "            for n in neg:\n",
    "                i = -p-n\n",
    "                if i not in d:\n",
    "                    continue\n",
    "                if i == 0 and d[i] > 0:\n",
    "                    result.append([0, p, n])\n",
    "                elif i == p and d[p] > 1:\n",
    "                    result.append([n, p, p])\n",
    "                elif i == n and d[n] > 1:\n",
    "                    result.append([n, n, p])\n",
    "                elif i > p or i < n:\n",
    "                    result.append([i, p, n])\n",
    "                \n",
    "        return result\n",
    "                    "
   ]
  },
  {
   "cell_type": "code",
   "execution_count": 148,
   "metadata": {
    "collapsed": true,
    "scrolled": true
   },
   "outputs": [
    {
     "name": "stdout",
     "output_type": "stream",
     "text": [
      "[[3, 1, -4], [-4, 2, 2]]\n"
     ]
    }
   ],
   "source": [
    "a=Solution()\n",
    "b=[-4,0,1,2,2,2,2,2,2,3]\n",
    "c=a.threeSum(b)\n",
    "print(c)"
   ]
  },
  {
   "cell_type": "code",
   "execution_count": 152,
   "metadata": {
    "collapsed": true,
    "scrolled": true
   },
   "outputs": [
    {
     "name": "stdout",
     "output_type": "stream",
     "text": [
      "{1, 2, 3}\n",
      "[1, 2, 2, 2, 2, 2, 2, 3]\n"
     ]
    }
   ],
   "source": [
    "nums=[-4,0,1,2,2,2,2,2,2,3]\n",
    "pos = {p for p in nums if p > 0}\n",
    "print(pos)\n",
    "pos=[p for p in nums if p>0]\n",
    "print(pos)"
   ]
  },
  {
   "cell_type": "markdown",
   "metadata": {},
   "source": [
    "- 注意字典在这里的用法，其中pos与neg是set,特别注意上面的区别"
   ]
  },
  {
   "cell_type": "markdown",
   "metadata": {},
   "source": [
    "## 2018-10-24 3Sum Closest 最接近三数之和\n",
    "\n",
    "- 给定一个包括 n 个整数的数组 nums 和 一个目标值 target。找出 nums 中的三个整数，使得它们的和与 target 最接近。返回这三个数的和。假定每组输入只存在唯一答案。"
   ]
  },
  {
   "cell_type": "raw",
   "metadata": {},
   "source": [
    "例如，给定数组 nums = [-1，2，1，-4], 和 target = 1.\n",
    "\n",
    "与 target 最接近的三个数的和为 2. (-1 + 2 + 1 = 2)."
   ]
  },
  {
   "cell_type": "code",
   "execution_count": 538,
   "metadata": {
    "collapsed": true,
    "scrolled": true
   },
   "outputs": [],
   "source": [
    "class Solution:\n",
    "    def threeSumClosest(self, nums, target):\n",
    "        \"\"\"\n",
    "        :type nums: List[int]\n",
    "        :type target: int\n",
    "        :rtype: int\n",
    "        \"\"\"\n",
    "        nums.sort()\n",
    "        temp=[99999,3]\n",
    "        for i in range(len(nums)-2):\n",
    "            if i>0 and nums[i]==nums[i-1]:\n",
    "                continue\n",
    "            j=i+1\n",
    "            k=len(nums)-1            \n",
    "            while j<k:\n",
    "                s=nums[i]+nums[j]+nums[k]\n",
    "                if abs(s-target)<temp[0]:\n",
    "                    temp[0]=abs(s-target)\n",
    "                    temp[1]=s\n",
    "                if s<target:\n",
    "                    j+=1\n",
    "                if s>target:\n",
    "                    k-=1\n",
    "                if s==target:\n",
    "                    return target\n",
    "        return temp[1]"
   ]
  },
  {
   "cell_type": "code",
   "execution_count": 539,
   "metadata": {
    "collapsed": true,
    "scrolled": true
   },
   "outputs": [
    {
     "name": "stdout",
     "output_type": "stream",
     "text": [
      "2\n"
     ]
    }
   ],
   "source": [
    "a=Solution()\n",
    "b=[-1,2,1,-4]\n",
    "c=a.threeSumClosest(b,1)\n",
    "print(c)"
   ]
  },
  {
   "cell_type": "markdown",
   "metadata": {},
   "source": [
    "## 2018-10-24 3 Letter Combinations of a Phone Number 电话号码字母组合\n",
    "\n",
    "- 给定一个仅包含数字 2-9 的字符串，返回所有它能表示的字母组合。\n",
    "\n",
    "- 给出数字到字母的映射如下（与电话按键相同）。注意 1 不对应任何字母。\n",
    "- {2:'abc',3:'def',4:'ghi',5:'jkl',6:'mno',7:'pqrs',8:'tuv',9:'wxyz'}"
   ]
  },
  {
   "cell_type": "raw",
   "metadata": {},
   "source": [
    "输入：\"23\"\n",
    "输出：[\"ad\", \"ae\", \"af\", \"bd\", \"be\", \"bf\", \"cd\", \"ce\", \"cf\"]."
   ]
  },
  {
   "cell_type": "code",
   "execution_count": 72,
   "metadata": {
    "collapsed": true,
    "scrolled": true
   },
   "outputs": [],
   "source": [
    "class Solution:\n",
    "    def __init__(self):\n",
    "        self.mapping={'2': 'abc', '3': 'def', '4': 'ghi', '5': 'jkl','6': 'mno', '7': 'pqrs', '8': 'tuv', '9': 'wxyz'}\n",
    "    def letterCombinations(self, digits):\n",
    "        \"\"\"\n",
    "        :type digits: str\n",
    "        :rtype: List[str]\n",
    "        \"\"\"\n",
    "        if len(digits) == 0:\n",
    "            return []\n",
    "        if len(digits) == 1:\n",
    "            return list(self.mapping[digits[0]])\n",
    "        prev = self.letterCombinations(digits[:-1])\n",
    "        additional = self.mapping[digits[-1]]\n",
    "        return [s + c for s in prev for c in additional]"
   ]
  },
  {
   "cell_type": "code",
   "execution_count": 73,
   "metadata": {
    "collapsed": true,
    "scrolled": true
   },
   "outputs": [
    {
     "name": "stdout",
     "output_type": "stream",
     "text": [
      "['adg', 'adh', 'adi', 'aeg', 'aeh', 'aei', 'afg', 'afh', 'afi', 'bdg', 'bdh', 'bdi', 'beg', 'beh', 'bei', 'bfg', 'bfh', 'bfi', 'cdg', 'cdh', 'cdi', 'ceg', 'ceh', 'cei', 'cfg', 'cfh', 'cfi']\n"
     ]
    }
   ],
   "source": [
    "a=Solution()\n",
    "b='234'\n",
    "c=a.letterCombinations(b)\n",
    "print(c)"
   ]
  },
  {
   "cell_type": "markdown",
   "metadata": {},
   "source": [
    "- 注意迭代思想，每次都是加一个"
   ]
  },
  {
   "cell_type": "code",
   "execution_count": 74,
   "metadata": {
    "collapsed": true,
    "scrolled": true
   },
   "outputs": [],
   "source": [
    "class Solution:\n",
    "    def letterCombinations(self, digits):\n",
    "        \"\"\"\n",
    "        :type digits: str\n",
    "        :rtype: List[str]\n",
    "        \"\"\"\n",
    "        if digits is None or digits == \"\":\n",
    "            return []\n",
    "        \n",
    "        digit_dict = {\"2\":\"abc\",\"3\":\"def\",\"4\":\"ghi\",\"5\":\"jkl\",\"6\":\"mno\",\"7\":\"pqrs\",\"8\":\"tuv\",\"9\":\"wxyz\"}\n",
    "        letters_list = [digit_dict[d] for d in digits]\n",
    "        result = [\"\"]\n",
    "        for letters in letters_list:\n",
    "            new_result = []\n",
    "            for l in letters:\n",
    "                for r in result:\n",
    "                    new_result.append(r+l)\n",
    "            result = new_result\n",
    "            \n",
    "        return result\n",
    "#也可以用这个，速度会更快"
   ]
  },
  {
   "cell_type": "markdown",
   "metadata": {},
   "source": [
    "## 2018-10-25 4 Sums 四数之和\n",
    "\n",
    "- 给定一个包含 n 个整数的数组 nums 和一个目标值 target，判断 nums 中是否存在四个元素 a，b，c 和 d ，使得 a + b + c + d 的值与 target 相等？找出所有满足条件且不重复的四元组。\n",
    "\n",
    "- 注意：\n",
    "\n",
    "- 答案中不可以包含重复的四元组。"
   ]
  },
  {
   "cell_type": "raw",
   "metadata": {},
   "source": [
    "给定数组 nums = [1, 0, -1, 0, -2, 2]，和 target = 0。\n",
    "\n",
    "满足要求的四元组集合为：\n",
    "[\n",
    "  [-1,  0, 0, 1],\n",
    "  [-2, -1, 1, 2],\n",
    "  [-2,  0, 0, 2]\n",
    "]"
   ]
  },
  {
   "cell_type": "code",
   "execution_count": 6,
   "metadata": {
    "collapsed": true,
    "scrolled": true
   },
   "outputs": [],
   "source": [
    "class Solution:\n",
    "    def fourSum(self, nums, target):\n",
    "        \"\"\"\n",
    "        :type nums: List[int]\n",
    "        :type target: int\n",
    "        :rtype: List[List[int]]\n",
    "        \"\"\"\n",
    "        nums.sort()\n",
    "        l1={}#存储重复个数\n",
    "        l2={}#储存两两之和\n",
    "        result=[]\n",
    "        for i in nums:\n",
    "            l1[i]=l1.get(i,0)+1\n",
    "        for i in range(len(nums)):\n",
    "            for j in range(i+1,len(nums)):\n",
    "                if (nums[i]+nums[j]) in l2:\n",
    "                    if [nums[i],nums[j]]in l2[nums[i]+nums[j]] or [nums[j],nums[i]] in l2[nums[i]+nums[j]]:\n",
    "                        continue\n",
    "                    a=l2[nums[i]+nums[j]]\n",
    "                    a.append([nums[i],nums[j]])\n",
    "                    l2[nums[i]+nums[j]]=a\n",
    "                else:\n",
    "                    l2[nums[i]+nums[j]]=[[nums[i],nums[j]]]\n",
    "        pos={p for p in nums}\n",
    "        for i in pos:\n",
    "            for j in pos:\n",
    "                t=target-i-j\n",
    "                if t not in l2:\n",
    "                    continue\n",
    "                for k in l2[t]:\n",
    "                    temp=len(set([k[0],k[1],i,j]))\n",
    "                    temp1=[k[0],k[1],i,j]\n",
    "                    temp1.sort()\n",
    "                    if temp1 in result:\n",
    "                        continue\n",
    "                    if temp==3:\n",
    "                        if k[0]==i and k[0]!=j and k[1]!=i and k[1]!=j and l1[i]>1:\n",
    "                            result.append(temp1)\n",
    "                        elif k[0]!=i and k[0]==j and k[1]!=i and k[1]!=j and l1[j]>1:\n",
    "                            result.append(temp1)\n",
    "                        elif k[0]!=i and k[0]!=j and k[1]==i and k[1]!=j and l1[i]>1:\n",
    "                            result.append(temp1)\n",
    "                        elif k[0]!=i and k[0]!=j and k[1]!=i and k[1]==j and l1[j]>1:\n",
    "                            result.append(temp1)\n",
    "                        elif k[0]==i and k[0]!=j and k[1]!=i and k[1]==j and l1[j]>1 and l1[i]>1:\n",
    "                            result.append(temp1)\n",
    "                        elif k[0]!=i and k[0]==j and k[1]==i and k[1]!=j and l1[j]>1 and l1[i]>1:\n",
    "                            result.append(temp1)\n",
    "                        elif k[0]==k[1] and l1[k[0]]>1:\n",
    "                            result.append(temp1)\n",
    "                    elif temp==4:\n",
    "                        result.append(temp1)\n",
    "                    elif temp==2:\n",
    "                        if j==k[0] and k[0]==k[1] and l1[j]>2:\n",
    "                            result.append(temp1)\n",
    "                        elif i==k[0] and k[0]==k[1] and l1[i]>2:\n",
    "                            result.append(temp1)\n",
    "                        elif i==k[0] and j==k[1] and l1[i]>1 and l1[j]>1:\n",
    "                            result.append(temp1)\n",
    "                        elif j==k[0] and i==k[1] and l1[i]>1 and l1[j]>1:\n",
    "                            result.append(temp1)\n",
    "                    elif temp==1 and l1[i]==4:\n",
    "                        result.append(temp1)\n",
    "                        \n",
    "\n",
    "                        \n",
    "        return result"
   ]
  },
  {
   "cell_type": "code",
   "execution_count": 7,
   "metadata": {
    "collapsed": true,
    "scrolled": true
   },
   "outputs": [
    {
     "data": {
      "text/plain": [
       "[[-4, 0, 1, 2], [-1, -1, 0, 1]]"
      ]
     },
     "execution_count": 7,
     "metadata": {},
     "output_type": "execute_result"
    }
   ],
   "source": [
    "a=Solution()\n",
    "b=[-1,0,1,2,-1,-4]\n",
    "c=a.fourSum(b,-1)\n",
    "c"
   ]
  },
  {
   "cell_type": "code",
   "execution_count": null,
   "metadata": {
    "collapsed": true,
    "scrolled": true
   },
   "outputs": [],
   "source": [
    "class Solution:\n",
    "    def fourSum(self, nums, target):\n",
    "        \"\"\"\n",
    "        :type nums: List[int]\n",
    "        :type target: int\n",
    "        :rtype: List[List[int]]\n",
    "        \"\"\"\n",
    "        def findNsum(nums, target, N, result, results):\n",
    "            if len(nums) < N or N < 2 or target < nums[0]*N or target > nums[-1]*N:  # early termination\n",
    "                return\n",
    "            if N == 2: # two pointers solve sorted 2-sum problem\n",
    "                l,r = 0,len(nums)-1\n",
    "                while l < r:\n",
    "                    s = nums[l] + nums[r]\n",
    "                    if s == target:\n",
    "                        results.append(result + [nums[l], nums[r]])\n",
    "                        l += 1\n",
    "                        while l < r and nums[l] == nums[l-1]:\n",
    "                            l += 1\n",
    "                    elif s < target:\n",
    "                        l += 1\n",
    "                    else:\n",
    "                        r -= 1\n",
    "            else: # recursively reduce N\n",
    "                for i in range(len(nums)-N+1):\n",
    "                    if i == 0 or (i > 0 and nums[i-1] != nums[i]):\n",
    "                        findNsum(nums[i+1:], target-nums[i], N-1, result+[nums[i]], results)\n",
    "        results = []\n",
    "        findNsum(sorted(nums), target, 4, [], results)\n",
    "        return results"
   ]
  },
  {
   "cell_type": "markdown",
   "metadata": {},
   "source": [
    "- 也可以用迭代+两数之和来做,但特别要注意函数变量的特性，注意区分下面两种："
   ]
  },
  {
   "cell_type": "code",
   "execution_count": 13,
   "metadata": {
    "collapsed": true,
    "scrolled": true
   },
   "outputs": [
    {
     "name": "stdout",
     "output_type": "stream",
     "text": [
      "3 7\n"
     ]
    }
   ],
   "source": [
    "def a(b,c):\n",
    "    b=b-3\n",
    "    c+=9\n",
    "b=3\n",
    "c=7\n",
    "a(b,c)\n",
    "print(b,c)"
   ]
  },
  {
   "cell_type": "code",
   "execution_count": 14,
   "metadata": {
    "collapsed": true,
    "scrolled": true
   },
   "outputs": [
    {
     "name": "stdout",
     "output_type": "stream",
     "text": [
      "[4, 3] [6, 'sdf']\n"
     ]
    }
   ],
   "source": [
    "def a(b,c):\n",
    "    b.append(3)\n",
    "    c.append('sdf')\n",
    "b=[4]\n",
    "c=[6]\n",
    "a(b,c)\n",
    "print(b,c)"
   ]
  },
  {
   "cell_type": "markdown",
   "metadata": {},
   "source": [
    "## 2018-10-26 Remove Nth Node From End of List 删除链表的倒数第N个节点\n",
    "\n",
    "- 给定一个链表，删除链表的倒数第 n 个节点，并且返回链表的头结点。\n",
    "- 说明：\n",
    "- 给定的 n 保证是有效的。"
   ]
  },
  {
   "cell_type": "raw",
   "metadata": {},
   "source": [
    "给定一个链表: 1->2->3->4->5, 和 n = 2.\n",
    "\n",
    "当删除了倒数第二个节点后，链表变为 1->2->3->5."
   ]
  },
  {
   "cell_type": "code",
   "execution_count": 724,
   "metadata": {
    "collapsed": true,
    "scrolled": true
   },
   "outputs": [],
   "source": [
    "# Definition for singly-linked list.\n",
    "# class ListNode:\n",
    "#     def __init__(self, x):\n",
    "#         self.val = x\n",
    "#         self.next = None\n",
    "\n",
    "class Solution:\n",
    "    def a(self,head,n,l):\n",
    "        if head.next==None:\n",
    "            l.append(head)\n",
    "            if n==1:\n",
    "                if len(l)!=1:\n",
    "                    l[-2].next=None\n",
    "                else:\n",
    "                    return []\n",
    "            elif n!=len(l):\n",
    "                temp=l[-n-1]\n",
    "                temp.next=l[-n+1]\n",
    "        else:\n",
    "            l.append(head)\n",
    "            self.a(head.next,n,l)\n",
    "            if n==len(l):\n",
    "                return l[1]\n",
    "            return l[0]\n",
    "            \n",
    "     \n",
    "    def removeNthFromEnd(self, head, n):\n",
    "        \"\"\"\n",
    "        :type head: ListNode\n",
    "        :type n: int\n",
    "        :rtype: ListNode\n",
    "        \"\"\"\n",
    "        return self.a(head,n,[])"
   ]
  },
  {
   "cell_type": "code",
   "execution_count": 726,
   "metadata": {
    "collapsed": true,
    "scrolled": true
   },
   "outputs": [
    {
     "name": "stdout",
     "output_type": "stream",
     "text": [
      "[1,2,3,4,5]\n",
      "1\n",
      "1\n",
      "2\n",
      "3\n",
      "4\n"
     ]
    }
   ],
   "source": [
    "class ListNode:\n",
    "    def __init__(self, x):\n",
    "        self.val = x\n",
    "        self.next = None\n",
    "\n",
    "def change():\n",
    "    temp1=input()\n",
    "    temp3=[]\n",
    "    for i in range(int((len(temp1)-1)/2)):\n",
    "        if i==0:\n",
    "            temp3.append(ListNode(int(temp1[1])))\n",
    "            continue\n",
    "        temp3.append(ListNode(int(temp1[i*2+1])))\n",
    "        temp3[i-1].next=temp3[i]\n",
    "    return temp3[0]\n",
    "def print_node(l):\n",
    "    if l.next!=None:\n",
    "        print(l.val)\n",
    "        print_node(l.next)\n",
    "    else:\n",
    "        print(l.val)\n",
    "\n",
    "l1=change()\n",
    "a=Solution()\n",
    "b=input()\n",
    "c=a.removeNthFromEnd(l1,int(b))\n",
    "print_node(c)"
   ]
  },
  {
   "cell_type": "markdown",
   "metadata": {},
   "source": [
    "## 2018-10-26 Valid Parentheses 有效的括号\n",
    "\n",
    "- 给定一个只包括 '('，')'，'{'，'}'，'['，']' 的字符串，判断字符串是否有效。\n",
    "\n",
    "- 有效字符串需满足：\n",
    "\n",
    "- 左括号必须用相同类型的右括号闭合。\n",
    "- 左括号必须以正确的顺序闭合。\n",
    "- 注意空字符串可被认为是有效字符串。"
   ]
  },
  {
   "cell_type": "raw",
   "metadata": {},
   "source": [
    "输入: \"()\"\n",
    "输出: true\n",
    "\n",
    "输入: \"()[]{}\"\n",
    "输出: true\n",
    "\n",
    "输入: \"(]\"\n",
    "输出: false\n",
    "\n",
    "输入: \"([)]\"\n",
    "输出: false\n",
    "\n",
    "输入: \"{[]}\"\n",
    "输出: true"
   ]
  },
  {
   "cell_type": "code",
   "execution_count": 729,
   "metadata": {
    "collapsed": true,
    "scrolled": true
   },
   "outputs": [],
   "source": [
    "class Solution:\n",
    "    def isValid(self, s):\n",
    "        \"\"\"\n",
    "        :type s: str\n",
    "        :rtype: bool\n",
    "        \"\"\"\n",
    "        left={'{':'}','[':']','(':')'}\n",
    "        right=['}',']',')']\n",
    "        l=''\n",
    "        for i in range(len(s)):\n",
    "            if s[i] in left:\n",
    "                l=l+s[i]\n",
    "            elif s[i] in right:\n",
    "                if l!='' and left[l[-1]]==s[i]:\n",
    "                    l=l[0:-1]\n",
    "                else:\n",
    "                    return False\n",
    "            elif s[i]==' ':\n",
    "                continue\n",
    "            else:\n",
    "                return False\n",
    "        if len(l)==0:\n",
    "            return True\n",
    "        else:\n",
    "            return False"
   ]
  },
  {
   "cell_type": "code",
   "execution_count": 730,
   "metadata": {
    "collapsed": true,
    "scrolled": true
   },
   "outputs": [
    {
     "data": {
      "text/plain": [
       "True"
      ]
     },
     "execution_count": 730,
     "metadata": {},
     "output_type": "execute_result"
    }
   ],
   "source": [
    "a=Solution()\n",
    "b='()[]{}'\n",
    "c=a.isValid(b)\n",
    "c"
   ]
  },
  {
   "cell_type": "markdown",
   "metadata": {},
   "source": [
    "## 2018-10-26 Merge Two Sorted Lists 合并两个链表\n",
    "\n",
    "- 将两个有序链表合并为一个新的有序链表并返回。新链表是通过拼接给定的两个链表的所有节点组成的。 "
   ]
  },
  {
   "cell_type": "raw",
   "metadata": {},
   "source": [
    "输入：1->2->3, 4->5->6\n",
    "输出：1->2->3->4->5->6\n",
    "注意：这里的链表是有序的"
   ]
  },
  {
   "cell_type": "code",
   "execution_count": 3,
   "metadata": {
    "collapsed": true,
    "scrolled": true
   },
   "outputs": [],
   "source": [
    "# Definition for singly-linked list.\n",
    "# class ListNode:\n",
    "#     def __init__(self, x):\n",
    "#         self.val = x\n",
    "#         self.next = None\n",
    "\n",
    "class Solution:\n",
    "    def mergeTwoLists(self, l1, l2):\n",
    "        \"\"\"\n",
    "        :type l1: ListNode\n",
    "        :type l2: ListNode\n",
    "        :rtype: ListNode\n",
    "        \"\"\"\n",
    "        l3=[]\n",
    "        if l1!=None and l2==None:\n",
    "            l3.append(ListNode(l1.val))\n",
    "            temp=l1.next\n",
    "            l1=temp\n",
    "        if l2!=None and l1==None:\n",
    "            l3.append(ListNode(l2.val))\n",
    "            temp=l2.next\n",
    "            l2=temp\n",
    "        if l1!=None and l2!=None:\n",
    "            if l1.val<l2.val:\n",
    "                l3.append(ListNode(l1.val))\n",
    "                temp=l1.next\n",
    "                l1=temp\n",
    "            else:\n",
    "                l3.append(ListNode(l2.val))     \n",
    "                temp=l2.next\n",
    "                l2=temp\n",
    "        while l1 or l2:\n",
    "            if l1==None:\n",
    "                l3.append(ListNode(l2.val))\n",
    "                l3[-2].next=l3[-1]\n",
    "                temp=l2.next\n",
    "                l2=temp\n",
    "            elif l2==None:\n",
    "                l3.append(ListNode(l1.val))\n",
    "                l3[-2].next=l3[-1]\n",
    "                temp=l1.next\n",
    "                l1=temp\n",
    "            else:\n",
    "                if l1.val<l2.val:\n",
    "                    l3.append(ListNode(l1.val))\n",
    "                    l3[-2].next=l3[-1]\n",
    "                    temp=l1.next\n",
    "                    l1=temp\n",
    "                else:\n",
    "                    l3.append(ListNode(l2.val))\n",
    "                    l3[-2].next=l3[-1]\n",
    "                    temp=l2.next\n",
    "                    l2=temp\n",
    "        if len(l3)==0:\n",
    "            return None\n",
    "        return l3[0]\n",
    "    "
   ]
  },
  {
   "cell_type": "code",
   "execution_count": 5,
   "metadata": {
    "collapsed": true,
    "scrolled": true
   },
   "outputs": [
    {
     "name": "stdout",
     "output_type": "stream",
     "text": [
      "[1,2,3,4]\n",
      "[5,6,8]\n",
      "1\n",
      "2\n",
      "3\n",
      "4\n",
      "5\n",
      "6\n",
      "8\n"
     ]
    }
   ],
   "source": [
    "class ListNode:\n",
    "    def __init__(self, x):\n",
    "        self.val = x\n",
    "        self.next = None\n",
    "\n",
    "def change():\n",
    "    temp1=input()\n",
    "    temp3=[]\n",
    "    for i in range(int((len(temp1)-1)/2)):\n",
    "        if i==0:\n",
    "            temp3.append(ListNode(int(temp1[1])))\n",
    "            continue\n",
    "        temp3.append(ListNode(int(temp1[i*2+1])))\n",
    "        temp3[i-1].next=temp3[i]\n",
    "    return temp3[0]\n",
    "def print_node(l):\n",
    "    if l.next!=None:\n",
    "        print(l.val)\n",
    "        print_node(l.next)\n",
    "    else:\n",
    "        print(l.val)\n",
    "\n",
    "l1=change()\n",
    "l2=change()\n",
    "a=Solution()\n",
    "c=a.mergeTwoLists(l1,l2)\n",
    "print_node(c)"
   ]
  },
  {
   "cell_type": "markdown",
   "metadata": {},
   "source": [
    "## 2018-10-27 Generate Parentheses 括号生成\n",
    "\n",
    "\n",
    "- 给出 n 代表生成括号的对数，请你写出一个函数，使其能够生成所有可能的并且有效的括号组合。\n"
   ]
  },
  {
   "cell_type": "raw",
   "metadata": {},
   "source": [
    "例如，给出 n = 3，生成结果为：\n",
    "[\n",
    "  \"((()))\",\n",
    "  \"(()())\",\n",
    "  \"(())()\",\n",
    "  \"()(())\",\n",
    "  \"()()()\"\n",
    "]"
   ]
  },
  {
   "cell_type": "code",
   "execution_count": 783,
   "metadata": {
    "collapsed": true,
    "scrolled": true
   },
   "outputs": [],
   "source": [
    "class Solution:\n",
    "    def a(self,p,b,n,result,m):\n",
    "        if n>0:\n",
    "            l=p+2+len(m)\n",
    "            for j in range(len(m)-1):\n",
    "                l=l-m[j+1]+m[j]+1\n",
    "            for i in range(p+1,min(l,len(b)-1)):\n",
    "                self.a(i,b[0:i]+'('+b[i+1:len(b)],n-1,result,m+[i])\n",
    "        elif n==0:\n",
    "            result.append(b)                \n",
    "    def generateParenthesis(self,n):\n",
    "        \"\"\"\n",
    "        :type n: int\n",
    "        :rtype: List[str]\n",
    "        \"\"\"\n",
    "        b='('\n",
    "        for i in range(2*n-1):\n",
    "            b=b+')'\n",
    "        result=[]\n",
    "        self.a(0,b,n-1,result,[0])\n",
    "        return result"
   ]
  },
  {
   "cell_type": "code",
   "execution_count": 785,
   "metadata": {
    "collapsed": true,
    "scrolled": true
   },
   "outputs": [
    {
     "data": {
      "text/plain": [
       "['(((())))',\n",
       " '((()()))',\n",
       " '((())())',\n",
       " '((()))()',\n",
       " '(()(()))',\n",
       " '(()()())',\n",
       " '(()())()',\n",
       " '(())(())',\n",
       " '(())()()',\n",
       " '()((()))',\n",
       " '()(()())',\n",
       " '()(())()',\n",
       " '()()(())',\n",
       " '()()()()']"
      ]
     },
     "execution_count": 785,
     "metadata": {},
     "output_type": "execute_result"
    }
   ],
   "source": [
    "a=Solution()\n",
    "b=4\n",
    "a.generateParenthesis(b)"
   ]
  },
  {
   "cell_type": "code",
   "execution_count": null,
   "metadata": {
    "collapsed": true,
    "scrolled": true
   },
   "outputs": [],
   "source": [
    "#另一种方法：每次在括号前后找位置添加\n",
    "class Solution:\n",
    "    def generateParenthesis(self, n):\n",
    "        \"\"\"\n",
    "        :type n: int\n",
    "        :rtype: List[str]\n",
    "        \"\"\"\n",
    "        \n",
    "        s = set([\"\"])\n",
    "        for i in range(n):\n",
    "            new_s = set()\n",
    "            for string in s:\n",
    "                for j in range(len(string)):\n",
    "                    new_s.add(string[:j]+\"()\"+string[j:])\n",
    "                new_s.add(string+\"()\")\n",
    "            s = new_s\n",
    "        return list(s)"
   ]
  },
  {
   "cell_type": "markdown",
   "metadata": {},
   "source": [
    "- 注意迭代变量不能命名，list迭代过程中使用+即可"
   ]
  },
  {
   "cell_type": "markdown",
   "metadata": {},
   "source": [
    "## 2018-10-29 Merge k Sorted Lists 合并k个排序列表\n",
    "\n",
    "\n",
    "- 合并 k 个排序链表，返回合并后的排序链表。请分析和描述算法的复杂度。\n"
   ]
  },
  {
   "cell_type": "raw",
   "metadata": {},
   "source": [
    "输入:\n",
    "[\n",
    "  1->4->5,\n",
    "  1->3->4,\n",
    "  2->6\n",
    "]\n",
    "输出: 1->1->2->3->4->4->5->6"
   ]
  },
  {
   "cell_type": "code",
   "execution_count": 841,
   "metadata": {
    "collapsed": true,
    "scrolled": true
   },
   "outputs": [],
   "source": [
    "class Solution:\n",
    "    def mergeKLists(self, lists):\n",
    "        \"\"\"\n",
    "        :type lists: List[ListNode]\n",
    "        :rtype: ListNode\n",
    "        \"\"\"\n",
    "        l=[]\n",
    "        for i in lists:\n",
    "            j=i\n",
    "            while j!=None:\n",
    "                l.append(j)\n",
    "                j=j.next\n",
    "        l.sort(key=lambda obj:obj.val)\n",
    "        for i in range(len(l)-1):\n",
    "            l[i].next=l[i+1]\n",
    "        if len(l)==0:\n",
    "            return None\n",
    "        else:\n",
    "            l[-1].next=None\n",
    "            return l[0]"
   ]
  },
  {
   "cell_type": "code",
   "execution_count": 842,
   "metadata": {
    "collapsed": true,
    "scrolled": true
   },
   "outputs": [
    {
     "name": "stdout",
     "output_type": "stream",
     "text": [
      "1\n",
      "2\n",
      "3\n",
      "4\n",
      "5\n",
      "6\n",
      "7\n"
     ]
    }
   ],
   "source": [
    "class ListNode:\n",
    "    def __init__(self, x):\n",
    "        self.val = x\n",
    "        self.next = None\n",
    "\n",
    "def change():\n",
    "    #temp1=input()\n",
    "    temp1='[1,2,3][4,5,6,7]'\n",
    "    i=0\n",
    "    lists=[]\n",
    "    while i<len(temp1):\n",
    "        if temp1[i]=='[':\n",
    "            i=i+1\n",
    "            temp3=[]\n",
    "            while temp1[i]!=']':\n",
    "                if temp1[i]!=',':\n",
    "                    if len(temp3)==0:\n",
    "                        temp3.append(ListNode(int(temp1[i])))\n",
    "                        i=i+1\n",
    "                        continue\n",
    "                    else:\n",
    "                        temp3.append(ListNode(int(temp1[i])))\n",
    "                        temp3[-2].next=temp3[-1]\n",
    "                        i=i+1\n",
    "                else:\n",
    "                    i=i+1\n",
    "            if len(temp3)==0:\n",
    "                return []\n",
    "            lists.append(temp3[0])\n",
    "            i=i+1\n",
    "        else:\n",
    "            i=i+1\n",
    "    return lists\n",
    "\n",
    "def print_node(l):\n",
    "    if l.next!=None:\n",
    "        print(l.val)\n",
    "        print_node(l.next)\n",
    "    else:\n",
    "        print(l.val)\n",
    "\n",
    "l=change()\n",
    "\n",
    "a=Solution()\n",
    "c=a.mergeKLists(l)\n",
    "print_node(c)"
   ]
  },
  {
   "cell_type": "markdown",
   "metadata": {},
   "source": [
    "## 2018-10-30 Swap Nodes in Pairs 将链表两两交换\n",
    "\n",
    "\n",
    "- 给定一个链表，两两交换其中相邻的节点，并返回交换后的链表。\n",
    "- 你的算法只能使用常数的额外空间。\n",
    "- 你不能只是单纯的改变节点内部的值，而是需要实际的进行节点交换。\n",
    "\n"
   ]
  },
  {
   "cell_type": "raw",
   "metadata": {},
   "source": [
    "给定 1->2->3->4, 你应该返回 2->1->4->3."
   ]
  },
  {
   "cell_type": "code",
   "execution_count": 853,
   "metadata": {
    "collapsed": true,
    "scrolled": true
   },
   "outputs": [],
   "source": [
    "class Solution:\n",
    "    def swapPairs(self, head):\n",
    "        \"\"\"\n",
    "        :type head: ListNode\n",
    "        :rtype: ListNode\n",
    "        \"\"\"\n",
    "        l=[]\n",
    "        while head!=None and head.next!=None:\n",
    "            l.append(head.next)\n",
    "            l.append(head)\n",
    "            head=head.next.next\n",
    "        if len(l)==0:\n",
    "            l.append(head)\n",
    "        if len(l)==1:\n",
    "            return l[0]\n",
    "        if l[-2].next!=None:\n",
    "            l.append(l[-2].next)\n",
    "        for i in range(len(l)-1):\n",
    "            l[i].next=l[i+1]\n",
    "        l[-1].next=None\n",
    "        return l[0]"
   ]
  },
  {
   "cell_type": "code",
   "execution_count": 854,
   "metadata": {
    "collapsed": true,
    "scrolled": true
   },
   "outputs": [
    {
     "name": "stdout",
     "output_type": "stream",
     "text": [
      "[1,2,3]\n",
      "2\n",
      "1\n",
      "3\n"
     ]
    }
   ],
   "source": [
    "class ListNode:\n",
    "    def __init__(self, x):\n",
    "        self.val = x\n",
    "        self.next = None\n",
    "\n",
    "def change():\n",
    "    temp1=input()\n",
    "    temp3=[]\n",
    "    for i in range(int((len(temp1)-1)/2)):\n",
    "        if i==0:\n",
    "            temp3.append(ListNode(int(temp1[1])))\n",
    "            continue\n",
    "        temp3.append(ListNode(int(temp1[i*2+1])))\n",
    "        temp3[i-1].next=temp3[i]\n",
    "    if len(temp3)==0:\n",
    "        return None\n",
    "    return temp3[0]\n",
    "def print_node(l):\n",
    "    if l.next!=None:\n",
    "        print(l.val)\n",
    "        print_node(l.next)\n",
    "    else:\n",
    "        print(l.val)\n",
    "\n",
    "l1=change()\n",
    "a=Solution()\n",
    "c=a.swapPairs(l1)\n",
    "print_node(c)"
   ]
  },
  {
   "cell_type": "markdown",
   "metadata": {},
   "source": [
    "## 2018-10-30 Reverse Nodes in k-Group  k个一组翻转链表\n",
    "\n",
    "\n",
    "- 给出一个链表，每 k 个节点一组进行翻转，并返回翻转后的链表。\n",
    "\n",
    "- k 是一个正整数，它的值小于或等于链表的长度。如果节点总数不是 k 的整数倍，那么将最后剩余节点保持原有顺序。\n"
   ]
  },
  {
   "cell_type": "raw",
   "metadata": {},
   "source": [
    "给定这个链表：1->2->3->4->5\n",
    "\n",
    "当 k = 2 时，应当返回: 2->1->4->3->5\n",
    "\n",
    "当 k = 3 时，应当返回: 3->2->1->4->5"
   ]
  },
  {
   "cell_type": "code",
   "execution_count": 878,
   "metadata": {
    "collapsed": true,
    "scrolled": true
   },
   "outputs": [],
   "source": [
    "class Solution:\n",
    "    def reverseKGroup(self, head, k):\n",
    "        \"\"\"\n",
    "        :type head: ListNode\n",
    "        :type k: int\n",
    "        :rtype: ListNode\n",
    "        \"\"\"\n",
    "        l=[]\n",
    "        result=[]\n",
    "        if head==None:\n",
    "            return None\n",
    "        temp=head\n",
    "        while temp!=None:\n",
    "            l.append(temp.val)\n",
    "            temp1=temp.next\n",
    "            temp=temp1\n",
    "        i=0\n",
    "        while (i+1)*k<=len(l):\n",
    "            for j in range(int(k//2)):\n",
    "                t=l[i*k+k-j-1]\n",
    "                l[i*k+k-j-1]=l[i*k+j]\n",
    "                l[i*k+j]=t\n",
    "            i=i+1\n",
    "        for i in range(len(l)):\n",
    "            if i==0:\n",
    "                result.append(ListNode(l[i]))\n",
    "                continue\n",
    "            result.append(ListNode(l[i]))\n",
    "            result[-2].next=result[-1]\n",
    "        return result[0]"
   ]
  },
  {
   "cell_type": "code",
   "execution_count": 879,
   "metadata": {
    "collapsed": true,
    "scrolled": true
   },
   "outputs": [
    {
     "name": "stdout",
     "output_type": "stream",
     "text": [
      "2\n",
      "1\n",
      "4\n",
      "3\n",
      "6\n",
      "5\n",
      "7\n"
     ]
    }
   ],
   "source": [
    "class ListNode:\n",
    "    def __init__(self, x):\n",
    "        self.val = x\n",
    "        self.next = None\n",
    "\n",
    "def change():\n",
    "    temp1='[1,2,3,4,5,6,7]'\n",
    "    temp3=[]\n",
    "    for i in range(int((len(temp1)-1)/2)):\n",
    "        if i==0:\n",
    "            temp3.append(ListNode(int(temp1[1])))\n",
    "            continue\n",
    "        temp3.append(ListNode(int(temp1[i*2+1])))\n",
    "        temp3[i-1].next=temp3[i]\n",
    "    if len(temp3)==0:\n",
    "        return None\n",
    "    return temp3[0]\n",
    "def print_node(l):\n",
    "    if l.next!=None:\n",
    "        print(l.val)\n",
    "        print_node(l.next)\n",
    "    else:\n",
    "        print(l.val)\n",
    "\n",
    "l1=change()\n",
    "a=Solution()\n",
    "c=a.reverseKGroup(l1,2)\n",
    "print_node(c)"
   ]
  },
  {
   "cell_type": "markdown",
   "metadata": {},
   "source": [
    "## 2018-10-30 Remove Duplicates from Sorted Array  删除排序数组中的重复项\n",
    "\n",
    "\n",
    "- 给定一个排序数组，你需要在原地删除重复出现的元素，使得每个元素只出现一次，返回移除后数组的新长度。\n",
    "\n",
    "- 不要使用额外的数组空间，你必须在原地修改输入数组并在使用 O(1) 额外空间的条件下完成。\n"
   ]
  },
  {
   "cell_type": "raw",
   "metadata": {},
   "source": [
    "给定数组 nums = [1,1,2], \n",
    "\n",
    "函数应该返回新的长度 2, 并且原数组 nums 的前两个元素被修改为 1, 2。 \n",
    "\n",
    "你不需要考虑数组中超出新长度后面的元素。"
   ]
  },
  {
   "cell_type": "raw",
   "metadata": {},
   "source": [
    "给定 nums = [0,0,1,1,1,2,2,3,3,4],\n",
    "\n",
    "函数应该返回新的长度 5, 并且原数组 nums 的前五个元素被修改为 0, 1, 2, 3, 4。\n",
    "\n",
    "你不需要考虑数组中超出新长度后面的元素。"
   ]
  },
  {
   "cell_type": "markdown",
   "metadata": {},
   "source": [
    "为什么返回数值是整数，但输出的答案是数组呢?\n",
    "\n",
    "请注意，输入数组是以“引用”方式传递的，这意味着在函数里修改输入数组对于调用者是可见的。\n",
    "\n",
    "你可以想象内部操作如下:"
   ]
  },
  {
   "cell_type": "raw",
   "metadata": {},
   "source": [
    "// nums 是以“引用”方式传递的。也就是说，不对实参做任何拷贝\n",
    "int len = removeDuplicates(nums);\n",
    "\n",
    "// 在函数里修改输入数组对于调用者是可见的。\n",
    "// 根据你的函数返回的长度, 它会打印出数组中该长度范围内的所有元素。\n",
    "for (int i = 0; i < len; i++) {\n",
    "    print(nums[i]);"
   ]
  },
  {
   "cell_type": "code",
   "execution_count": 884,
   "metadata": {
    "collapsed": true,
    "scrolled": true
   },
   "outputs": [],
   "source": [
    "class Solution:\n",
    "    def removeDuplicates(self, nums):\n",
    "        \"\"\"\n",
    "        :type nums: List[int]\n",
    "        :rtype: int\n",
    "        \"\"\"\n",
    "        if len(nums)==0:\n",
    "            return 0\n",
    "        p=1\n",
    "        for i in range(1,len(nums)):\n",
    "            if nums[i]!=nums[i-1]:\n",
    "                nums[p]=nums[i]\n",
    "                p=p+1\n",
    "        return p"
   ]
  },
  {
   "cell_type": "code",
   "execution_count": 885,
   "metadata": {
    "collapsed": true,
    "scrolled": true
   },
   "outputs": [
    {
     "data": {
      "text/plain": [
       "[0, 1, 2, 3, 4, 2, 2, 3, 3, 4]"
      ]
     },
     "execution_count": 885,
     "metadata": {},
     "output_type": "execute_result"
    }
   ],
   "source": [
    "a=Solution()\n",
    "b=[0,0,1,1,1,2,2,3,3,4]\n",
    "a.removeDuplicates(b)"
   ]
  },
  {
   "cell_type": "markdown",
   "metadata": {},
   "source": [
    "## 2018-10-30 Remove Element 移除元素\n",
    "- 给定一个数组 nums 和一个值 val，你需要原地移除所有数值等于 val 的元素，返回移除后数组的新长度。\n",
    "\n",
    "- 不要使用额外的数组空间，你必须在原地修改输入数组并在使用 O(1) 额外空间的条件下完成。\n",
    "\n",
    "- 元素的顺序可以改变。你不需要考虑数组中超出新长度后面的元素。\n"
   ]
  },
  {
   "cell_type": "raw",
   "metadata": {},
   "source": [
    "给定 nums = [0,1,2,2,3,0,4,2], val = 2,\n",
    "\n",
    "函数应该返回新的长度 5, 并且 nums 中的前五个元素为 0, 1, 3, 0, 4。\n",
    "\n",
    "注意这五个元素可为任意顺序。\n",
    "\n",
    "你不需要考虑数组中超出新长度后面的元素。"
   ]
  },
  {
   "cell_type": "code",
   "execution_count": 896,
   "metadata": {
    "collapsed": true,
    "scrolled": true
   },
   "outputs": [],
   "source": [
    "class Solution:\n",
    "    def removeElement(self, nums, val):\n",
    "        \"\"\"\n",
    "        :type nums: List[int]\n",
    "        :type val: int\n",
    "        :rtype: int\n",
    "        \"\"\"\n",
    "        result=[i for i in nums if i!=val]\n",
    "        n=len(result)\n",
    "        nums[0:n]=result\n",
    "        return n"
   ]
  },
  {
   "cell_type": "code",
   "execution_count": 897,
   "metadata": {
    "collapsed": true,
    "scrolled": true
   },
   "outputs": [
    {
     "data": {
      "text/plain": [
       "2"
      ]
     },
     "execution_count": 897,
     "metadata": {},
     "output_type": "execute_result"
    }
   ],
   "source": [
    "a=Solution()\n",
    "b=[3,2,2,3]\n",
    "a.removeElement(b,2)"
   ]
  },
  {
   "cell_type": "markdown",
   "metadata": {},
   "source": [
    "## 2018-10-30  Implement strStr() 实现strStr()\n",
    "- 实现 strStr() 函数。\n",
    "\n",
    "- 给定一个 haystack 字符串和一个 needle 字符串，在 haystack 字符串中找出 needle 字符串出现的第一个位置 (从0开始)。如果不存在，则返回  -1。"
   ]
  },
  {
   "cell_type": "raw",
   "metadata": {},
   "source": [
    "输入: haystack = \"hello\", needle = \"ll\"\n",
    "输出: 2"
   ]
  },
  {
   "cell_type": "raw",
   "metadata": {},
   "source": [
    "输入: haystack = \"aaaaa\", needle = \"bba\"\n",
    "输出: -1"
   ]
  },
  {
   "cell_type": "markdown",
   "metadata": {},
   "source": [
    "- 当 needle 是空字符串时，我们应当返回什么值呢？这是一个在面试中很好的问题。\n",
    "\n",
    "- 对于本题而言，当 needle 是空字符串时我们应当返回 0 。这与C语言的 strstr() 以及 Java的 indexOf() 定义相符。"
   ]
  },
  {
   "cell_type": "code",
   "execution_count": 905,
   "metadata": {
    "collapsed": true,
    "scrolled": true
   },
   "outputs": [],
   "source": [
    "class Solution:\n",
    "    def strStr(self, haystack, needle):\n",
    "        \"\"\"\n",
    "        :type haystack: str\n",
    "        :type needle: str\n",
    "        :rtype: int\n",
    "        \"\"\"\n",
    "        n=len(needle)\n",
    "        if n==0:\n",
    "            return 0\n",
    "        for i in range(0,len(haystack)-n+1):\n",
    "            if haystack[i:i+n]==needle:\n",
    "                return i\n",
    "        return -1"
   ]
  },
  {
   "cell_type": "code",
   "execution_count": 906,
   "metadata": {
    "collapsed": true,
    "scrolled": true
   },
   "outputs": [
    {
     "data": {
      "text/plain": [
       "4"
      ]
     },
     "execution_count": 906,
     "metadata": {},
     "output_type": "execute_result"
    }
   ],
   "source": [
    "a=Solution()\n",
    "b='hello'\n",
    "a.strStr(b,'o')"
   ]
  },
  {
   "cell_type": "markdown",
   "metadata": {},
   "source": [
    "## 2018-10-30  Divide Two Integers 两数相除\n",
    "- 给定两个整数，被除数 dividend 和除数 divisor。将两数相除，要求不使用乘法、除法和 mod 运算符。\n",
    "\n",
    "- 返回被除数 dividend 除以除数 divisor 得到的商。"
   ]
  },
  {
   "cell_type": "raw",
   "metadata": {},
   "source": [
    "输入: dividend = 10, divisor = 3\n",
    "输出: 3"
   ]
  },
  {
   "cell_type": "raw",
   "metadata": {},
   "source": [
    "输入: dividend = 7, divisor = -3\n",
    "输出: -2"
   ]
  },
  {
   "cell_type": "markdown",
   "metadata": {},
   "source": [
    "被除数和除数均为 32 位有符号整数。\n",
    "除数不为 0。\n",
    "假设我们的环境只能存储 32 位有符号整数，其数值范围是 $[−2^{31},  2^{31} − 1]$。本题中，如果除法结果溢出，则返回 $2^{31} − 1$。"
   ]
  },
  {
   "cell_type": "code",
   "execution_count": 933,
   "metadata": {
    "collapsed": true,
    "scrolled": true
   },
   "outputs": [],
   "source": [
    "class Solution:\n",
    "    def a(self,p,l,l1,result,dividend):\n",
    "        if p==-1:\n",
    "            return result\n",
    "        else:\n",
    "            temp=dividend-l[p]\n",
    "            while temp>=0:\n",
    "                result=result+l1[p]\n",
    "                dividend=temp\n",
    "                temp=dividend-l[p]\n",
    "            return self.a(p-1,l,l1,result,dividend)\n",
    "    def divide(self, dividend, divisor):\n",
    "        \"\"\"\n",
    "        :type dividend: int\n",
    "        :type divisor: int\n",
    "        :rtype: int\n",
    "        \"\"\"\n",
    "        pan=[0,0]\n",
    "        if dividend <0:\n",
    "            pan[0]=1\n",
    "            dividend=-dividend\n",
    "        if divisor<0:\n",
    "            pan[1]=1\n",
    "            divisor=-divisor\n",
    "\n",
    "        l=[divisor]\n",
    "        l1=[1]\n",
    "        temp=l[-1]+l[-1]\n",
    "        while temp<dividend:\n",
    "            l.append(temp)\n",
    "            l1.append(l1[-1]+l1[-1])\n",
    "            temp=l[-1]+l[-1]\n",
    "\n",
    "        result=self.a(len(l)-1,l,l1,0,dividend)\n",
    "        if pan[0]+pan[1]==1:\n",
    "            result=-result\n",
    "        if result<-2**31 or result>2**31-1:\n",
    "            return 2**31-1\n",
    "        else:\n",
    "            return result\n",
    "        "
   ]
  },
  {
   "cell_type": "code",
   "execution_count": 936,
   "metadata": {
    "collapsed": true,
    "scrolled": true
   },
   "outputs": [
    {
     "data": {
      "text/plain": [
       "2147483647"
      ]
     },
     "execution_count": 936,
     "metadata": {},
     "output_type": "execute_result"
    }
   ],
   "source": [
    "a=Solution()\n",
    "b=-2147483648\n",
    "a.divide(b,-1)"
   ]
  },
  {
   "cell_type": "markdown",
   "metadata": {},
   "source": [
    "- 这题还可以用'<<'和'>>'左移和右移运算符进行计算"
   ]
  },
  {
   "cell_type": "markdown",
   "metadata": {},
   "source": [
    "## 2018-10-31 Substring with Concatenation of All Words 与所有单词相关联的字串\n",
    "- 给定一个字符串 s 和一些长度相同的单词 words。在 s 中找出可以恰好串联 words 中所有单词的子串的起始位置。\n",
    "\n",
    "- 注意子串要与 words 中的单词完全匹配，中间不能有其他字符，但不需要考虑 words 中单词串联的顺序。"
   ]
  },
  {
   "cell_type": "raw",
   "metadata": {},
   "source": [
    "输入:\n",
    "  s = \"barfoothefoobarman\",\n",
    "  words = [\"foo\",\"bar\"]\n",
    "输出: [0,9]\n",
    "解释: 从索引 0 和 9 开始的子串分别是 \"barfoor\" 和 \"foobar\" 。\n",
    "输出的顺序不重要, [9,0] 也是有效答案。"
   ]
  },
  {
   "cell_type": "raw",
   "metadata": {},
   "source": [
    "输入:\n",
    "  s = \"wordgoodstudentgoodword\",\n",
    "  words = [\"word\",\"student\"]\n",
    "输出: []"
   ]
  },
  {
   "cell_type": "code",
   "execution_count": 968,
   "metadata": {
    "collapsed": true,
    "scrolled": true
   },
   "outputs": [],
   "source": [
    "#v1.0,耗时过长，弃之\n",
    "class Solution:\n",
    "    def findSubstring(self, s, words):\n",
    "        \"\"\"\n",
    "        :type s: str\n",
    "        :type words: List[str]\n",
    "        :rtype: List[int]\n",
    "        \"\"\"\n",
    "        if len(words)==0:\n",
    "            return []\n",
    "        l={}\n",
    "        #l1=[]\n",
    "        #l2=[]\n",
    "        result=[]\n",
    "        for i in range(len(words)):            \n",
    "            if i>0 and len(words[i])!=len(words[i-1]):\n",
    "                return []\n",
    "            l[words[i]]=l.get(words[i],0)+1\n",
    "        n=len(words[0])\n",
    "        if n==0:\n",
    "            return []\n",
    "        for  i in range(len(s)):\n",
    "            j=i\n",
    "            l_copy=l.copy()\n",
    "            while j<=len(s)-n:\n",
    "                if sum(l_copy.values())==0:\n",
    "                    result.append(i)\n",
    "                    break\n",
    "                if s[j:j+n] in l_copy and l_copy[s[j:j+n]]>0:\n",
    "                    l_copy[s[j:j+n]]-=1\n",
    "                    j+=n\n",
    "                    if sum(l_copy.values())==0:\n",
    "                        result.append(i)\n",
    "                        break\n",
    "                else:\n",
    "                    break\n",
    "\n",
    "        return result"
   ]
  },
  {
   "cell_type": "code",
   "execution_count": 972,
   "metadata": {
    "collapsed": true,
    "scrolled": true
   },
   "outputs": [],
   "source": [
    "#v2.0\n",
    "class Solution:\n",
    "    def findSubstring(self, s, words):\n",
    "        if not s or not words or not words[0]:\n",
    "            return []\n",
    "        n = len(s)\n",
    "        k = len(words[0])\n",
    "        t = len(words) * k\n",
    "        req = {}\n",
    "        for w in words:\n",
    "            req[w] = req[w] + 1 if w in req else 1\n",
    "        ans = []\n",
    "        for i in range(min(k, n - t + 1)):#这句话是关键，\n",
    "            l=i\n",
    "            r=i\n",
    "            curr={}\n",
    "            while r+k<=n:\n",
    "                w=s[r:r+k]\n",
    "                r+=k#联合这句话来看，等于遍历了整个s\n",
    "                if w not in req:\n",
    "                    l=r\n",
    "                    curr.clear()\n",
    "                else:\n",
    "                    curr[w]=curr[w]+1 if w in curr else 1\n",
    "                    while curr[w]>req[w]:\n",
    "                        curr[s[l:l+k]]-=1\n",
    "                        l+=k\n",
    "                    if r-l==t:\n",
    "                        ans.append(l)\n",
    "        return ans"
   ]
  },
  {
   "cell_type": "code",
   "execution_count": 973,
   "metadata": {
    "collapsed": true,
    "scrolled": true
   },
   "outputs": [
    {
     "data": {
      "text/plain": [
       "[0, 9]"
      ]
     },
     "execution_count": 973,
     "metadata": {},
     "output_type": "execute_result"
    }
   ],
   "source": [
    "a=Solution()\n",
    "b='barfoothefoobarman'\n",
    "c=[\"foo\",\"bar\"]\n",
    "a.findSubstring(b,c)"
   ]
  },
  {
   "cell_type": "markdown",
   "metadata": {},
   "source": [
    "## 2018-10-32 Next Permutation 下一个排列\n",
    "- 实现获取下一个排列的函数，算法需要将给定数字序列重新排列成字典序中下一个更大的排列。\n",
    "\n",
    "- 如果不存在下一个更大的排列，则将数字重新排列成最小的排列（即升序排列）。\n",
    "\n",
    "- 必须原地修改，只允许使用额外常数空间。\n",
    "\n",
    "- 以下是一些例子，输入位于左侧列，其相应输出位于右侧列。"
   ]
  },
  {
   "cell_type": "raw",
   "metadata": {},
   "source": [
    "1,2,3 → 1,3,2\n",
    "3,2,1 → 1,2,3\n",
    "1,1,5 → 1,5,1"
   ]
  },
  {
   "cell_type": "code",
   "execution_count": 1036,
   "metadata": {
    "collapsed": true,
    "scrolled": true
   },
   "outputs": [],
   "source": [
    "class Solution:\n",
    "    def a(self,nums):\n",
    "        n=len(nums)\n",
    "        if n==2:\n",
    "            if nums[0]<nums[1]:\n",
    "                return [nums[1],nums[0]]\n",
    "            else:\n",
    "                return None\n",
    "        else:\n",
    "            b=self.a(nums[1:])\n",
    "            if b!=None:\n",
    "                return [nums[0]]+b\n",
    "            else:\n",
    "                temp1=0\n",
    "                temp2=len(nums)-1\n",
    "                if nums[temp1]<nums[temp2]:\n",
    "                    temp=nums[0:-1]\n",
    "                    temp.sort()\n",
    "                    return [nums[-1]]+temp\n",
    "                    \n",
    "                else:\n",
    "                    while nums[temp1]>=nums[temp2] and temp1!=temp2:\n",
    "                        temp2-=1\n",
    "                    if temp1==temp2:\n",
    "                        return None\n",
    "                    else:\n",
    "                        t=nums[0:temp2]+nums[temp2+1:]\n",
    "                        t.sort()\n",
    "                        return [nums[temp2]]+t\n",
    "    def nextPermutation(self, nums):\n",
    "        \"\"\"\n",
    "        :type nums: List[int]\n",
    "        :rtype: void Do not return anything, modify nums in-place instead.\n",
    "        \"\"\"\n",
    "        n=len(nums)\n",
    "        if n==1:\n",
    "            return\n",
    "        i=n-1\n",
    "        b=self.a(nums)\n",
    "        if b:\n",
    "            for i in range(len(nums)):\n",
    "                nums[i]=b[i]\n",
    "            return\n",
    "        nums.sort()\n",
    "        return"
   ]
  },
  {
   "cell_type": "code",
   "execution_count": 1037,
   "metadata": {
    "collapsed": true,
    "scrolled": true
   },
   "outputs": [
    {
     "data": {
      "text/plain": [
       "[1, 2, 4, 3]"
      ]
     },
     "execution_count": 1037,
     "metadata": {},
     "output_type": "execute_result"
    }
   ],
   "source": [
    "a=Solution()\n",
    "b=[1,2,3,4]\n",
    "a.nextPermutation(b)\n",
    "b"
   ]
  },
  {
   "cell_type": "markdown",
   "metadata": {},
   "source": [
    "## 2018-11-1 Longest Valid Parentheses 最长有效括号\n",
    "- 给定一个只包含 '(' 和 ')' 的字符串，找出最长的包含有效括号的子串的长度。\n"
   ]
  },
  {
   "cell_type": "raw",
   "metadata": {},
   "source": [
    "输入: \"(()\"\n",
    "输出: 2\n",
    "解释: 最长有效括号子串为 \"()\""
   ]
  },
  {
   "cell_type": "raw",
   "metadata": {},
   "source": [
    "输入: \")()())\"\n",
    "输出: 4\n",
    "解释: 最长有效括号子串为 \"()()\""
   ]
  },
  {
   "cell_type": "code",
   "execution_count": 1064,
   "metadata": {
    "collapsed": true,
    "scrolled": true
   },
   "outputs": [],
   "source": [
    "#最快用stack\n",
    "class Solution:\n",
    "    def longestValidParentheses(self, s):\n",
    "        \"\"\"\n",
    "        :type s: str\n",
    "        :rtype: int\n",
    "        \"\"\"\n",
    "        stack=[0]\n",
    "        max_=0\n",
    "        for i in s:\n",
    "            if i=='(':\n",
    "                stack.append(0)\n",
    "            else:\n",
    "                if len(stack)>1:\n",
    "                    temp=stack.pop()\n",
    "                    stack[-1]+=temp+2\n",
    "                    if stack[-1]>max_:\n",
    "                        max_=stack[-1]\n",
    "                else:\n",
    "                    stack=[0]\n",
    "        return max_"
   ]
  },
  {
   "cell_type": "code",
   "execution_count": 1065,
   "metadata": {
    "collapsed": true,
    "scrolled": true
   },
   "outputs": [
    {
     "data": {
      "text/plain": [
       "4"
      ]
     },
     "execution_count": 1065,
     "metadata": {},
     "output_type": "execute_result"
    }
   ],
   "source": [
    "a=Solution()\n",
    "b=\")()())\"\n",
    "c=a.longestValidParentheses(b)\n",
    "c"
   ]
  },
  {
   "cell_type": "code",
   "execution_count": 1066,
   "metadata": {
    "collapsed": true,
    "scrolled": true
   },
   "outputs": [],
   "source": [
    "#动态规划\n",
    "class Solution:\n",
    "    def longestValidParentheses(self, s):\n",
    "        \"\"\"\n",
    "        :type s: str\n",
    "        :rtype: int\n",
    "        \"\"\"\n",
    "        d=[0]\n",
    "        for i in range(1,len(s)):\n",
    "            if i>0 and s[i]==')':\n",
    "                if s[i-1]=='(':\n",
    "                    d.append(d[i-2]+2)\n",
    "                elif i-d[i-1]-1>0 and s[i-d[i-1]-1]=='(':\n",
    "                    d.append(d[i-1]+2+d[i-d[i-1]-1])\n",
    "                else:\n",
    "                    d.append(0)\n",
    "            else:\n",
    "                d.append(0)\n",
    "        return max(d)"
   ]
  },
  {
   "cell_type": "markdown",
   "metadata": {},
   "source": [
    "## 2018-11-6 Longest Valid Parentheses 搜索旋转排序数组\n",
    "- 假设按照升序排序的数组在预先未知的某个点上进行了旋转。\n",
    "\n",
    "- ( 例如，数组 [0,1,2,4,5,6,7] 可能变为 [4,5,6,7,0,1,2] )。\n",
    "\n",
    "- 搜索一个给定的目标值，如果数组中存在这个目标值，则返回它的索引，否则返回 -1 。\n",
    "\n",
    "- 你可以假设数组中不存在重复的元素。\n",
    "\n",
    "- 你的算法时间复杂度必须是 O(log n) 级别。\n"
   ]
  },
  {
   "cell_type": "raw",
   "metadata": {},
   "source": [
    "输入: nums = [4,5,6,7,0,1,2], target = 0\n",
    "输出: 4"
   ]
  },
  {
   "cell_type": "raw",
   "metadata": {},
   "source": [
    "输入: nums = [4,5,6,7,0,1,2], target = 3\n",
    "输出: -1"
   ]
  },
  {
   "cell_type": "code",
   "execution_count": 1076,
   "metadata": {
    "collapsed": true,
    "scrolled": true
   },
   "outputs": [],
   "source": [
    "#找到起点以后直接二分寻找，复杂度2*log(n)\n",
    "class Solution:\n",
    "    def search(self, nums, target):\n",
    "        \"\"\"\n",
    "        :type nums: List[int]\n",
    "        :type target: int\n",
    "        :rtype: int\n",
    "        \"\"\"\n",
    "        n=len(nums)\n",
    "        if n==0:\n",
    "            return -1\n",
    "        i=0\n",
    "        j=n-1\n",
    "        while j-i>1:\n",
    "            if nums[i+(j-i)//2]<nums[j]:\n",
    "                j=j-(j-i)//2\n",
    "            else:\n",
    "                i=i+(j-i)//2\n",
    "        if nums[i]<nums[j]:\n",
    "            ori=i\n",
    "        else:\n",
    "            ori=j\n",
    "        temp=nums[ori:]+nums[0:ori]\n",
    "        i=0\n",
    "        j=n-1\n",
    "        while j-i>1:\n",
    "            if target<=temp[i+(j-i)//2]:\n",
    "                j=j-(j-i)//2\n",
    "            else:\n",
    "                i=i+(j-i)//2\n",
    "        if temp[i]==target:\n",
    "            t=i\n",
    "        elif temp[j]==target:\n",
    "            t=j\n",
    "        else:\n",
    "            return -1\n",
    "        if t+ori>n-1:\n",
    "            return t+ori-n\n",
    "        else:\n",
    "            return t+ori"
   ]
  },
  {
   "cell_type": "code",
   "execution_count": 1075,
   "metadata": {
    "collapsed": true,
    "scrolled": true
   },
   "outputs": [
    {
     "data": {
      "text/plain": [
       "4"
      ]
     },
     "execution_count": 1075,
     "metadata": {},
     "output_type": "execute_result"
    }
   ],
   "source": [
    "a=Solution()\n",
    "b=[4,5,6,7,0,1,2]\n",
    "c=a.search(b,0)\n",
    "c"
   ]
  },
  {
   "cell_type": "markdown",
   "metadata": {},
   "source": [
    "## 2018-11-6 Find First and Last Position of Element in Sorted Array 在排序数组中查找元素的第一个和最后一个位置\n",
    "- 给定一个按照升序排列的整数数组 nums，和一个目标值 target。找出给定目标值在数组中的开始位置和结束位置。\n",
    "\n",
    "- 你的算法时间复杂度必须是 O(log n) 级别。\n",
    "\n",
    "- 如果数组中不存在目标值，返回 [-1, -1]。\n",
    "\n"
   ]
  },
  {
   "cell_type": "raw",
   "metadata": {},
   "source": [
    "输入: nums = [5,7,7,8,8,10], target = 8\n",
    "输出: [3,4]"
   ]
  },
  {
   "cell_type": "raw",
   "metadata": {},
   "source": [
    "输入: nums = [5,7,7,8,8,10], target = 6\n",
    "输出: [-1,-1]"
   ]
  },
  {
   "cell_type": "code",
   "execution_count": 1082,
   "metadata": {
    "collapsed": true,
    "scrolled": true
   },
   "outputs": [],
   "source": [
    "#先求左边再求右边\n",
    "class Solution:\n",
    "    def searchRange(self, nums, target):\n",
    "        \"\"\"\n",
    "        :type nums: List[int]\n",
    "        :type target: int\n",
    "        :rtype: List[int]\n",
    "        \"\"\"\n",
    "        n=len(nums)\n",
    "        if n==0:\n",
    "            return [-1,-1]\n",
    "        i=0\n",
    "        j=n-1\n",
    "        while j-i>1:\n",
    "            if nums[i+(j-i)//2]<=target:\n",
    "                i=i+(j-i)//2\n",
    "            else:\n",
    "                j=i+(j-i)//2\n",
    "        if nums[j]==target:\n",
    "            up=j\n",
    "        else:\n",
    "            if nums[i]==target:\n",
    "                up=i\n",
    "            else:\n",
    "                return [-1,-1]\n",
    "        i=0\n",
    "        j=n-1\n",
    "        while j-i>1:\n",
    "            if nums[i+(j-i)//2]>=target:\n",
    "                j=i+(j-i)//2\n",
    "            else:\n",
    "                i=i+(j-i)//2\n",
    "        if nums[i]==target:\n",
    "            down=i\n",
    "        else:\n",
    "            if nums[j]==target:\n",
    "                down=j\n",
    "            else:\n",
    "                return [-1,-1]\n",
    "        return [down,up]\n",
    "\n",
    "     "
   ]
  },
  {
   "cell_type": "code",
   "execution_count": 1083,
   "metadata": {
    "collapsed": true,
    "scrolled": true
   },
   "outputs": [
    {
     "data": {
      "text/plain": [
       "[-1, -1]"
      ]
     },
     "execution_count": 1083,
     "metadata": {},
     "output_type": "execute_result"
    }
   ],
   "source": [
    "a=Solution()\n",
    "b=[5,7,7,8,8,10]\n",
    "c=a.searchRange(b,6)\n",
    "c"
   ]
  },
  {
   "cell_type": "markdown",
   "metadata": {},
   "source": [
    "## 2018-11-6 Search Insert Position 搜索插入位置\n",
    "- 给定一个排序数组和一个目标值，在数组中找到目标值，并返回其索引。如果目标值不存在于数组中，返回它将会被按顺序插入的位置。\n",
    "\n",
    "- 你可以假设数组中无重复元素。\n"
   ]
  },
  {
   "cell_type": "raw",
   "metadata": {},
   "source": [
    "输入: [1,3,5,6], 5\n",
    "输出: 2\n",
    "输入: [1,3,5,6], 2\n",
    "输出: 1\n",
    "输入: [1,3,5,6], 7\n",
    "输出: 4\n",
    "输入: [1,3,5,6], 0\n",
    "输出: 0"
   ]
  },
  {
   "cell_type": "code",
   "execution_count": 1090,
   "metadata": {
    "collapsed": true,
    "scrolled": true
   },
   "outputs": [],
   "source": [
    "class Solution:\n",
    "    def searchInsert(self, nums, target):\n",
    "        \"\"\"\n",
    "        :type nums: List[int]\n",
    "        :type target: int\n",
    "        :rtype: int\n",
    "        \"\"\"\n",
    "        n=len(nums)\n",
    "        if n==0 or target<nums[0]:\n",
    "            return 0\n",
    "        if target>nums[-1]:\n",
    "            return len(nums)\n",
    "        i=0\n",
    "        j=n-1\n",
    "        while j-i>1:\n",
    "            if nums[i+(j-i)//2]<=target:\n",
    "                i=i+(j-i)//2\n",
    "            else:\n",
    "                j=i+(j-i)//2\n",
    "        if nums[i]==target:\n",
    "            return i\n",
    "        else:\n",
    "            return j"
   ]
  },
  {
   "cell_type": "code",
   "execution_count": 1092,
   "metadata": {
    "collapsed": true,
    "scrolled": true
   },
   "outputs": [
    {
     "data": {
      "text/plain": [
       "0"
      ]
     },
     "execution_count": 1092,
     "metadata": {},
     "output_type": "execute_result"
    }
   ],
   "source": [
    "a=Solution()\n",
    "b=[1,3,5,6]\n",
    "c=a.searchInsert(b,0)\n",
    "c"
   ]
  },
  {
   "cell_type": "markdown",
   "metadata": {},
   "source": [
    "## 2018-11-6 Valid Sudoku 有效的数独\n",
    "\n",
    "- 判断一个 9x9 的数独是否有效。只需要根据以下规则，验证已经填入的数字是否有效即可。\n",
    "\n",
    "- 数字 1-9 在每一行只能出现一次。\n",
    "- 数字 1-9 在每一列只能出现一次。\n",
    "- 数字 1-9 在每一个以粗实线分隔的 3x3 宫内只能出现一次。\n"
   ]
  },
  {
   "cell_type": "raw",
   "metadata": {},
   "source": [
    "输入:\n",
    "[\n",
    "  [\"5\",\"3\",\".\",\".\",\"7\",\".\",\".\",\".\",\".\"],\n",
    "  [\"6\",\".\",\".\",\"1\",\"9\",\"5\",\".\",\".\",\".\"],\n",
    "  [\".\",\"9\",\"8\",\".\",\".\",\".\",\".\",\"6\",\".\"],\n",
    "  [\"8\",\".\",\".\",\".\",\"6\",\".\",\".\",\".\",\"3\"],\n",
    "  [\"4\",\".\",\".\",\"8\",\".\",\"3\",\".\",\".\",\"1\"],\n",
    "  [\"7\",\".\",\".\",\".\",\"2\",\".\",\".\",\".\",\"6\"],\n",
    "  [\".\",\"6\",\".\",\".\",\".\",\".\",\"2\",\"8\",\".\"],\n",
    "  [\".\",\".\",\".\",\"4\",\"1\",\"9\",\".\",\".\",\"5\"],\n",
    "  [\".\",\".\",\".\",\".\",\"8\",\".\",\".\",\"7\",\"9\"]\n",
    "]\n",
    "输出: true\n",
    "    \n",
    "    \n",
    "输入:\n",
    "[\n",
    "  [\"8\",\"3\",\".\",\".\",\"7\",\".\",\".\",\".\",\".\"],\n",
    "  [\"6\",\".\",\".\",\"1\",\"9\",\"5\",\".\",\".\",\".\"],\n",
    "  [\".\",\"9\",\"8\",\".\",\".\",\".\",\".\",\"6\",\".\"],\n",
    "  [\"8\",\".\",\".\",\".\",\"6\",\".\",\".\",\".\",\"3\"],\n",
    "  [\"4\",\".\",\".\",\"8\",\".\",\"3\",\".\",\".\",\"1\"],\n",
    "  [\"7\",\".\",\".\",\".\",\"2\",\".\",\".\",\".\",\"6\"],\n",
    "  [\".\",\"6\",\".\",\".\",\".\",\".\",\"2\",\"8\",\".\"],\n",
    "  [\".\",\".\",\".\",\"4\",\"1\",\"9\",\".\",\".\",\"5\"],\n",
    "  [\".\",\".\",\".\",\".\",\"8\",\".\",\".\",\"7\",\"9\"]\n",
    "]\n",
    "输出: false\n",
    "解释: 除了第一行的第一个数字从 5 改为 8 以外，空格内其他数字均与 示例1 相同。\n",
    "     但由于位于左上角的 3x3 宫内有两个 8 存在, 因此这个数独是无效的。\n"
   ]
  },
  {
   "cell_type": "markdown",
   "metadata": {},
   "source": [
    "- 一个有效的数独（部分已被填充）不一定是可解的。\n",
    "- 只需要根据以上规则，验证已经填入的数字是否有效即可。\n",
    "- 给定数独序列只包含数字 1-9 和字符 '.' 。\n",
    "- 给定数独永远是 9x9 形式的。"
   ]
  },
  {
   "cell_type": "code",
   "execution_count": 1114,
   "metadata": {
    "collapsed": true,
    "scrolled": true
   },
   "outputs": [],
   "source": [
    "class Solution:\n",
    "    def isValidSudoku(self, board):\n",
    "        \"\"\"\n",
    "        :type board: List[List[str]]\n",
    "        :rtype: bool\n",
    "        \"\"\"\n",
    "        hang=[[] for i in range(9)]\n",
    "        lie=[[] for i in range(9)]\n",
    "        small=[[[] for i in range(3)] for j in range(3)]\n",
    "        for i in range(9):\n",
    "            for j in range(9):\n",
    "                temp=board[i][j]\n",
    "                if temp!='.':\n",
    "                    if temp in hang[i]:\n",
    "                        return False\n",
    "                    else:\n",
    "                        hang[i].append(temp)\n",
    "                    if temp in lie[j]:\n",
    "                        return False\n",
    "                    else:\n",
    "                        lie[j].append(temp)\n",
    "                    if temp in small[i//3][j//3]:\n",
    "                        return False\n",
    "                    else:\n",
    "                        small[i//3][j//3].append(temp)\n",
    "        return True"
   ]
  },
  {
   "cell_type": "code",
   "execution_count": 1115,
   "metadata": {
    "collapsed": true,
    "scrolled": true
   },
   "outputs": [
    {
     "data": {
      "text/plain": [
       "False"
      ]
     },
     "execution_count": 1115,
     "metadata": {},
     "output_type": "execute_result"
    }
   ],
   "source": [
    "a=Solution()\n",
    "b=[[\".\",\".\",\"4\",\".\",\".\",\".\",\"6\",\"3\",\".\"],[\".\",\".\",\".\",\".\",\".\",\".\",\".\",\".\",\".\"],[\"5\",\".\",\".\",\".\",\".\",\".\",\".\",\"9\",\".\"],[\".\",\".\",\".\",\"5\",\"6\",\".\",\".\",\".\",\".\"],[\"4\",\".\",\"3\",\".\",\".\",\".\",\".\",\".\",\"1\"],[\".\",\".\",\".\",\"7\",\".\",\".\",\".\",\".\",\".\"],[\".\",\".\",\".\",\"5\",\".\",\".\",\".\",\".\",\".\"],[\".\",\".\",\".\",\".\",\".\",\".\",\".\",\".\",\".\"],[\".\",\".\",\".\",\".\",\".\",\".\",\".\",\".\",\".\"]]\n",
    "c=a.isValidSudoku(b)\n",
    "c"
   ]
  },
  {
   "cell_type": "markdown",
   "metadata": {},
   "source": [
    "## 2018-11-6 Sudoku Solver 解数独\n",
    "\n",
    "- 编写一个程序，通过已填充的空格来解决数独问题。\n",
    "\n",
    "- 一个数独的解法需遵循如下规则：\n",
    "\n",
    "- 数字 1-9 在每一行只能出现一次。\n",
    "- 数字 1-9 在每一列只能出现一次。\n",
    "- 数字 1-9 在每一个以粗实线分隔的 3x3 宫内只能出现一次。\n",
    "- 空白格用 '.' 表示。\n",
    "- 给定的数独序列只包含数字 1-9 和字符 '.' 。\n",
    "- 你可以假设给定的数独只有唯一解。\n",
    "- 给定数独永远是 9x9 形式的。"
   ]
  },
  {
   "cell_type": "code",
   "execution_count": 1,
   "metadata": {
    "collapsed": true,
    "scrolled": true
   },
   "outputs": [],
   "source": [
    "class Solution:\n",
    "    def test(self,board,i,j,k):\n",
    "        for m in range(9):\n",
    "            if m!=i:\n",
    "                if board[m][j]==k:\n",
    "                    return False\n",
    "            if m!=j:\n",
    "                if board[i][m]==k:\n",
    "                    return False\n",
    "        for m in range(i//3*3,i//3*3+3):\n",
    "            for n in range(j//3*3,j//3*3+3):\n",
    "                if m==i and n==j:\n",
    "                    continue\n",
    "                if board[m][n]==k:\n",
    "                    return False\n",
    "        return True\n",
    "    def die(self,board,a):\n",
    "        l=['1','2','3','4','5','6','7','8','9']\n",
    "        for i in range(a,9):\n",
    "            for j in range(9):\n",
    "                if board[i][j]=='.':\n",
    "                    for k in l:\n",
    "                        if self.test(board,i,j,k):\n",
    "                            board[i][j]=k\n",
    "                            if self.die(board,i)==False:\n",
    "                                board[i][j]='.'\n",
    "                            else:\n",
    "                                return True\n",
    "                    return False\n",
    "    def solveSudoku(self, board):\n",
    "        \"\"\"\n",
    "        :type board: List[List[str]]\n",
    "        :rtype: void Do not return anything, modify board in-place instead.\n",
    "        \"\"\"\n",
    "        self.die(board,0)\n"
   ]
  },
  {
   "cell_type": "code",
   "execution_count": 3,
   "metadata": {
    "collapsed": true,
    "scrolled": true
   },
   "outputs": [
    {
     "data": {
      "text/plain": [
       "[['5', '3', '4', '6', '7', '8', '9', '1', '2'],\n",
       " ['6', '7', '2', '1', '9', '5', '3', '4', '8'],\n",
       " ['1', '9', '8', '3', '4', '2', '5', '6', '7'],\n",
       " ['8', '5', '9', '7', '6', '1', '4', '2', '3'],\n",
       " ['4', '2', '6', '8', '5', '3', '7', '9', '1'],\n",
       " ['7', '1', '3', '9', '2', '4', '8', '5', '6'],\n",
       " ['9', '6', '1', '5', '3', '7', '2', '8', '4'],\n",
       " ['2', '8', '7', '4', '1', '9', '6', '3', '5'],\n",
       " ['3', '4', '5', '2', '8', '6', '1', '7', '9']]"
      ]
     },
     "execution_count": 3,
     "metadata": {},
     "output_type": "execute_result"
    }
   ],
   "source": [
    "a=Solution()\n",
    "b=[[\"5\",\"3\",\".\",\".\",\"7\",\".\",\".\",\".\",\".\"],[\"6\",\".\",\".\",\"1\",\"9\",\"5\",\".\",\".\",\".\"],[\".\",\"9\",\"8\",\".\",\".\",\".\",\".\",\"6\",\".\"],[\"8\",\".\",\".\",\".\",\"6\",\".\",\".\",\".\",\"3\"],[\"4\",\".\",\".\",\"8\",\".\",\"3\",\".\",\".\",\"1\"],[\"7\",\".\",\".\",\".\",\"2\",\".\",\".\",\".\",\"6\"],[\".\",\"6\",\".\",\".\",\".\",\".\",\"2\",\"8\",\".\"],[\".\",\".\",\".\",\"4\",\"1\",\"9\",\".\",\".\",\"5\"],[\".\",\".\",\".\",\".\",\"8\",\".\",\".\",\"7\",\"9\"]]\n",
    "a.solveSudoku(b)\n",
    "b"
   ]
  },
  {
   "cell_type": "markdown",
   "metadata": {},
   "source": [
    "附记：\n",
    "- 可以做的改进还有：\n",
    "- - 用lambda排序，找到最少可能性开始迭代\n",
    "- - 用set来储存每行，每列，每个block的已有量"
   ]
  },
  {
   "cell_type": "markdown",
   "metadata": {},
   "source": [
    "## 2018-11-7 Count and Say 报数\n",
    "\n",
    "- 报数序列是一个整数序列，按照其中的整数的顺序进行报数，得到下一个数。其前五项如下：\n",
    "```\n",
    "1.     1\n",
    "2.     11\n",
    "3.     21\n",
    "4.     1211\n",
    "5.     111221\n",
    "```\n",
    "- 1 被读作  \"one 1\"  (\"一个一\") , 即 11。\n",
    "- 11 被读作 \"two 1s\" (\"两个一\"）, 即 21。\n",
    "- 21 被读作 \"one 2\",  \"one 1\" （\"一个二\" ,  \"一个一\") , 即 1211。\n",
    "\n",
    "- 给定一个正整数 n（1 ≤ n ≤ 30），输出报数序列的第 n 项。\n",
    "\n",
    "- 注意：整数顺序将表示为一个字符串。\n"
   ]
  },
  {
   "cell_type": "raw",
   "metadata": {},
   "source": [
    "输入: 1\n",
    "输出: \"1\"\n",
    "\n",
    "输入: 4\n",
    "输出: \"1211\""
   ]
  },
  {
   "cell_type": "code",
   "execution_count": 21,
   "metadata": {
    "collapsed": true,
    "scrolled": true
   },
   "outputs": [],
   "source": [
    "class Solution:\n",
    "    def die(self,n,s):\n",
    "        l=[]\n",
    "        temp=0\n",
    "        m=len(s)\n",
    "        if n==0:\n",
    "            return s\n",
    "        else:\n",
    "            for i in range(m):\n",
    "                if i==0:\n",
    "                    l.append(1)\n",
    "                    continue\n",
    "                if s[i]==s[i-1]:\n",
    "                    l[-1]+=1\n",
    "                else:\n",
    "                    l.append(s[i-1])\n",
    "                    l.append(1)\n",
    "            l.append(s[-1])\n",
    "            return self.die(n-1,l)\n",
    "    def countAndSay(self, n):\n",
    "        \"\"\"\n",
    "        :type n: int\n",
    "        :rtype: str\n",
    "        \"\"\"\n",
    "        result=''\n",
    "        s=self.die(n-1,[1])\n",
    "        for i in s:\n",
    "            result+=str(i)\n",
    "        return result"
   ]
  },
  {
   "cell_type": "code",
   "execution_count": 23,
   "metadata": {
    "collapsed": true,
    "scrolled": true
   },
   "outputs": [
    {
     "data": {
      "text/plain": [
       "'1211'"
      ]
     },
     "execution_count": 23,
     "metadata": {},
     "output_type": "execute_result"
    }
   ],
   "source": [
    "a=Solution()\n",
    "b=4\n",
    "c=a.countAndSay(b)\n",
    "c"
   ]
  },
  {
   "cell_type": "markdown",
   "metadata": {},
   "source": [
    "## 2018-11-8 Combination Sum 组合总和\n",
    "\n",
    "- 给定一个无重复元素的数组 candidates 和一个目标数 target ，找出 candidates 中所有可以使数字和为 target 的组合。\n",
    "\n",
    "- candidates 中的数字可以无限制重复被选取。\n",
    "\n",
    "\n",
    "- 说明：\n",
    "\n",
    "\n",
    "\n",
    "1. 所有数字（包括 target）都是正整数。\n",
    "\n",
    "2. 解集不能包含重复的组合。 \n"
   ]
  },
  {
   "cell_type": "raw",
   "metadata": {},
   "source": [
    "输入: candidates = [2,3,6,7], target = 7,\n",
    "所求解集为:\n",
    "[\n",
    "  [7],\n",
    "  [2,2,3]\n",
    "]\n",
    "\n",
    "输入: candidates = [2,3,5], target = 8,\n",
    "所求解集为:\n",
    "[\n",
    "  [2,2,2,2],\n",
    "  [2,3,3],\n",
    "  [3,5]\n",
    "]"
   ]
  },
  {
   "cell_type": "code",
   "execution_count": 38,
   "metadata": {
    "collapsed": true,
    "scrolled": true
   },
   "outputs": [],
   "source": [
    "class Solution:\n",
    "    def die(self,n,l,result,new_candidates):\n",
    "        l_new={}\n",
    "        if len(l)==0:\n",
    "            return\n",
    "        else:\n",
    "            max_l=max(l)\n",
    "            candidates=[i for i in new_candidates if i<=max_l]\n",
    "            for i in candidates:\n",
    "                for j in l:\n",
    "                    temp=j-i\n",
    "                    if temp==0:\n",
    "                        for k in l[j]:\n",
    "                            t=[i]+k\n",
    "                            t.sort()\n",
    "                            if t not in result:\n",
    "                                result.append(t)\n",
    "                    elif temp<0:\n",
    "                        continue\n",
    "                    else:\n",
    "                        for k in l[j]:\n",
    "                            t=[i]+k\n",
    "                            t.sort()\n",
    "                            if temp in l_new and t not in l_new[temp]:\n",
    "                                l_new[temp].append(t)\n",
    "                            elif temp not in l_new:\n",
    "                                l_new[temp]=[t]\n",
    "        self.die(n+1,l_new,result,candidates)\n",
    "    def combinationSum(self, candidates, target):\n",
    "        \"\"\"\n",
    "        :type candidates: List[int]\n",
    "        :type target: int\n",
    "        :rtype: List[List[int]]\n",
    "        \"\"\"\n",
    "        l={}\n",
    "        result=[]\n",
    "        for i in candidates:\n",
    "            temp=target-i\n",
    "            if temp==0:\n",
    "                result.append([i])     \n",
    "            else:                \n",
    "                l[temp]=[[i]]\n",
    "        self.die(1,l,result,candidates)\n",
    "        return result"
   ]
  },
  {
   "cell_type": "code",
   "execution_count": 39,
   "metadata": {
    "collapsed": true,
    "scrolled": true
   },
   "outputs": [
    {
     "data": {
      "text/plain": [
       "[[6, 6, 6],\n",
       " [2, 2, 7, 7],\n",
       " [2, 3, 6, 7],\n",
       " [3, 3, 6, 6],\n",
       " [2, 2, 2, 6, 6],\n",
       " [2, 3, 3, 3, 7],\n",
       " [3, 3, 3, 3, 6],\n",
       " [2, 2, 2, 2, 3, 7],\n",
       " [2, 2, 2, 3, 3, 6],\n",
       " [3, 3, 3, 3, 3, 3],\n",
       " [2, 2, 2, 2, 2, 2, 6],\n",
       " [2, 2, 2, 3, 3, 3, 3],\n",
       " [2, 2, 2, 2, 2, 2, 3, 3],\n",
       " [2, 2, 2, 2, 2, 2, 2, 2, 2]]"
      ]
     },
     "execution_count": 39,
     "metadata": {},
     "output_type": "execute_result"
    }
   ],
   "source": [
    "a=Solution()\n",
    "b=[2,3,6,7]\n",
    "c=18\n",
    "d=a.combinationSum(b,c)\n",
    "d"
   ]
  },
  {
   "cell_type": "markdown",
   "metadata": {},
   "source": [
    "附记：\n",
    "1. 已经通过字典加速了\n",
    "2. 还可以通过对candidate进一步加速"
   ]
  },
  {
   "cell_type": "markdown",
   "metadata": {},
   "source": [
    "## 2018-11-9 Combination Sum II 组合总和 II\n",
    "\n",
    "给定一个数组 candidates 和一个目标数 target ，找出 candidates 中所有可以使数字和为 target 的组合。\n",
    "\n",
    "candidates 中的每个数字在每个组合中只能使用一次。\n",
    "\n",
    "说明：\n",
    "\n",
    "- 所有数字（包括目标数）都是正整数。\n",
    "- 解集不能包含重复的组合。 \n"
   ]
  },
  {
   "cell_type": "raw",
   "metadata": {},
   "source": [
    "输入: candidates = [10,1,2,7,6,1,5], target = 8,\n",
    "所求解集为:\n",
    "[\n",
    "  [1, 7],\n",
    "  [1, 2, 5],\n",
    "  [2, 6],\n",
    "  [1, 1, 6]\n",
    "]\n",
    "\n",
    "输入: candidates = [2,5,2,1,2], target = 5,\n",
    "所求解集为:\n",
    "[\n",
    "  [1,2,2],\n",
    "  [5]\n",
    "]\n"
   ]
  },
  {
   "cell_type": "code",
   "execution_count": 42,
   "metadata": {
    "collapsed": true,
    "scrolled": true
   },
   "outputs": [],
   "source": [
    "class Solution:\n",
    "    def die(self,n,l,result,new_candidates):\n",
    "        l_new={}\n",
    "        if len(l)==0:\n",
    "            return\n",
    "        else:\n",
    "            max_l=max(l)\n",
    "            candidates=[i for i in new_candidates if i<=max_l]\n",
    "            candidates.sort()\n",
    "            for i in candidates:\n",
    "                for j in l:\n",
    "                    temp=j-i\n",
    "                    if temp==0:\n",
    "                        for k in l[j]:\n",
    "                            t=[i]+k\n",
    "                            t.sort()\n",
    "                            if t not in result:\n",
    "                                result.append(t)\n",
    "                    elif temp<0:\n",
    "                        continue\n",
    "                    else:\n",
    "                        for k in l[j]:\n",
    "                            t=[i]+k\n",
    "                            t.sort()\n",
    "                            if temp in l_new and t not in l_new[temp]:\n",
    "                                l_new[temp].append(t)\n",
    "                            elif temp not in l_new:\n",
    "                                l_new[temp]=[t]\n",
    "        self.die(n+1,l_new,result,candidates)\n",
    "    def combinationSum2(self, candidates, target):\n",
    "        \"\"\"\n",
    "        :type candidates: List[int]\n",
    "        :type target: int\n",
    "        :rtype: List[List[int]]\n",
    "        \"\"\"\n",
    "        l={}\n",
    "        result=[]\n",
    "        t={}\n",
    "        results=[]\n",
    "        for i in candidates:\n",
    "            t[i]=t.get(i,0)+1\n",
    "        for i in candidates:\n",
    "            temp=target-i\n",
    "            if temp==0:\n",
    "                result.append([i])     \n",
    "            else:                \n",
    "                l[temp]=[[i]]\n",
    "        self.die(1,l,result,candidates)\n",
    "        for i in result:\n",
    "            tt={}\n",
    "            pan=0\n",
    "            for j in i:\n",
    "                tt[j]=tt.get(j,0)+1\n",
    "                if tt[j]>t[j]:\n",
    "                    pan=1\n",
    "                    break\n",
    "            if pan==0 and i not in results:\n",
    "                results.append(i)\n",
    "        return results"
   ]
  },
  {
   "cell_type": "code",
   "execution_count": 45,
   "metadata": {
    "collapsed": true,
    "scrolled": true
   },
   "outputs": [
    {
     "data": {
      "text/plain": [
       "[[1]]"
      ]
     },
     "execution_count": 45,
     "metadata": {},
     "output_type": "execute_result"
    }
   ],
   "source": [
    "a=Solution()\n",
    "b=[1,1]\n",
    "c=1\n",
    "d=a.combinationSum2(b,c)\n",
    "d"
   ]
  },
  {
   "cell_type": "markdown",
   "metadata": {},
   "source": [
    "附记：\n",
    "- 上题改了下，只能说完成了任务，思路饶了一圈"
   ]
  },
  {
   "cell_type": "markdown",
   "metadata": {},
   "source": [
    "## 2018-11-10 First Missing Positive 缺失的第一个正数\n",
    "\n",
    "- 给定一个未排序的整数数组，找出其中没有出现的最小的正整数。\n",
    "- 你的算法的时间复杂度应为O(n)，并且只能使用常数级别的空间。\n"
   ]
  },
  {
   "cell_type": "raw",
   "metadata": {},
   "source": [
    "输入: [1,2,0]\n",
    "输出: 3\n",
    "\n",
    "输入: [3,4,-1,1]\n",
    "输出: 2\n",
    "\n",
    "输入: [7,8,9,11,12]\n",
    "输出: 1"
   ]
  },
  {
   "cell_type": "code",
   "execution_count": 54,
   "metadata": {
    "collapsed": true,
    "scrolled": true
   },
   "outputs": [],
   "source": [
    "#第一种方法，最简单明了\n",
    "class Solution:\n",
    "    def firstMissingPositive(self, nums):\n",
    "        \"\"\"\n",
    "        :type nums: List[int]\n",
    "        :rtype: int\n",
    "        \"\"\"\n",
    "        if len(nums)==0:\n",
    "            return 1\n",
    "        for i in range(1,len(nums)+1):\n",
    "            if i not in nums:\n",
    "                return i"
   ]
  },
  {
   "cell_type": "code",
   "execution_count": 55,
   "metadata": {
    "collapsed": true,
    "scrolled": true
   },
   "outputs": [
    {
     "data": {
      "text/plain": [
       "3"
      ]
     },
     "execution_count": 55,
     "metadata": {},
     "output_type": "execute_result"
    }
   ],
   "source": [
    "a=Solution()\n",
    "b=[1,2,0]\n",
    "c=a.firstMissingPositive(b)\n",
    "c"
   ]
  },
  {
   "cell_type": "code",
   "execution_count": null,
   "metadata": {
    "collapsed": true,
    "scrolled": true
   },
   "outputs": [],
   "source": [
    "#第二种方法：\n",
    "#将每个值放在该在的位置，比如发现了5，那就放在nums[4]的地方\n",
    "class Solution:\n",
    "    def firstMissingPositive(self, nums):\n",
    "        \"\"\"\n",
    "        :type nums: List[int]\n",
    "        :rtype: int\n",
    "        \"\"\"\n",
    "        n = len(nums)\n",
    "        for i in range(n):\n",
    "            while nums[i] > 0 and nums[i] <= n and nums[nums[i]-1] != nums[i]:\n",
    "                temp = nums[nums[i] - 1] \n",
    "                nums[nums[i] - 1] = nums[i]\n",
    "                nums[i] = temp\n",
    "        for i in range(n):\n",
    "            if nums[i] != i+1:\n",
    "                return i+1\n",
    "        return n+1"
   ]
  },
  {
   "cell_type": "markdown",
   "metadata": {},
   "source": [
    "## 2018-11-11 Trapping Rain Water 接雨水\n",
    "\n",
    "给定 n 个非负整数表示每个宽度为 1 的柱子的高度图，计算按此排列的柱子，下雨之后能接多少雨水。\n",
    "\n",
    "下面是由数组 [0,1,0,2,1,0,1,3,2,1,2,1] 表示的高度图，在这种情况下，可以接 6 个单位的雨水（蓝色部分表示雨水）。\n",
    "\n",
    "![](http://rancholovecherry.top/nextcloud/index.php/s/HxSZXKkiJWsy3oZ/preview)\n"
   ]
  },
  {
   "cell_type": "raw",
   "metadata": {},
   "source": [
    "输入: [0,1,0,2,1,0,1,3,2,1,2,1]\n",
    "输出: 6"
   ]
  },
  {
   "cell_type": "code",
   "execution_count": 68,
   "metadata": {
    "collapsed": true,
    "scrolled": true
   },
   "outputs": [],
   "source": [
    "class Solution:\n",
    "    def a(self,start,terminal,height):\n",
    "        small=min(height[start],height[terminal])\n",
    "        if terminal-start<=1:\n",
    "            return 0\n",
    "        sum=(terminal-start-1)*small\n",
    "        if height[start]!=0 and height[terminal]!=0:\n",
    "            for i in range(start+1,terminal):\n",
    "                sum-=min(height[i],small)\n",
    "        return sum\n",
    "    def b(self,start,terminal,height):\n",
    "        if terminal-start<=1:\n",
    "            return 0\n",
    "        l=height[start:terminal+1]\n",
    "        if height[terminal]<height[start]:\n",
    "            l.reverse()\n",
    "        sum=0\n",
    "        p1=0\n",
    "        for i in range(len(l)):\n",
    "            if l[i]>=l[p1]:\n",
    "                sum+=self.a(p1,i,l)\n",
    "                p1=i\n",
    "        return sum\n",
    "        \n",
    "    def trap(self, height):\n",
    "        \"\"\"\n",
    "        :type height: List[int]\n",
    "        :rtype: int\n",
    "        \"\"\"\n",
    "        if len(height)==0:\n",
    "            return 0\n",
    "        p1,p2=0,len(height)-1\n",
    "        p3,p4=0,len(height)-1\n",
    "        sum=0\n",
    "        while p3<=p4:\n",
    "            if height[p3]>=height[p1]:\n",
    "                sum+=self.a(p1,p3,height)\n",
    "                p1=p3\n",
    "            if height[p4]>=height[p2]:\n",
    "                sum+=self.a(p4,p2,height)\n",
    "                p2=p4\n",
    "            p3+=1\n",
    "            p4-=1\n",
    "        sum+=self.b(p1,p2,height)\n",
    "        return sum"
   ]
  },
  {
   "cell_type": "code",
   "execution_count": 69,
   "metadata": {
    "collapsed": true,
    "scrolled": true
   },
   "outputs": [
    {
     "data": {
      "text/plain": [
       "6"
      ]
     },
     "execution_count": 69,
     "metadata": {},
     "output_type": "execute_result"
    }
   ],
   "source": [
    "a=Solution()\n",
    "b=[0,1,0,2,1,0,1,3,2,1,2,1]\n",
    "c=a.trap(b)\n",
    "c"
   ]
  },
  {
   "cell_type": "code",
   "execution_count": 70,
   "metadata": {
    "collapsed": true,
    "scrolled": true
   },
   "outputs": [],
   "source": [
    "#更简洁的方法\n",
    "class Solution:\n",
    "    def trap(self, height):\n",
    "        \"\"\"\n",
    "        :type height: List[int]\n",
    "        :rtype: int\n",
    "        \"\"\"\n",
    "        left = 0\n",
    "        right = len(height) - 1\n",
    "        max_left = 0\n",
    "        max_right = 0\n",
    "        res = 0\n",
    "        while left < right:\n",
    "            if height[left] < height[right]:\n",
    "                if height[left] > max_left:\n",
    "                    max_left = height[left]\n",
    "                else:\n",
    "                    res += max_left - height[left]\n",
    "                left += 1\n",
    "            else:\n",
    "                if height[right] > max_right:\n",
    "                    max_right = height[right]\n",
    "                else:\n",
    "                    res += max_right - height[right]\n",
    "                right -= 1\n",
    "        return res"
   ]
  },
  {
   "cell_type": "markdown",
   "metadata": {},
   "source": [
    "## 2018-11-12 Multiply Strings 字符串相乘\n",
    "\n",
    "\n",
    "- 给定两个以字符串形式表示的非负整数 num1 和 num2，返回 num1 和 num2 的乘积，它们的乘积也表示为字符串形式。\n",
    "\n",
    "1. num1 和 num2 的长度小于110。\n",
    "2. num1 和 num2 只包含数字 0-9。\n",
    "3. num1 和 num2 均不以零开头，除非是数字 0 本身。\n",
    "4. 不能使用任何标准库的大数类型（比如 BigInteger）或直接将输入转换为整数来处理。"
   ]
  },
  {
   "cell_type": "raw",
   "metadata": {},
   "source": [
    "输入: num1 = \"2\", num2 = \"3\"\n",
    "输出: \"6\"\n",
    "\n",
    "输入: num1 = \"123\", num2 = \"456\"\n",
    "输出: \"56088\""
   ]
  },
  {
   "cell_type": "code",
   "execution_count": 84,
   "metadata": {
    "collapsed": true,
    "scrolled": true
   },
   "outputs": [],
   "source": [
    "#方法一，有点慢\n",
    "class Solution:\n",
    "    def multiply(self, num1, num2):\n",
    "        \"\"\"\n",
    "        :type num1: str\n",
    "        :type num2: str\n",
    "        :rtype: str\n",
    "        \"\"\"\n",
    "       # num1=num1[::-1]\n",
    "       # num2=num2[::-1]\n",
    "        m=len(num1)\n",
    "        n=len(num2)\n",
    "        sum=0\n",
    "        for i in range(m):\n",
    "            for j in range(n):\n",
    "                sum+=int(num1[i])*10**(m-i-1)*int(num2[j])*10**(n-j-1)\n",
    "        return str(sum)"
   ]
  },
  {
   "cell_type": "code",
   "execution_count": 93,
   "metadata": {
    "collapsed": true,
    "scrolled": true
   },
   "outputs": [
    {
     "data": {
      "text/plain": [
       "'56088'"
      ]
     },
     "execution_count": 93,
     "metadata": {},
     "output_type": "execute_result"
    }
   ],
   "source": [
    "a=Solution()\n",
    "num1='123'\n",
    "num2='456'\n",
    "c=a.multiply(num1,num2)\n",
    "c"
   ]
  },
  {
   "cell_type": "code",
   "execution_count": 92,
   "metadata": {
    "collapsed": true,
    "scrolled": true
   },
   "outputs": [],
   "source": [
    "#方法二，快一点\n",
    "class Solution:\n",
    "    def multiply(self, num1, num2):\n",
    "        \"\"\"\n",
    "        :type num1: str\n",
    "        :type num2: str\n",
    "        :rtype: str\n",
    "        \"\"\"\n",
    "        l={'0':0,'1':1,'2':2,'3':3,'4':4,'5':5,'6':6,'7':7,'8':8,'9':9}\n",
    "        sum1=0\n",
    "        sum2=0\n",
    "        m=len(num1)\n",
    "        n=len(num2)\n",
    "        temp=10**(m-1)\n",
    "        for i in range(len(num1)):\n",
    "            sum1+=l[num1[i]]*temp\n",
    "            temp//=10\n",
    "        temp=10**(n-1)\n",
    "        for i in range(len(num2)):\n",
    "            sum2+=l[num2[i]]*10**(n-i-1)\n",
    "            temp//=10\n",
    "        return str(sum1*sum2)\n",
    "            \n",
    "        "
   ]
  },
  {
   "cell_type": "markdown",
   "metadata": {},
   "source": [
    "## 44 Wildcard Matching 通配符匹配\n",
    "\n",
    "\n",
    "给定一个字符串 (s) 和一个字符模式 (p) ，实现一个支持 '?' 和 '*' 的通配符匹配。\n",
    "\n",
    "\n",
    "'?' 可以匹配任何单个字符。\n",
    "'*' 可以匹配任意字符串（包括空字符串）\n",
    "\n",
    "s 可能为空，且只包含从 a-z 的小写字母。\n",
    "p 可能为空，且只包含从 a-z 的小写字母，以及字符 ? 和 *。"
   ]
  },
  {
   "cell_type": "raw",
   "metadata": {},
   "source": [
    "输入:\n",
    "s = \"cb\"\n",
    "p = \"?a\"\n",
    "输出: false\n",
    "解释: '?' 可以匹配 'c', 但第二个 'a' 无法匹配 'b'。输入:\n",
    "s = \"aa\"\n",
    "p = \"a\"\n",
    "输出: false\n",
    "解释: \"a\" 无法匹配 \"aa\" 整个字符串。\n",
    "\n",
    "输入:\n",
    "s = \"cb\"\n",
    "p = \"?a\"\n",
    "输出: false\n",
    "解释: '?' 可以匹配 'c', 但第二个 'a' 无法匹配 'b'。\n",
    "\n",
    "输入:\n",
    "s = \"adceb\"\n",
    "p = \"*a*b\"\n",
    "输出: true\n",
    "解释: 第一个 '*' 可以匹配空字符串, 第二个 '*' 可以匹配字符串 \"dce\".\n",
    "\n",
    "输入:\n",
    "s = \"acdcb\"\n",
    "p = \"a*c?b\"\n",
    "输入: false"
   ]
  },
  {
   "cell_type": "code",
   "execution_count": 1,
   "metadata": {
    "collapsed": true,
    "scrolled": true
   },
   "outputs": [],
   "source": [
    "class Solution:\n",
    "    def isMatch(self, s, p):\n",
    "        \"\"\"\n",
    "        :type s: str\n",
    "        :type p: str\n",
    "        :rtype: bool\n",
    "        \"\"\"\n",
    "        p1,p2,ps,pp=0,0,0,0\n",
    "        while p1<len(s):\n",
    "            if p2<len(p) and (s[p1]==p[p2] or p[p2]=='?'):\n",
    "                p1+=1\n",
    "                p2+=1\n",
    "            elif p2<len(p) and p[p2]=='*':\n",
    "                p2+=1\n",
    "                ps=p1\n",
    "                pp=p2\n",
    "            elif pp!=0:\n",
    "                ps+=1\n",
    "                p1=ps\n",
    "                p2=pp\n",
    "            else:\n",
    "                return False\n",
    "        while p2<len(p) and p[p2]=='*':\n",
    "            p2+=1\n",
    "        return p2==len(p)"
   ]
  },
  {
   "cell_type": "code",
   "execution_count": 2,
   "metadata": {
    "collapsed": true,
    "scrolled": true
   },
   "outputs": [
    {
     "data": {
      "text/plain": [
       "True"
      ]
     },
     "execution_count": 2,
     "metadata": {},
     "output_type": "execute_result"
    }
   ],
   "source": [
    "a=Solution()\n",
    "s='abcde'\n",
    "p='?*de'\n",
    "c=a.isMatch(s,p)\n",
    "c"
   ]
  },
  {
   "cell_type": "markdown",
   "metadata": {},
   "source": [
    "附记：\n",
    "\n",
    "1. list.count('*') 可以计算list中*的个数\n",
    "2. 每次直接调用len() 比m=len()后每次调用m速度要快\n",
    "3. 算法很巧妙，速度比DP要快很多"
   ]
  },
  {
   "cell_type": "markdown",
   "metadata": {},
   "source": [
    "## 45 Jump Game II 跳跃游戏 II\n",
    "\n",
    "\n",
    "- 给定一个非负整数数组，你最初位于数组的第一个位置。\n",
    "\n",
    "- 数组中的每个元素代表你在该位置可以跳跃的最大长度。\n",
    "\n",
    "- 你的目标是使用最少的跳跃次数到达数组的最后一个位置。\n",
    "- 假设你总是可以到达数组的最后一个位置。"
   ]
  },
  {
   "cell_type": "raw",
   "metadata": {},
   "source": [
    "输入: [2,3,1,1,4]\n",
    "输出: 2\n",
    "解释: 跳到最后一个位置的最小跳跃数是 2。\n",
    "     从下标为 0 跳到下标为 1 的位置，跳 1 步，然后跳 3 步到达数组的最后一个位置。"
   ]
  },
  {
   "cell_type": "code",
   "execution_count": 11,
   "metadata": {
    "collapsed": true,
    "scrolled": true
   },
   "outputs": [],
   "source": [
    "class Solution:\n",
    "    def jump(self, nums):\n",
    "        \"\"\"\n",
    "        :type nums: List[int]\n",
    "        :rtype: int\n",
    "        \"\"\"\n",
    "        #[fatherpoint,distance]\n",
    "        openlist={0:0}\n",
    "        closelist={}        \n",
    "        while len(nums)-1 not in closelist:\n",
    "            current_point=min(openlist,key=lambda x:openlist[x])\n",
    "            if current_point==len(nums)-1:\n",
    "                return openlist[current_point]\n",
    "            if current_point+nums[current_point]>=len(nums)-1:\n",
    "                return openlist[current_point]+1\n",
    "            for i in range(max(0,current_point-nums[current_point]),min(len(nums)-1,current_point+nums[current_point])+1):\n",
    "                if i not in closelist:\n",
    "                    distance=openlist[current_point]+1\n",
    "                    if (i in openlist and openlist[i]>distance) or i not in openlist:\n",
    "                        if i+nums[i]>=len(nums)-1:\n",
    "                            return distance+1\n",
    "                        openlist[i]=distance            \n",
    "            closelist[current_point]=openlist[current_point]\n",
    "            openlist.pop(current_point)\n",
    "        return closelist[len(nums)-1]"
   ]
  },
  {
   "cell_type": "code",
   "execution_count": 12,
   "metadata": {
    "collapsed": true,
    "scrolled": true
   },
   "outputs": [
    {
     "data": {
      "text/plain": [
       "2"
      ]
     },
     "execution_count": 12,
     "metadata": {},
     "output_type": "execute_result"
    }
   ],
   "source": [
    "a=Solution()\n",
    "b=[2,3,1,1,4]\n",
    "c=a.jump(b)\n",
    "c"
   ]
  },
  {
   "cell_type": "code",
   "execution_count": null,
   "metadata": {
    "collapsed": true,
    "scrolled": true
   },
   "outputs": [],
   "source": [
    "#更快的算法，贪心\n",
    "class Solution:\n",
    "    def jump(self, nums):\n",
    "        counter = 0\n",
    "        curr_end = 0\n",
    "        curr_farthest = 0\n",
    "        for i in range(len(nums)-1):\n",
    "            curr_farthest = max(curr_farthest,i+nums[i])\n",
    "            if i == curr_end:\n",
    "                counter += 1\n",
    "                curr_end = curr_farthest\n",
    "        return counter"
   ]
  },
  {
   "cell_type": "markdown",
   "metadata": {},
   "source": [
    "## 46 Permutations 全排列\n",
    "- 给定一个没有重复数字的序列，返回其所有可能的全排列。"
   ]
  },
  {
   "cell_type": "raw",
   "metadata": {},
   "source": [
    "输入: [1,2,3]\n",
    "输出:\n",
    "[\n",
    "  [1,2,3],\n",
    "  [1,3,2],\n",
    "  [2,1,3],\n",
    "  [2,3,1],\n",
    "  [3,1,2],\n",
    "  [3,2,1]\n",
    "]"
   ]
  },
  {
   "cell_type": "code",
   "execution_count": 5,
   "metadata": {
    "collapsed": true,
    "scrolled": true
   },
   "outputs": [],
   "source": [
    "class Solution:\n",
    "    def permute(self, nums):\n",
    "        \"\"\"\n",
    "        :type nums: List[int]\n",
    "        :rtype: List[List[int]]\n",
    "        \"\"\"\n",
    "        result=[]\n",
    "        results=[]\n",
    "        self.die(nums,result,results)\n",
    "        return results\n",
    "    def die(self,nums,result,results):\n",
    "        if len(nums)==0 and result not in results:\n",
    "            results.append(result)\n",
    "            return\n",
    "        for i in range(len(nums)):\n",
    "            self.die(nums[0:i]+nums[i+1:],result+[nums[i]],results)"
   ]
  },
  {
   "cell_type": "code",
   "execution_count": 6,
   "metadata": {
    "collapsed": true,
    "scrolled": true
   },
   "outputs": [
    {
     "data": {
      "text/plain": [
       "[[1, 2, 3], [1, 3, 2], [2, 1, 3], [2, 3, 1], [3, 1, 2], [3, 2, 1]]"
      ]
     },
     "execution_count": 6,
     "metadata": {},
     "output_type": "execute_result"
    }
   ],
   "source": [
    "a=Solution()\n",
    "b=[1,2,3]\n",
    "c=a.permute(b)\n",
    "c"
   ]
  },
  {
   "cell_type": "markdown",
   "metadata": {},
   "source": [
    "## 47 Permutations II 全排列 II\n",
    "- 给定一个有重复数字的序列，返回其所有可能的全排列。"
   ]
  },
  {
   "cell_type": "raw",
   "metadata": {},
   "source": [
    "输入: [1,1,2]\n",
    "输出:\n",
    "[\n",
    "  [1,1,2],\n",
    "  [1,2,1],\n",
    "  [2,1,1]\n",
    "]"
   ]
  },
  {
   "cell_type": "code",
   "execution_count": 8,
   "metadata": {
    "collapsed": true,
    "scrolled": true
   },
   "outputs": [],
   "source": [
    "class Solution:\n",
    "    def permuteUnique(self, nums):\n",
    "        \"\"\"\n",
    "        :type nums: List[int]\n",
    "        :rtype: List[List[int]]\n",
    "        \"\"\"\n",
    "        result=[]\n",
    "        results=[]\n",
    "        nums.sort()\n",
    "        self.die(nums,result,results)\n",
    "        return results\n",
    "    def die(self,nums,result,results):\n",
    "        if len(nums)==0 and result not in results:\n",
    "            results.append(result)\n",
    "            return\n",
    "        for i in range(len(nums)):\n",
    "            if i>0 and nums[i-1]==nums[i]:\n",
    "                continue\n",
    "            self.die(nums[0:i]+nums[i+1:],result+[nums[i]],results)        "
   ]
  },
  {
   "cell_type": "code",
   "execution_count": 10,
   "metadata": {
    "collapsed": true,
    "scrolled": true
   },
   "outputs": [
    {
     "data": {
      "text/plain": [
       "[[1, 2, 2, 3],\n",
       " [1, 2, 3, 2],\n",
       " [1, 3, 2, 2],\n",
       " [2, 1, 2, 3],\n",
       " [2, 1, 3, 2],\n",
       " [2, 2, 1, 3],\n",
       " [2, 2, 3, 1],\n",
       " [2, 3, 1, 2],\n",
       " [2, 3, 2, 1],\n",
       " [3, 1, 2, 2],\n",
       " [3, 2, 1, 2],\n",
       " [3, 2, 2, 1]]"
      ]
     },
     "execution_count": 10,
     "metadata": {},
     "output_type": "execute_result"
    }
   ],
   "source": [
    "a=Solution()\n",
    "b=[1,2,2,3]\n",
    "c=a.permuteUnique(b)\n",
    "c"
   ]
  },
  {
   "cell_type": "markdown",
   "metadata": {},
   "source": [
    "## 48 Spiral Matrix II 螺旋矩阵II\n",
    "- 给定一个正整数 n，生成一个包含 1 到 n2 所有元素，且元素按顺时针顺序螺旋排列的正方形矩阵。"
   ]
  },
  {
   "cell_type": "raw",
   "metadata": {},
   "source": [
    "输入: 3\n",
    "输出:\n",
    "[\n",
    " [ 1, 2, 3 ],\n",
    " [ 8, 9, 4 ],\n",
    " [ 7, 6, 5 ]\n",
    "]"
   ]
  },
  {
   "cell_type": "code",
   "execution_count": 67,
   "metadata": {
    "collapsed": true,
    "scrolled": true
   },
   "outputs": [
    {
     "data": {
      "text/plain": [
       "1"
      ]
     },
     "execution_count": 67,
     "metadata": {},
     "output_type": "execute_result"
    }
   ],
   "source": [
    "n=3\n",
    "b=[[i for i in range(n)] for j in range(n)]\n",
    "b\n",
    "b[1][1]"
   ]
  },
  {
   "cell_type": "code",
   "execution_count": 68,
   "metadata": {
    "collapsed": true,
    "scrolled": true
   },
   "outputs": [],
   "source": [
    "class Solution:\n",
    "    def generateMatrix(self, n):\n",
    "        \"\"\"\n",
    "        :type n: int\n",
    "        :rtype: List[List[int]]\n",
    "        \"\"\"\n",
    "        if n==0:\n",
    "            return []\n",
    "        if n==1:\n",
    "            return [[1]]\n",
    "        l=[[1 for i in range(n)] for j in range(n)]\n",
    "        min_hang,max_hang,min_lie,max_lie=0,n,0,n\n",
    "        i,j=0,0\n",
    "        c=1\n",
    "        while min_hang<max_hang and min_lie<max_lie:\n",
    "            while j<max_lie:\n",
    "                l[i][j]=c\n",
    "                j+=1\n",
    "                c+=1\n",
    "            j-=1\n",
    "            i+=1\n",
    "            min_hang+=1\n",
    "            if min_hang==max_hang:\n",
    "                break\n",
    "            while i<max_hang:\n",
    "                l[i][j]=c\n",
    "                c+=1\n",
    "                i+=1\n",
    "            i-=1\n",
    "            j-=1\n",
    "            max_lie-=1\n",
    "            if min_lie==max_lie:\n",
    "                break\n",
    "            while j>=min_lie:\n",
    "                l[i][j]=c\n",
    "                c+=1\n",
    "                j-=1\n",
    "            j+=1\n",
    "            i-=1\n",
    "            max_hang-=1\n",
    "            if min_hang==max_hang:\n",
    "                break\n",
    "            while i>=min_hang:\n",
    "                l[i][j]=c\n",
    "                c+=1\n",
    "                i-=1\n",
    "            i+=1\n",
    "            j+=1\n",
    "            min_lie+=1\n",
    "            if min_lie==max_lie:\n",
    "                break\n",
    "        return l"
   ]
  },
  {
   "cell_type": "code",
   "execution_count": 69,
   "metadata": {
    "collapsed": true,
    "scrolled": true
   },
   "outputs": [
    {
     "data": {
      "text/plain": [
       "[[1, 2, 3], [8, 9, 4], [7, 6, 5]]"
      ]
     },
     "execution_count": 69,
     "metadata": {},
     "output_type": "execute_result"
    }
   ],
   "source": [
    "a=Solution()\n",
    "b=3\n",
    "c=a.generateMatrix(b)\n",
    "c"
   ]
  },
  {
   "cell_type": "markdown",
   "metadata": {},
   "source": [
    "## 49 Permutation Sequence 排列顺序\n",
    "- 给出集合 [1,2,3,…,n]，其所有元素共有 n! 种排列。\n",
    "\n",
    "- 按大小顺序列出所有排列情况，并一一标记，当 n = 3 时, 所有排列如下：\n",
    "```\n",
    "\"123\"\n",
    "\"132\"\n",
    "\"213\"\n",
    "\"231\"\n",
    "\"312\"\n",
    "\"321\"\n",
    "```\n",
    "- 给定 n 和 k，返回第 k 个排列。\n",
    "\n",
    "- 说明：\n",
    "\n",
    "- 给定 n 的范围是 [1, 9]。\n",
    "- 给定 k 的范围是[1,  n!]。"
   ]
  },
  {
   "cell_type": "raw",
   "metadata": {},
   "source": [
    "输入: n = 3, k = 3\n",
    "输出: \"213\""
   ]
  },
  {
   "cell_type": "raw",
   "metadata": {},
   "source": [
    "输入: n = 4, k = 9\n",
    "输出: \"2314\""
   ]
  },
  {
   "cell_type": "code",
   "execution_count": 82,
   "metadata": {
    "collapsed": true,
    "scrolled": true
   },
   "outputs": [],
   "source": [
    "class Solution:\n",
    "    def die(self,l,result,k,a):\n",
    "        if len(a)==1:\n",
    "            result.append(str(a[0]))\n",
    "            return\n",
    "        else:\n",
    "            t1,t2=divmod(k,l[-1])\n",
    "            result.append(str(a[t1]))\n",
    "            self.die(l[0:len(l)-1],result,t2,a[0:t1]+a[t1+1:])\n",
    "    def getPermutation(self, n, k):\n",
    "        \"\"\"\n",
    "        :type n: int\n",
    "        :type k: int\n",
    "        :rtype: str\n",
    "        \"\"\"\n",
    "        k-=1\n",
    "        result=[]\n",
    "        l=[1,2,6,24,120,720,5040,40320]\n",
    "        l=l[0:n-1]\n",
    "        a=[i+1 for i in range(n)]\n",
    "        self.die(l,result,k,a)\n",
    "        return ''.join(result)"
   ]
  },
  {
   "cell_type": "code",
   "execution_count": 83,
   "metadata": {
    "collapsed": true,
    "scrolled": true
   },
   "outputs": [
    {
     "data": {
      "text/plain": [
       "'2314'"
      ]
     },
     "execution_count": 83,
     "metadata": {},
     "output_type": "execute_result"
    }
   ],
   "source": [
    "a=Solution()\n",
    "b=4\n",
    "d=9\n",
    "c=a.getPermutation(b,d)\n",
    "c"
   ]
  },
  {
   "cell_type": "markdown",
   "metadata": {},
   "source": [
    "## 50 Permutation Sequence 排列顺序\n",
    "- 给定一个链表，旋转链表，将链表每个节点向右移动 k 个位置，其中 k 是非负数。"
   ]
  },
  {
   "cell_type": "raw",
   "metadata": {},
   "source": [
    "输入: 1->2->3->4->5->NULL, k = 2\n",
    "输出: 4->5->1->2->3->NULL\n",
    "解释:\n",
    "向右旋转 1 步: 5->1->2->3->4->NULL\n",
    "向右旋转 2 步: 4->5->1->2->3->NULL"
   ]
  },
  {
   "cell_type": "raw",
   "metadata": {},
   "source": [
    "输入: 0->1->2->NULL, k = 4\n",
    "输出: 2->0->1->NULL\n",
    "解释:\n",
    "向右旋转 1 步: 2->0->1->NULL\n",
    "向右旋转 2 步: 1->2->0->NULL\n",
    "向右旋转 3 步: 0->1->2->NULL\n",
    "向右旋转 4 步: 2->0->1->NULL"
   ]
  },
  {
   "cell_type": "code",
   "execution_count": 97,
   "metadata": {
    "collapsed": true,
    "scrolled": true
   },
   "outputs": [],
   "source": [
    "# Definition for singly-linked list.\n",
    "# class ListNode:\n",
    "#     def __init__(self, x):\n",
    "#         self.val = x\n",
    "#         self.next = None\n",
    "\n",
    "class Solution:\n",
    "    def rotateRight(self, head, k):\n",
    "        \"\"\"\n",
    "        :type head: ListNode\n",
    "        :type k: int\n",
    "        :rtype: ListNode\n",
    "        \"\"\"\n",
    "        if head==None:\n",
    "            return None\n",
    "        if head.next==None:\n",
    "            return head\n",
    "        if k==0:\n",
    "            return head\n",
    "        t=head\n",
    "        l=[head]\n",
    "        while t.next!=None:\n",
    "            l.append(t.next)\n",
    "            a=t.next\n",
    "            t=a\n",
    "        k=k%len(l)\n",
    "        if k==0:\n",
    "            return head\n",
    "        for i in range(len(l)):\n",
    "            if i==len(l)-k-1:\n",
    "                l[i].next=None\n",
    "            elif i==len(l)-1:\n",
    "                l[i].next=l[0]\n",
    "        return l[-k]"
   ]
  },
  {
   "cell_type": "code",
   "execution_count": 98,
   "metadata": {
    "collapsed": true,
    "scrolled": true
   },
   "outputs": [
    {
     "name": "stdout",
     "output_type": "stream",
     "text": [
      "1\n",
      "2\n"
     ]
    }
   ],
   "source": [
    "class ListNode:\n",
    "    def __init__(self,x):\n",
    "        self.val=x\n",
    "        self.next=None\n",
    "a=Solution()\n",
    "b=[ListNode(1),ListNode(2)]\n",
    "for i in range(len(b)-1):\n",
    "    b[i].next=b[i+1]\n",
    "k=0\n",
    "c=a.rotateRight(b[0],k)\n",
    "while c.next!=None:\n",
    "    print(c.val)\n",
    "    c=c.next\n",
    "print(c.val)"
   ]
  },
  {
   "cell_type": "markdown",
   "metadata": {},
   "source": [
    "## 51 Unique Paths 不同路径\n",
    "- 一个机器人位于一个 m x n 网格的左上角 （起始点在下图中标记为“Start” ）。\n",
    "\n",
    "- 机器人每次只能向下或者向右移动一步。机器人试图达到网格的右下角（在下图中标记为“Finish”）。\n",
    "\n",
    "- 问总共有多少条不同的路径？\n",
    "![](http://tuchuang.rancholovecherry.top/robot_maze.png)"
   ]
  },
  {
   "cell_type": "raw",
   "metadata": {},
   "source": [
    "输入: m = 3, n = 2\n",
    "输出: 3\n",
    "解释:\n",
    "从左上角开始，总共有 3 条路径可以到达右下角。\n",
    "1. 向右 -> 向右 -> 向下\n",
    "2. 向右 -> 向下 -> 向右\n",
    "3. 向下 -> 向右 -> 向右"
   ]
  },
  {
   "cell_type": "raw",
   "metadata": {},
   "source": [
    "输入: m = 7, n = 3\n",
    "输出: 28"
   ]
  },
  {
   "cell_type": "code",
   "execution_count": 1,
   "metadata": {
    "collapsed": true,
    "scrolled": true
   },
   "outputs": [],
   "source": [
    "class Solution:\n",
    "    def uniquePaths(self, m, n):\n",
    "        \"\"\"\n",
    "        :type m: int\n",
    "        :type n: int\n",
    "        :rtype: int\n",
    "        \"\"\"\n",
    "        if m==1 and n==1:\n",
    "            return 1\n",
    "        if m<n:\n",
    "            m,n=n,m\n",
    "        if n==1:\n",
    "            return 1\n",
    "        temp1=list(range(2,m+1))\n",
    "        temp2=[6]\n",
    "        for i in range(3,n+1):\n",
    "            for j in range(2,2+m-i):\n",
    "                temp2.append(temp2[-1]+temp1[j])\n",
    "            temp1=temp2\n",
    "            if len(temp2)>1:\n",
    "                temp2=[temp1[1]*2]\n",
    "        return temp1[-1]"
   ]
  },
  {
   "cell_type": "code",
   "execution_count": 2,
   "metadata": {
    "collapsed": true,
    "scrolled": true
   },
   "outputs": [
    {
     "data": {
      "text/plain": [
       "28"
      ]
     },
     "execution_count": 2,
     "metadata": {},
     "output_type": "execute_result"
    }
   ],
   "source": [
    "a=Solution()\n",
    "b=7\n",
    "d=3\n",
    "c=a.uniquePaths(b,d)\n",
    "c"
   ]
  },
  {
   "cell_type": "markdown",
   "metadata": {},
   "source": [
    "## 52 Unique Paths II 不同路径 II\n",
    "- 一个机器人位于一个 m x n 网格的左上角 （起始点在下图中标记为“Start” ）。\n",
    "\n",
    "- 机器人每次只能向下或者向右移动一步。机器人试图达到网格的右下角（在下图中标记为“Finish”）。\n",
    "- 网格中的障碍物和空位置分别用 1 和 0 来表示。\n",
    "\n",
    "- 问总共有多少条不同的路径？\n",
    "![](http://tuchuang.rancholovecherry.top/robot_maze.png)"
   ]
  },
  {
   "cell_type": "raw",
   "metadata": {},
   "source": [
    "输入:\n",
    "[\n",
    "  [0,0,0],\n",
    "  [0,1,0],\n",
    "  [0,0,0]\n",
    "]\n",
    "输出: 2\n",
    "解释:\n",
    "3x3 网格的正中间有一个障碍物。\n",
    "从左上角到右下角一共有 2 条不同的路径：\n",
    "1. 向右 -> 向右 -> 向下 -> 向下\n",
    "2. 向下 -> 向下 -> 向右 -> 向右"
   ]
  },
  {
   "cell_type": "code",
   "execution_count": 6,
   "metadata": {
    "collapsed": true,
    "scrolled": true
   },
   "outputs": [],
   "source": [
    "class Solution:\n",
    "    def uniquePathsWithObstacles(self, obstacleGrid):\n",
    "        \"\"\"\n",
    "        :type obstacleGrid: List[List[int]]\n",
    "        :rtype: int\n",
    "        \"\"\"\n",
    "        m=len(obstacleGrid)\n",
    "        n=len(obstacleGrid[0])\n",
    "        dp=[[[] for i in range(n) ] for j in range(m) ]\n",
    "        dp[0][0]=1\n",
    "        for i in range(m):\n",
    "            for j in range(i,n):\n",
    "                if obstacleGrid[i][j]==1:\n",
    "                    dp[i][j]=0\n",
    "                    continue\n",
    "                if i==0 and j==0:\n",
    "                    continue\n",
    "                elif i==0:\n",
    "                    dp[i][j]=dp[i][j-1]\n",
    "                elif j==0:\n",
    "                    dp[i][j]=dp[i-1][j]\n",
    "                else:\n",
    "                    dp[i][j]=dp[i-1][j]+dp[i][j-1]\n",
    "            if i<n:\n",
    "                for k in range(i+1,m):\n",
    "                    if obstacleGrid[k][i]==1:\n",
    "                        dp[k][i]=0\n",
    "                        continue\n",
    "                    if i==0:\n",
    "                        dp[k][i]=dp[k-1][i]\n",
    "                    elif k==0:\n",
    "                        dp[k][i]=dp[k][i-1]\n",
    "                    else:\n",
    "                        dp[k][i]=dp[k-1][i]+dp[k][i-1]\n",
    "        return dp[m-1][n-1]"
   ]
  },
  {
   "cell_type": "code",
   "execution_count": 7,
   "metadata": {
    "collapsed": true,
    "scrolled": true
   },
   "outputs": [
    {
     "data": {
      "text/plain": [
       "15"
      ]
     },
     "execution_count": 7,
     "metadata": {},
     "output_type": "execute_result"
    }
   ],
   "source": [
    "a=Solution()\n",
    "b=[[0,0],[0,0],[0,0],[0,0],[0,0],[0,0],[0,0],[0,0],[0,0],[0,0],[0,0],[0,0],[0,0],[0,0],[0,0]]\n",
    "c=a.uniquePathsWithObstacles(b)\n",
    "c\n"
   ]
  },
  {
   "cell_type": "markdown",
   "metadata": {},
   "source": [
    "附记：\n",
    "1. 采用dp思想，每一格可能数等于左边的数目+上面的数目"
   ]
  },
  {
   "cell_type": "markdown",
   "metadata": {},
   "source": [
    "## 53 Rotate Image 旋转图像\n",
    "- 给定一个 n × n 的二维矩阵表示一个图像。\n",
    "\n",
    "- 将图像顺时针旋转 90 度。"
   ]
  },
  {
   "cell_type": "raw",
   "metadata": {},
   "source": [
    "给定 matrix = \n",
    "[\n",
    "  [1,2,3],\n",
    "  [4,5,6],\n",
    "  [7,8,9]\n",
    "],\n",
    "\n",
    "原地旋转输入矩阵，使其变为:\n",
    "[\n",
    "  [7,4,1],\n",
    "  [8,5,2],\n",
    "  [9,6,3]\n",
    "]\n",
    "\n",
    "给定 matrix =\n",
    "[\n",
    "  [ 5, 1, 9,11],\n",
    "  [ 2, 4, 8,10],\n",
    "  [13, 3, 6, 7],\n",
    "  [15,14,12,16]\n",
    "], \n",
    "\n",
    "原地旋转输入矩阵，使其变为:\n",
    "[\n",
    "  [15,13, 2, 5],\n",
    "  [14, 3, 4, 1],\n",
    "  [12, 6, 8, 9],\n",
    "  [16, 7,10,11]\n",
    "]"
   ]
  },
  {
   "cell_type": "code",
   "execution_count": 57,
   "metadata": {
    "collapsed": true,
    "scrolled": true
   },
   "outputs": [],
   "source": [
    "class Solution:\n",
    "    def rotate(self, matrix):\n",
    "        \"\"\"\n",
    "        :type matrix: List[List[int]]\n",
    "        :rtype: void Do not return anything, modify matrix in-place instead.\n",
    "        \"\"\"\n",
    "        a=zip(*matrix)\n",
    "        j=0\n",
    "        for i in list(a):\n",
    "            temp=list(i)\n",
    "            temp.reverse()\n",
    "            matrix[j]=temp\n",
    "            j+=1\n",
    "        return"
   ]
  },
  {
   "cell_type": "code",
   "execution_count": 58,
   "metadata": {
    "collapsed": true,
    "scrolled": true
   },
   "outputs": [
    {
     "data": {
      "text/plain": [
       "[(7, 4, 1), (8, 5, 2), (9, 6, 3)]"
      ]
     },
     "execution_count": 58,
     "metadata": {},
     "output_type": "execute_result"
    }
   ],
   "source": [
    "a=Solution()\n",
    "b=[[1,2,3],[4,5,6],[7,8,9]]\n",
    "a.rotate(b)\n",
    "b"
   ]
  },
  {
   "cell_type": "markdown",
   "metadata": {},
   "source": [
    "## 54 Group Anagrams 字母异位词分组\n",
    "- 给定一个字符串数组，将字母异位词组合在一起。字母异位词指字母相同，但排列不同的字符串。\n",
    "- 所有输入均为小写字母。\n",
    "- 不考虑答案输出的顺序。"
   ]
  },
  {
   "cell_type": "raw",
   "metadata": {},
   "source": [
    "输入: [\"eat\", \"tea\", \"tan\", \"ate\", \"nat\", \"bat\"],\n",
    "输出:\n",
    "[\n",
    "  [\"ate\",\"eat\",\"tea\"],\n",
    "  [\"nat\",\"tan\"],\n",
    "  [\"bat\"]\n",
    "]"
   ]
  },
  {
   "cell_type": "code",
   "execution_count": 49,
   "metadata": {
    "collapsed": true,
    "scrolled": true
   },
   "outputs": [],
   "source": [
    "class Solution:\n",
    "    def groupAnagrams(self, strs):\n",
    "        \"\"\"\n",
    "        :type strs: List[str]\n",
    "        :rtype: List[List[str]]\n",
    "        \"\"\"\n",
    "        l={}\n",
    "        for i in strs:\n",
    "            t=''.join(sorted(i))\n",
    "            if t in l:\n",
    "                l[t].append(i)\n",
    "            else:\n",
    "                l[t]=[i]\n",
    "        return list(l.values())\n",
    "        "
   ]
  },
  {
   "cell_type": "code",
   "execution_count": 51,
   "metadata": {
    "collapsed": true,
    "scrolled": true
   },
   "outputs": [
    {
     "data": {
      "text/plain": [
       "[['eat', 'tea', 'ate'], ['tan', 'nat'], ['bat']]"
      ]
     },
     "execution_count": 51,
     "metadata": {},
     "output_type": "execute_result"
    }
   ],
   "source": [
    "a=Solution()\n",
    "b=[\"eat\", \"tea\", \"tan\", \"ate\", \"nat\", \"bat\"]\n",
    "c=a.groupAnagrams(b)\n",
    "c"
   ]
  },
  {
   "cell_type": "markdown",
   "metadata": {},
   "source": [
    "附记：\n",
    "1. 字符串函数join()的用法\n",
    "2. sorted函数用法"
   ]
  },
  {
   "cell_type": "markdown",
   "metadata": {},
   "source": [
    "## 55 pow(x,n) 计算x的n次幂\n",
    "\n"
   ]
  },
  {
   "cell_type": "raw",
   "metadata": {},
   "source": [
    "输入: 2.00000, 10\n",
    "输出: 1024.00000\n",
    "\n",
    "输入: 2.10000, 3\n",
    "输出: 9.26100\n",
    "\n",
    "输入: 2.00000, -2\n",
    "输出: 0.25000\n",
    "解释: 2^(-2) = 1/2^2 = 1/4 = 0.25"
   ]
  },
  {
   "cell_type": "code",
   "execution_count": 7,
   "metadata": {
    "collapsed": true,
    "scrolled": true
   },
   "outputs": [],
   "source": [
    "class Solution:\n",
    "    def myPow(self, x, n):\n",
    "        \"\"\"\n",
    "        :type x: float\n",
    "        :type n: int\n",
    "        :rtype: float\n",
    "        \"\"\"\n",
    "        if n==0:\n",
    "            return 1\n",
    "        if x==0:\n",
    "            return 0\n",
    "        if n<0:\n",
    "            pan=-1\n",
    "            n=-n\n",
    "        else:\n",
    "            pan=1\n",
    "        l1=[[1,0],[x,1]]\n",
    "        l2=[]\n",
    "        while l1[-1][1]<n:\n",
    "            l1.append([l1[-1][0]*l1[-1][0],l1[-1][1]*2])\n",
    "        while n>=2:\n",
    "            temp1,temp2=divmod(n,2)\n",
    "            n=temp1\n",
    "            l2.append(temp2)\n",
    "        l2.append(n)\n",
    "        sum=1\n",
    "        for i in range(len(l2)):\n",
    "            if l2[i]==1:\n",
    "                sum*=l1[i+1][0]\n",
    "        if pan==-1:\n",
    "            sum=1/sum\n",
    "        return sum"
   ]
  },
  {
   "cell_type": "code",
   "execution_count": 8,
   "metadata": {
    "collapsed": true,
    "scrolled": true
   },
   "outputs": [
    {
     "data": {
      "text/plain": [
       "0.25"
      ]
     },
     "execution_count": 8,
     "metadata": {},
     "output_type": "execute_result"
    }
   ],
   "source": [
    "a=Solution()\n",
    "x=2\n",
    "n=-2\n",
    "c=a.myPow(x,n)\n",
    "c"
   ]
  },
  {
   "cell_type": "markdown",
   "metadata": {},
   "source": [
    "## 56 N-Queens N皇后\n",
    "\n",
    "- n 皇后问题研究的是如何将 n 个皇后放置在 n×n 的棋盘上，并且使皇后彼此之间不能相互攻击。\n",
    "- 给定一个整数 n，返回所有不同的 n 皇后问题的解决方案。\n",
    "\n",
    "- 每一种解法包含一个明确的 n 皇后问题的棋子放置方案，该方案中 'Q' 和 '.' 分别代表了皇后和空位。"
   ]
  },
  {
   "cell_type": "raw",
   "metadata": {},
   "source": [
    "输入: 4\n",
    "输出: [\n",
    " [\".Q..\",  // 解法 1\n",
    "  \"...Q\",\n",
    "  \"Q...\",\n",
    "  \"..Q.\"],\n",
    "\n",
    " [\"..Q.\",  // 解法 2\n",
    "  \"Q...\",\n",
    "  \"...Q\",\n",
    "  \".Q..\"]\n",
    "]\n",
    "解释: 4 皇后问题存在两个不同的解法。"
   ]
  },
  {
   "cell_type": "code",
   "execution_count": 23,
   "metadata": {
    "collapsed": true,
    "scrolled": true
   },
   "outputs": [],
   "source": [
    "class Solution:\n",
    "    def solveNQueens(self, n):\n",
    "        \"\"\"\n",
    "        :type n: int\n",
    "        :rtype: List[List[str]]\n",
    "        \"\"\"\n",
    "        results=[]\n",
    "        board=[['.' for i in range(n)] for j in range(n)]\n",
    "        \n",
    "        self.die(board,results,0)\n",
    "        return results\n",
    "    \n",
    "    def test(self,board,i,j):\n",
    "        for k in range(len(board)):\n",
    "            if board[k][j]=='Q':\n",
    "                return False\n",
    "            if board[i][k]=='Q':\n",
    "                return False\n",
    "        a,b=i,j\n",
    "        while a>=0 and b>=0:\n",
    "            if board[a][b]=='Q':\n",
    "                return False\n",
    "            a-=1\n",
    "            b-=1\n",
    "        a,b=i,j\n",
    "        while a>=0 and b<=len(board)-1:\n",
    "            if board[a][b]=='Q':\n",
    "                return False\n",
    "            a-=1\n",
    "            b+=1\n",
    "        a,b=i,j\n",
    "        while a<=len(board)-1 and b<=len(board)-1:\n",
    "            if board[a][b]=='Q':\n",
    "                return False\n",
    "            a+=1\n",
    "            b+=1   \n",
    "        a,b=i,j\n",
    "        while a<=len(board)-1 and b>=0:\n",
    "            if board[a][b]=='Q':\n",
    "                return False\n",
    "            a+=1\n",
    "            b-=1       \n",
    "        return True\n",
    "    def copy(self,a,type):\n",
    "        if type==1:\n",
    "            b=[[] for i in range(len(a))]\n",
    "            for i in range(len(a)):\n",
    "                for j in range(len(a[i])):\n",
    "                    b[i].append(a[i][j])\n",
    "            return b\n",
    "        elif type==2:\n",
    "            b=[]\n",
    "            for i in range(len(a)):\n",
    "                temp=''\n",
    "                for j in range(len(a[i])):\n",
    "                    temp+=a[i][j]\n",
    "                b.append(temp)\n",
    "            return b\n",
    "    def die(self,board,results,a):\n",
    "        if a==len(board):\n",
    "            results.append(self.copy(board,2))\n",
    "            return True\n",
    "        for i in range(len(board)):\n",
    "            if self.test(board,a,i):\n",
    "                board[a][i]='Q'\n",
    "                if self.die(self.copy(board,1),results,a+1)==False:\n",
    "                    board[a][i]='.'\n",
    "                    continue\n",
    "        return False"
   ]
  },
  {
   "cell_type": "code",
   "execution_count": 36,
   "metadata": {
    "collapsed": true,
    "scrolled": true
   },
   "outputs": [
    {
     "data": {
      "text/plain": [
       "[['.Q..', '...Q', 'Q...', '..Q.'], ['..Q.', 'Q...', '...Q', '.Q..']]"
      ]
     },
     "execution_count": 36,
     "metadata": {},
     "output_type": "execute_result"
    }
   ],
   "source": [
    "a=Solution()\n",
    "b=4\n",
    "c=a.solveNQueens(b)\n",
    "c"
   ]
  },
  {
   "cell_type": "code",
   "execution_count": 35,
   "metadata": {
    "collapsed": true,
    "scrolled": true
   },
   "outputs": [],
   "source": [
    "#另一种解法：\n",
    "class Solution:\n",
    "    def die(self,a,b,results,n):\n",
    "        if b==n:\n",
    "            temp=[]\n",
    "            for i in range(n):\n",
    "                temp.append('.'*a[i]+'Q'+'.'*(n-a[i]-1))\n",
    "            results.append(temp)\n",
    "            return\n",
    "        for i in range(n):\n",
    "            if i not in a:\n",
    "                for j in range(len(a)):\n",
    "                    if abs(b-j)==abs(a[j]-i):\n",
    "                        break\n",
    "                else:\n",
    "                    self.die(a+[i],b+1,results,n)\n",
    "    def solveNQueens(self, n):\n",
    "        \"\"\"\n",
    "        :type n: int\n",
    "        :rtype: List[List[str]]\n",
    "        \"\"\"\n",
    "        results=[]\n",
    "        self.die([],0,results,n)\n",
    "        return results"
   ]
  },
  {
   "cell_type": "markdown",
   "metadata": {},
   "source": [
    "附记：\n",
    "1. 在 python 中，for … else 表示这样的意思，for 中的语句和普通的没有区别，else 中的语句会在循环正常执行完（即 for 不是通过 break 跳出而中断的）的情况下执行，while … else 也是一样。\n",
    "也就是说，如果break跳出了，那么就执行else中的，否则不执行\n",
    "2. '.'*5=='.....'\n"
   ]
  },
  {
   "cell_type": "markdown",
   "metadata": {},
   "source": [
    "## 57 N-Queens II N皇后2\n",
    "\n",
    "- n 皇后问题研究的是如何将 n 个皇后放置在 n×n 的棋盘上，并且使皇后彼此之间不能相互攻击。\n",
    "- 给定一个整数 n，返回 n 皇后不同的解决方案的数量。"
   ]
  },
  {
   "cell_type": "raw",
   "metadata": {},
   "source": [
    "输入: 4\n",
    "输出: 2\n",
    "解释: 4 皇后问题存在如下两个不同的解法。\n",
    "[\n",
    " [\".Q..\",  // 解法 1\n",
    "  \"...Q\",\n",
    "  \"Q...\",\n",
    "  \"..Q.\"],\n",
    "\n",
    " [\"..Q.\",  // 解法 2\n",
    "  \"Q...\",\n",
    "  \"...Q\",\n",
    "  \".Q..\"]\n",
    "]"
   ]
  },
  {
   "cell_type": "code",
   "execution_count": 37,
   "metadata": {
    "collapsed": true,
    "scrolled": true
   },
   "outputs": [],
   "source": [
    "class Solution:\n",
    "    def die(self,a,b,results,n):\n",
    "        if b==n:\n",
    "            results[0]+=1\n",
    "            return\n",
    "        for i in range(n):\n",
    "            if i not in a:\n",
    "                for j in range(len(a)):\n",
    "                    if abs(b-j)==abs(a[j]-i):\n",
    "                        break\n",
    "                else:\n",
    "                    self.die(a+[i],b+1,results,n)\n",
    "    def totalNQueens(self, n):\n",
    "        \"\"\"\n",
    "        :type n: int\n",
    "        :rtype: List[List[str]]\n",
    "        \"\"\"\n",
    "        results=[0]\n",
    "        self.die([],0,results,n)\n",
    "        return results[0]"
   ]
  },
  {
   "cell_type": "code",
   "execution_count": 38,
   "metadata": {
    "collapsed": true,
    "scrolled": true
   },
   "outputs": [
    {
     "data": {
      "text/plain": [
       "10"
      ]
     },
     "execution_count": 38,
     "metadata": {},
     "output_type": "execute_result"
    }
   ],
   "source": [
    "a=Solution()\n",
    "b=5\n",
    "c=a.totalNQueens(b)\n",
    "c"
   ]
  },
  {
   "cell_type": "markdown",
   "metadata": {},
   "source": [
    "## 58 Maximum Subarray 最大子序列\n",
    "\n",
    "- 给定一个整数数组 nums ，找到一个具有最大和的连续子数组（子数组最少包含一个元素），返回其最大和。\n",
    "- 如果你已经实现复杂度为 O(n) 的解法，尝试使用更为精妙的分治法求解。"
   ]
  },
  {
   "cell_type": "raw",
   "metadata": {},
   "source": [
    "输入: [-2,1,-3,4,-1,2,1,-5,4],\n",
    "输出: 6\n",
    "解释: 连续子数组 [4,-1,2,1] 的和最大，为 6。"
   ]
  },
  {
   "cell_type": "code",
   "execution_count": 6,
   "metadata": {
    "collapsed": true,
    "scrolled": true
   },
   "outputs": [],
   "source": [
    "#方法一\n",
    "class Solution:\n",
    "    def maxSubArray(self, nums):\n",
    "        c_sum=g_sum=nums[0]\n",
    "        for i in range (1,len(nums)):\n",
    "            c_sum=max(nums[i],nums[i]+c_sum)\n",
    "            if c_sum>g_sum:\n",
    "                g_sum=c_sum\n",
    "        return g_sum"
   ]
  },
  {
   "cell_type": "code",
   "execution_count": null,
   "metadata": {
    "collapsed": true,
    "scrolled": true
   },
   "outputs": [],
   "source": [
    "#方法二\n",
    "class Solution:\n",
    "    def maxSubArray(self, nums):\n",
    "        c_sum=g_sum=nums[0]\n",
    "        for i in range (1,len(nums)):\n",
    "            c_sum=max(nums[i],nums[i]+c_sum)\n",
    "            if c_sum>g_sum:\n",
    "                g_sum=c_sum\n",
    "        return g_sum"
   ]
  },
  {
   "cell_type": "code",
   "execution_count": 7,
   "metadata": {
    "collapsed": true,
    "scrolled": true
   },
   "outputs": [
    {
     "data": {
      "text/plain": [
       "51"
      ]
     },
     "execution_count": 7,
     "metadata": {},
     "output_type": "execute_result"
    }
   ],
   "source": [
    "a=Solution()\n",
    "b=[50,-1,-1,-1,-1,5]\n",
    "c=a.maxSubArray(b)\n",
    "c"
   ]
  },
  {
   "cell_type": "markdown",
   "metadata": {},
   "source": [
    "## 59 Spiral Matrix 螺旋矩阵\n",
    "\n",
    "- 给定一个包含 m x n 个元素的矩阵（m 行, n 列），请按照顺时针螺旋顺序，返回矩阵中的所有元素。"
   ]
  },
  {
   "cell_type": "raw",
   "metadata": {},
   "source": [
    "输入:\n",
    "[\n",
    " [ 1, 2, 3 ],\n",
    " [ 4, 5, 6 ],\n",
    " [ 7, 8, 9 ]\n",
    "]\n",
    "输出: [1,2,3,6,9,8,7,4,5]"
   ]
  },
  {
   "cell_type": "raw",
   "metadata": {},
   "source": [
    "输入:\n",
    "[\n",
    "  [1, 2, 3, 4],\n",
    "  [5, 6, 7, 8],\n",
    "  [9,10,11,12]\n",
    "]\n",
    "输出: [1,2,3,4,8,12,11,10,9,5,6,7]"
   ]
  },
  {
   "cell_type": "code",
   "execution_count": 3,
   "metadata": {
    "collapsed": true,
    "scrolled": true
   },
   "outputs": [],
   "source": [
    "class Solution:\n",
    "    def spiralOrder(self, matrix):\n",
    "        \"\"\"\n",
    "        :type matrix: List[List[int]]\n",
    "        :rtype: List[int]\n",
    "        \"\"\"\n",
    "        if len(matrix)==0:\n",
    "            return matrix\n",
    "        if len(matrix)==1:\n",
    "            return matrix[0]\n",
    "        l=[]\n",
    "        min_hang,max_hang,min_lie,max_lie=0,len(matrix),0,len(matrix[0])\n",
    "        i,j=0,0\n",
    "        while min_hang<max_hang and min_lie<max_lie:\n",
    "            while j<max_lie:\n",
    "                l.append(matrix[i][j])\n",
    "                j+=1\n",
    "            j-=1\n",
    "            i+=1\n",
    "            min_hang+=1\n",
    "            if min_hang==max_hang:\n",
    "                break\n",
    "            while i<max_hang:\n",
    "                l.append(matrix[i][j])\n",
    "                i+=1\n",
    "            i-=1\n",
    "            j-=1\n",
    "            max_lie-=1\n",
    "            if min_lie==max_lie:\n",
    "                break\n",
    "            while j>=min_lie:\n",
    "                l.append(matrix[i][j])\n",
    "                j-=1\n",
    "            j+=1\n",
    "            i-=1\n",
    "            max_hang-=1\n",
    "            if min_hang==max_hang:\n",
    "                break\n",
    "            while i>=min_hang:\n",
    "                l.append(matrix[i][j])\n",
    "                i-=1\n",
    "            i+=1\n",
    "            j+=1\n",
    "            min_lie+=1\n",
    "            if min_lie==max_lie:\n",
    "                break\n",
    "        return l"
   ]
  },
  {
   "cell_type": "code",
   "execution_count": 4,
   "metadata": {
    "collapsed": true,
    "scrolled": true
   },
   "outputs": [
    {
     "data": {
      "text/plain": [
       "[1, 2, 3, 6, 9, 8, 7, 4, 5]"
      ]
     },
     "execution_count": 4,
     "metadata": {},
     "output_type": "execute_result"
    }
   ],
   "source": [
    "a=Solution()\n",
    "b=[[ 1, 2, 3 ],[ 4, 5, 6 ],[ 7, 8, 9 ]]\n",
    "c=a.spiralOrder(b)\n",
    "c"
   ]
  },
  {
   "cell_type": "markdown",
   "metadata": {},
   "source": [
    "## 60 Jump Game 跳跃游戏\n",
    "\n",
    "- 给定一个非负整数数组，你最初位于数组的第一个位置。\n",
    "\n",
    "- 数组中的每个元素代表你在该位置可以跳跃的最大长度。\n",
    "\n",
    "- 判断你是否能够到达最后一个位置。"
   ]
  },
  {
   "cell_type": "raw",
   "metadata": {},
   "source": [
    "输入: [2,3,1,1,4]\n",
    "输出: true\n",
    "解释: 从位置 0 到 1 跳 1 步, 然后跳 3 步到达最后一个位置。"
   ]
  },
  {
   "cell_type": "raw",
   "metadata": {},
   "source": [
    "输入: [3,2,1,0,4]\n",
    "输出: false\n",
    "解释: 无论怎样，你总会到达索引为 3 的位置。但该位置的最大跳跃长度是 0 ， 所以你永远不可能到达最后一个位置。"
   ]
  },
  {
   "cell_type": "code",
   "execution_count": 5,
   "metadata": {
    "collapsed": true,
    "scrolled": true
   },
   "outputs": [],
   "source": [
    "class Solution:\n",
    "    def canJump(self, nums):\n",
    "        \"\"\"\n",
    "        :type nums: List[int]\n",
    "        :rtype: bool\n",
    "        \"\"\"\n",
    "        farthest=0\n",
    "        for i in range(len(nums)-1):\n",
    "            farthest=max(farthest,i+nums[i])\n",
    "            if farthest==i:\n",
    "                return False\n",
    "        if farthest>=len(nums)-1:\n",
    "            return True"
   ]
  },
  {
   "cell_type": "code",
   "execution_count": 7,
   "metadata": {
    "collapsed": true,
    "scrolled": true
   },
   "outputs": [
    {
     "data": {
      "text/plain": [
       "False"
      ]
     },
     "execution_count": 7,
     "metadata": {},
     "output_type": "execute_result"
    }
   ],
   "source": [
    "a=Solution()\n",
    "b=[3,2,1,0,4]\n",
    "c=a.canJump(b)\n",
    "c"
   ]
  },
  {
   "cell_type": "markdown",
   "metadata": {},
   "source": [
    "## 61  Merge Intervals 合并区间\n",
    "\n",
    "- 给出一个区间的集合，请合并所有重叠的区间。"
   ]
  },
  {
   "cell_type": "raw",
   "metadata": {},
   "source": [
    "输入: [[1,3],[2,6],[8,10],[15,18]]\n",
    "输出: [[1,6],[8,10],[15,18]]\n",
    "解释: 区间 [1,3] 和 [2,6] 重叠, 将它们合并为 [1,6]."
   ]
  },
  {
   "cell_type": "raw",
   "metadata": {},
   "source": [
    "输入: [[1,4],[4,5]]\n",
    "输出: [[1,5]]\n",
    "解释: 区间 [1,4] 和 [4,5] 可被视为重叠区间。"
   ]
  },
  {
   "cell_type": "code",
   "execution_count": 20,
   "metadata": {
    "collapsed": true,
    "scrolled": true
   },
   "outputs": [],
   "source": [
    "# Definition for an interval.\n",
    "# class Interval:\n",
    "#     def __init__(self, s=0, e=0):\n",
    "#         self.start = s\n",
    "#         self.end = e\n",
    "\n",
    "class Solution:\n",
    "    def merge(self, intervals):\n",
    "        \"\"\"\n",
    "        :type intervals: List[Interval]\n",
    "        :rtype: List[Interval]\n",
    "        \"\"\"\n",
    "        if len(intervals)==0:\n",
    "            return []\n",
    "        intervals.sort(key=lambda x:x.start)\n",
    "        l=[intervals[0]]\n",
    "        for i in range(1,len(intervals)):\n",
    "            if l[-1].end>=intervals[i].start:\n",
    "                l[-1].end=max(intervals[i].end,l[-1].end)\n",
    "            else:\n",
    "                l.append(intervals[i])\n",
    "        return l\n",
    "            "
   ]
  },
  {
   "cell_type": "code",
   "execution_count": 25,
   "metadata": {
    "collapsed": true,
    "scrolled": true
   },
   "outputs": [
    {
     "data": {
      "text/plain": [
       "[<__main__.Interval at 0x228d8f8b518>]"
      ]
     },
     "execution_count": 25,
     "metadata": {},
     "output_type": "execute_result"
    }
   ],
   "source": [
    "class Interval:\n",
    "    def __init__(self,s=0,e=0):\n",
    "        self.start=s\n",
    "        self.end=e\n",
    "a=Solution()\n",
    "b=[Interval(1,4),Interval(0,4)]\n",
    "c=a.merge(b)\n",
    "c"
   ]
  },
  {
   "cell_type": "markdown",
   "metadata": {},
   "source": [
    "## 62  Insert Interval 插入区间\n",
    "\n",
    "\n",
    "- 给出一个无重叠的 ，按照区间起始端点排序的区间列表。\n",
    "\n",
    "- 在列表中插入一个新的区间，你需要确保列表中的区间仍然有序且不重叠（如果有必要的话，可以合并区间）。"
   ]
  },
  {
   "cell_type": "raw",
   "metadata": {},
   "source": [
    "输入: intervals = [[1,3],[6,9]], newInterval = [2,5]\n",
    "输出: [[1,5],[6,9]]"
   ]
  },
  {
   "cell_type": "raw",
   "metadata": {},
   "source": [
    "输入: intervals = [[1,2],[3,5],[6,7],[8,10],[12,16]], newInterval = [4,8]\n",
    "输出: [[1,2],[3,10],[12,16]]\n",
    "解释: 这是因为新的区间 [4,8] 与 [3,5],[6,7],[8,10] 重叠。"
   ]
  },
  {
   "cell_type": "code",
   "execution_count": 26,
   "metadata": {
    "collapsed": true,
    "scrolled": true
   },
   "outputs": [],
   "source": [
    "# Definition for an interval.\n",
    "# class Interval:\n",
    "#     def __init__(self, s=0, e=0):\n",
    "#         self.start = s\n",
    "#         self.end = e\n",
    "\n",
    "class Solution:\n",
    "    def insert(self, intervals, newInterval):\n",
    "        \"\"\"\n",
    "        :type intervals: List[Interval]\n",
    "        :type newInterval: Interval\n",
    "        :rtype: List[Interval]\n",
    "        \"\"\"\n",
    "        if len(intervals)==0:\n",
    "            return [newInterval]\n",
    "        intervals.append(newInterval)\n",
    "        intervals.sort(key=lambda x:x.start)\n",
    "        l=[intervals[0]]\n",
    "        for i in range(1,len(intervals)):\n",
    "            if intervals[i].start>newInterval.end:\n",
    "                l=l+intervals[i:]\n",
    "                break\n",
    "            if l[-1].end>=intervals[i].start:\n",
    "                l[-1].end=max(intervals[i].end,l[-1].end)\n",
    "            else:\n",
    "                l.append(intervals[i])\n",
    "        return l"
   ]
  },
  {
   "cell_type": "code",
   "execution_count": 31,
   "metadata": {
    "collapsed": true,
    "scrolled": true
   },
   "outputs": [
    {
     "name": "stdout",
     "output_type": "stream",
     "text": [
      "1 2\n",
      "3 10\n",
      "12 16\n"
     ]
    }
   ],
   "source": [
    "class Interval:\n",
    "    def __init__(self,s=0,e=0):\n",
    "        self.start=s\n",
    "        self.end=e\n",
    "a=Solution()\n",
    "b=[Interval(1,2),Interval(3,5),Interval(6,7),Interval(8,10),Interval(12,16)]\n",
    "new=Interval(4,8)\n",
    "c=a.insert(b,new)\n",
    "for i in range(len(c)):\n",
    "    print(c[i].start,c[i].end)"
   ]
  },
  {
   "cell_type": "markdown",
   "metadata": {},
   "source": [
    "## 63 Length of Last Word 最后一个词的长度\n",
    "\n",
    "\n",
    "- 给定一个仅包含大小写字母和空格 ' ' 的字符串，返回其最后一个单词的长度。\n",
    "\n",
    "- 如果不存在最后一个单词，请返回 0 。\n",
    "\n",
    "- 说明：一个单词是指由字母组成，但不包含任何空格的字符串。"
   ]
  },
  {
   "cell_type": "raw",
   "metadata": {},
   "source": [
    "输入: \"Hello World\"\n",
    "输出: 5"
   ]
  },
  {
   "cell_type": "code",
   "execution_count": 59,
   "metadata": {
    "collapsed": true,
    "scrolled": true
   },
   "outputs": [],
   "source": [
    "class Solution:\n",
    "    def lengthOfLastWord(self, s):\n",
    "        \"\"\"\n",
    "        :type s: str\n",
    "        :rtype: int\n",
    "        \"\"\"\n",
    "        s=' '+s\n",
    "        count=0\n",
    "        max_count=0\n",
    "        for i in range(len(s)-1,0,-1):\n",
    "            if s[i]!=' ':\n",
    "                count+=1\n",
    "            else:\n",
    "                if max_count!=0:\n",
    "                    return max_count\n",
    "                max_count=count\n",
    "                count=0\n",
    "        return max(count,max_count)"
   ]
  },
  {
   "cell_type": "code",
   "execution_count": 60,
   "metadata": {
    "collapsed": true,
    "scrolled": true
   },
   "outputs": [
    {
     "data": {
      "text/plain": [
       "5"
      ]
     },
     "execution_count": 60,
     "metadata": {},
     "output_type": "execute_result"
    }
   ],
   "source": [
    "a=Solution()\n",
    "b='aohio dg'\n",
    "c=a.lengthOfLastWord(b)\n",
    "c"
   ]
  },
  {
   "cell_type": "markdown",
   "metadata": {},
   "source": []
  },
  {
   "cell_type": "markdown",
   "metadata": {},
   "source": [
    "## 64 Minimum Path Sum 最小路径和\n",
    "\n",
    "\n",
    "\n",
    "- 给定一个包含非负整数的 m x n 网格，请找出一条从左上角到右下角的路径，使得路径上的数字总和为最小。\n",
    "\n",
    "- 说明：每次只能向下或者向右移动一步。\n"
   ]
  },
  {
   "cell_type": "raw",
   "metadata": {},
   "source": [
    "输入:\n",
    "[\n",
    "  [1,3,1],\n",
    "  [1,5,1],\n",
    "  [4,2,1]\n",
    "]\n",
    "输出: 7\n",
    "解释: 因为路径 1→3→1→1→1 的总和最小。"
   ]
  },
  {
   "cell_type": "code",
   "execution_count": 10,
   "metadata": {
    "collapsed": true,
    "scrolled": true
   },
   "outputs": [],
   "source": [
    "class Solution:\n",
    "    def minPathSum(self, grid):\n",
    "        \"\"\"\n",
    "        :type grid: List[List[int]]\n",
    "        :rtype: int\n",
    "        \"\"\"\n",
    "        m=len(grid)\n",
    "        n=len(grid[0])\n",
    "        dp=[[[] for i in range(n) ] for j in range(m) ]\n",
    "        dp[0][0]=grid[0][0]\n",
    "        for i in range(m):\n",
    "            for j in range(i,n):\n",
    "                if i==0 and j==0:\n",
    "                    continue\n",
    "                elif i==0:\n",
    "                    dp[i][j]=dp[i][j-1]+grid[i][j]\n",
    "                elif j==0:\n",
    "                    dp[i][j]=dp[i-1][j]+grid[i][j]\n",
    "                else:\n",
    "                    dp[i][j]=min(dp[i-1][j]+grid[i][j],dp[i][j-1]+grid[i][j])\n",
    "            if i<n:\n",
    "                for k in range(i+1,m):\n",
    "                    if i==0:\n",
    "                        dp[k][i]=dp[k-1][i]+grid[k][i]\n",
    "                    elif k==0:\n",
    "                        dp[k][i]=dp[k][i-1]+grid[k][i]\n",
    "                    else:\n",
    "                        dp[k][i]=min(dp[k-1][i]+grid[k][i],dp[k][i-1]+grid[k][i])\n",
    "        return dp[m-1][n-1]"
   ]
  },
  {
   "cell_type": "code",
   "execution_count": 11,
   "metadata": {
    "collapsed": true,
    "scrolled": true
   },
   "outputs": [
    {
     "data": {
      "text/plain": [
       "7"
      ]
     },
     "execution_count": 11,
     "metadata": {},
     "output_type": "execute_result"
    }
   ],
   "source": [
    "a=Solution()\n",
    "b=[[1,3,1],[1,5,1],[4,2,1]]\n",
    "c=a.minPathSum(b)\n",
    "c\n"
   ]
  },
  {
   "cell_type": "markdown",
   "metadata": {},
   "source": [
    "附记：\n",
    "1. dp思想，当前格只与上面的和左边的有关"
   ]
  },
  {
   "cell_type": "markdown",
   "metadata": {},
   "source": [
    "## 65 Valid Number 有效数字\n",
    "\n",
    "\n",
    "\n",
    "- 验证给定的字符串是否为数字。\n",
    "\n",
    "例如:\n",
    "```\n",
    "\"0\" => true\n",
    "\" 0.1 \" => true\n",
    "\"abc\" => false\n",
    "\"1 a\" => false\n",
    "\"2e10\" => true\n",
    "```\n",
    "- 说明: 我们有意将问题陈述地比较模糊。在实现代码之前，你应当事先思考所有可能的情况。\n"
   ]
  },
  {
   "cell_type": "code",
   "execution_count": 13,
   "metadata": {
    "collapsed": true,
    "scrolled": true
   },
   "outputs": [],
   "source": [
    "class Solution:\n",
    "    def isNumber(self, s):\n",
    "        \"\"\"\n",
    "        :type s: str\n",
    "        :rtype: bool\n",
    "        \"\"\"\n",
    "        n=len(s)\n",
    "        if len(s)==0:\n",
    "            return False\n",
    "        elif len(s)==1:\n",
    "            if s.isdigit():\n",
    "                return True\n",
    "            else:\n",
    "                return False\n",
    "        #'.',' ','e','z-d,f-z','0-9'\n",
    "        i=0\n",
    "        while s[i]==' ' or s[i]=='-' or s[i]=='+':\n",
    "            if len(s)==1:\n",
    "                return False\n",
    "            if (s[i]=='-' or s[i]=='+') and (s[i+1].isdigit()==False and s[i+1]!='.'):\n",
    "                return False\n",
    "            s=s[i+1:]\n",
    "        i=len(s)-1\n",
    "        while s[i]==' ':\n",
    "            if len(s)==1:\n",
    "                return False\n",
    "            s=s[0:i]\n",
    "            i-=1\n",
    "        n=len(s)\n",
    "            \n",
    "        result=[[0 for i in range(6)]for j in range(n)]\n",
    "        for i in range(len(s)):\n",
    "            if i>0:\n",
    "                result[i]=result[i-1]\n",
    "            if s[i]=='.':\n",
    "                if i==0:\n",
    "                    result[i][0]=1\n",
    "                elif result[i-1][0]>=1 or result[i-1][5]==0:\n",
    "                    return False\n",
    "                elif i==len(s)-1:\n",
    "                    if s[i-1].isdigit() and result[i-1][2]==0:\n",
    "                        return True\n",
    "                    else:\n",
    "                        return False\n",
    "                elif result[i-1][2]!=0:\n",
    "                    return False\n",
    "                elif result[i-1][5]!=0:\n",
    "                    result[i][0]=1\n",
    "            elif s[i]==' ':\n",
    "                if i==0:\n",
    "                    result[0][1]=1\n",
    "                elif  s[i-1]=='.' and result[i-1][5]!=0:\n",
    "                    for j in range(i,len(s)):\n",
    "                        if s[j]!=' ':\n",
    "                            return False\n",
    "                    return True                    \n",
    "                elif i==len(s)-1:\n",
    "                    if s[i-1]=='e':\n",
    "                        return False\n",
    "                    result[i][1]=True\n",
    "                elif result[i-1][5]!=0:\n",
    "                    for j in range(i,len(s)):\n",
    "                        if s[j]!=' ':\n",
    "                            return False\n",
    "                    return True\n",
    "                elif i!=len(s)-1:\n",
    "                    return False\n",
    "            elif s[i]=='e':\n",
    "                if i==0 or i==len(s)-1 or result[i-1][5]==0 or result[i-1][2]!=0:\n",
    "                    return False\n",
    "                elif result[i-1][5]!=0 and s[i-1].isdigit():\n",
    "                    result[i][2]=1\n",
    "            elif s[i].isalpha() and s[i]!='e':\n",
    "                return False\n",
    "            elif s[i].isdigit():\n",
    "                if i==0:\n",
    "                    result[i][5]=1\n",
    "                elif i==len(s)-1:\n",
    "                    result[i][5]=True\n",
    "                else:\n",
    "                    result[i][5]+=1\n",
    "            elif s[i]=='+' or s[i]=='-':\n",
    "                if i==len(s)-1:\n",
    "                    return False\n",
    "                if s[i-1]=='e' and s[i+1].isdigit():\n",
    "                    continue\n",
    "                else:\n",
    "                    return False\n",
    "            else:\n",
    "                return False\n",
    "#        for i in range(6):\n",
    "#            if result[len(s)-1][i]==False:\n",
    "#                return False\n",
    "        if result[n-1][5]==0:\n",
    "            return False\n",
    "        return True"
   ]
  },
  {
   "cell_type": "code",
   "execution_count": 14,
   "metadata": {
    "collapsed": true,
    "scrolled": true
   },
   "outputs": [
    {
     "data": {
      "text/plain": [
       "True"
      ]
     },
     "execution_count": 14,
     "metadata": {},
     "output_type": "execute_result"
    }
   ],
   "source": [
    "a=Solution()\n",
    "b='3e19'\n",
    "c=a.isNumber(b)\n",
    "c\n"
   ]
  },
  {
   "cell_type": "code",
   "execution_count": null,
   "metadata": {
    "collapsed": true,
    "scrolled": true
   },
   "outputs": [],
   "source": [
    "#简洁的方法，虽然时间差不多，但清楚易懂：\n",
    "class Solution:\n",
    "    def isNumber(self, s):\n",
    "        \"\"\"\n",
    "        :type s: str\n",
    "        :rtype: bool\n",
    "        \"\"\"\n",
    "        state = [{}, \n",
    "              {'blank': 1, 'sign': 2, 'digit':3, '.':4}, \n",
    "              {'digit':3, '.':4},\n",
    "              {'digit':3, '.':5, 'e':6, 'blank':9},\n",
    "              {'digit':5},\n",
    "              {'digit':5, 'e':6, 'blank':9},\n",
    "              {'sign':7, 'digit':8},\n",
    "              {'digit':8},\n",
    "              {'digit':8, 'blank':9},\n",
    "              {'blank':9}]\n",
    "        cur_state = 1\n",
    "        for c in s:\n",
    "            if c >= '0' and c <= '9':\n",
    "                c = 'digit'\n",
    "            if c == ' ':\n",
    "                c = 'blank'\n",
    "            if c in ['+', '-']:\n",
    "                c = 'sign'\n",
    "            if c not in state[cur_state].keys():\n",
    "                return False\n",
    "            cur_state = state[cur_state][c]\n",
    "        if cur_state not in [3,5,8,9]:\n",
    "            return False\n",
    "        return True"
   ]
  },
  {
   "cell_type": "markdown",
   "metadata": {},
   "source": [
    "## 66 Plus One 加一\n",
    "\n",
    "\n",
    "- 给定一个由整数组成的非空数组所表示的非负整数，在该数的基础上加一。\n",
    "\n",
    "- 最高位数字存放在数组的首位， 数组中每个元素只存储一个数字。\n",
    "\n",
    "- 你可以假设除了整数 0 之外，这个整数不会以零开头。\n"
   ]
  },
  {
   "cell_type": "raw",
   "metadata": {},
   "source": [
    "输入: [1,2,3]\n",
    "输出: [1,2,4]\n",
    "解释: 输入数组表示数字 123。\n",
    "\n",
    "输入: [4,3,2,1]\n",
    "输出: [4,3,2,2]\n",
    "解释: 输入数组表示数字 4321。"
   ]
  },
  {
   "cell_type": "code",
   "execution_count": 17,
   "metadata": {
    "collapsed": true,
    "scrolled": true
   },
   "outputs": [],
   "source": [
    "class Solution:\n",
    "    def plusOne(self, digits):\n",
    "        \"\"\"\n",
    "        :type digits: List[int]\n",
    "        :rtype: List[int]\n",
    "        \"\"\"\n",
    "        digits[len(digits)-1]+=1\n",
    "        i=len(digits)-1\n",
    "        while i>=0 and digits[i]>=10:\n",
    "            if i>0:\n",
    "                digits[i-1]+=1\n",
    "                digits[i]-=10\n",
    "                i-=1\n",
    "            else:\n",
    "                digits[i]-=10\n",
    "                digits=[1]+digits\n",
    "        return digits"
   ]
  },
  {
   "cell_type": "code",
   "execution_count": 18,
   "metadata": {
    "collapsed": true,
    "scrolled": true
   },
   "outputs": [
    {
     "data": {
      "text/plain": [
       "[1, 0]"
      ]
     },
     "execution_count": 18,
     "metadata": {},
     "output_type": "execute_result"
    }
   ],
   "source": [
    "a=Solution()\n",
    "b=[9]\n",
    "c=a.plusOne(b)\n",
    "c\n"
   ]
  },
  {
   "cell_type": "markdown",
   "metadata": {},
   "source": [
    "## 67 Add Binary 二进制求和\n",
    "- 给定两个二进制字符串，返回他们的和（用二进制表示）。\n",
    "\n",
    "- 输入为非空字符串且只包含数字 1 和 0。"
   ]
  },
  {
   "cell_type": "raw",
   "metadata": {},
   "source": [
    "输入: a = \"11\", b = \"1\"\n",
    "输出: \"100\"\n",
    "输入: a = \"1010\", b = \"1011\"\n",
    "输出: \"10101\""
   ]
  },
  {
   "cell_type": "code",
   "execution_count": 29,
   "metadata": {
    "collapsed": true,
    "scrolled": true
   },
   "outputs": [],
   "source": [
    "class Solution:\n",
    "    def addBinary(self, a, b):\n",
    "        \"\"\"\n",
    "        :type a: str\n",
    "        :type b: str\n",
    "        :rtype: str\n",
    "        \"\"\"\n",
    "        a=list(a)\n",
    "        b=list(b)\n",
    "        if len(a)>len(b):\n",
    "            a,b=b,a\n",
    "        temp=0\n",
    "        i=0\n",
    "        while temp==1 or i<=len(b)-1:\n",
    "            if i>=len(a):\n",
    "                if temp==0 or i==len(b):\n",
    "                    break              \n",
    "                else:\n",
    "                    if b[len(b)-i-1]=='1':\n",
    "                        b[len(b)-i-1]='0'\n",
    "                        temp=1\n",
    "                    else:\n",
    "                        b[len(b)-i-1]='1'\n",
    "                        temp=0\n",
    "            else:\n",
    "                if (a[len(a)-i-1]=='0' and b[len(b)-i-1]=='1') or (a[len(a)-i-1]=='1' and b[len(b)-i-1]=='0'):\n",
    "                    if temp==0:\n",
    "                        b[len(b)-i-1]='1'\n",
    "                    elif temp==1:\n",
    "                        b[len(b)-i-1]='0'\n",
    "                elif a[len(a)-i-1]=='1' and b[len(b)-i-1]=='1':\n",
    "                    if temp==0:\n",
    "                        b[len(b)-i-1]='0'\n",
    "                        temp=1\n",
    "                    elif temp==1:\n",
    "                        b[len(b)-i-1]='1'\n",
    "                        temp=1\n",
    "                elif a[len(a)-i-1]=='0' and b[len(b)-i-1]=='0' and temp==1:\n",
    "                    b[len(b)-i-1]='1'\n",
    "                    temp=0\n",
    "                    \n",
    "            i+=1\n",
    "        if temp==1:\n",
    "            if len(a)==len(b):\n",
    "                return '1'+''.join(b)\n",
    "            return '10'+''.join(b[1:])\n",
    "        else:\n",
    "            return ''.join(b)\n",
    "            "
   ]
  },
  {
   "cell_type": "code",
   "execution_count": 30,
   "metadata": {
    "collapsed": true,
    "scrolled": true
   },
   "outputs": [
    {
     "data": {
      "text/plain": [
       "'110001'"
      ]
     },
     "execution_count": 30,
     "metadata": {},
     "output_type": "execute_result"
    }
   ],
   "source": [
    "a=Solution()\n",
    "b='101111'\n",
    "d='10'\n",
    "c=a.addBinary(b,d)\n",
    "c"
   ]
  },
  {
   "cell_type": "markdown",
   "metadata": {},
   "source": [
    "## 68 Text Justification 文本调整\n",
    "- 给定一个单词数组和一个长度 maxWidth，重新排版单词，使其成为每行恰好有 maxWidth 个字符，且左右两端对齐的文本。\n",
    "\n",
    "- 你应该使用“贪心算法”来放置给定的单词；也就是说，尽可能多地往每行中放置单词。必要时可用空格 ' ' 填充，使得每行恰好有 maxWidth 个字符。\n",
    "\n",
    "- 要求尽可能均匀分配单词间的空格数量。如果某一行单词间的空格不能均匀分配，则左侧放置的空格数要多于右侧的空格数。\n",
    "\n",
    "- 文本的最后一行应为左对齐，且单词之间不插入额外的空格。\n",
    "\n",
    "\n",
    "\n",
    "说明:\n",
    "\n",
    "\n",
    "\n",
    "1. 单词是指由非空格字符组成的字符序列。\n",
    "2. 每个单词的长度大于 0，小于等于 maxWidth。\n",
    "3. 输入单词数组 words 至少包含一个单词。"
   ]
  },
  {
   "cell_type": "raw",
   "metadata": {},
   "source": [
    "输入:\n",
    "words = [\"This\", \"is\", \"an\", \"example\", \"of\", \"text\", \"justification.\"]\n",
    "maxWidth = 16\n",
    "输出:\n",
    "[\n",
    "   \"This    is    an\",\n",
    "   \"example  of text\",\n",
    "   \"justification.  \"\n",
    "]"
   ]
  },
  {
   "cell_type": "raw",
   "metadata": {},
   "source": [
    "输入:\n",
    "words = [\"What\",\"must\",\"be\",\"acknowledgment\",\"shall\",\"be\"]\n",
    "maxWidth = 16\n",
    "输出:\n",
    "[\n",
    "  \"What   must   be\",\n",
    "  \"acknowledgment  \",\n",
    "  \"shall be        \"\n",
    "]\n",
    "解释: 注意最后一行的格式应为 \"shall be    \" 而不是 \"shall     be\",\n",
    "     因为最后一行应为左对齐，而不是左右两端对齐。       \n",
    "     第二行同样为左对齐，这是因为这行只包含一个单词。"
   ]
  },
  {
   "cell_type": "raw",
   "metadata": {},
   "source": [
    "输入:\n",
    "words = [\"Science\",\"is\",\"what\",\"we\",\"understand\",\"well\",\"enough\",\"to\",\"explain\",\n",
    "         \"to\",\"a\",\"computer.\",\"Art\",\"is\",\"everything\",\"else\",\"we\",\"do\"]\n",
    "maxWidth = 20\n",
    "输出:\n",
    "[\n",
    "  \"Science  is  what we\",\n",
    "  \"understand      well\",\n",
    "  \"enough to explain to\",\n",
    "  \"a  computer.  Art is\",\n",
    "  \"everything  else  we\",\n",
    "  \"do                  \"\n",
    "]"
   ]
  },
  {
   "cell_type": "code",
   "execution_count": 35,
   "metadata": {
    "collapsed": true,
    "scrolled": true
   },
   "outputs": [],
   "source": [
    "class Solution:\n",
    "    def tz(self,word,maxwidth,suma):\n",
    "        result=''\n",
    "        n=len(word)\n",
    "        suma=suma-n\n",
    "        if n==1:\n",
    "            return word[0]+' '*(maxwidth-suma)\n",
    "        t1=(maxwidth-suma)//(n-1)\n",
    "        t2=(maxwidth-suma)%(n-1)\n",
    "        i=n-1\n",
    "        while i>0:\n",
    "            result=result+word[n-i-1]+' '*t1\n",
    "            if t2>0:\n",
    "                result=result+' '\n",
    "                t2-=1\n",
    "            i-=1\n",
    "        result=result+word[n-i-1]\n",
    "        \n",
    "        return result\n",
    "    def fullJustify(self, words, maxWidth):\n",
    "        \"\"\"\n",
    "        :type words: List[str]\n",
    "        :type maxWidth: int\n",
    "        :rtype: List[str]\n",
    "        \"\"\"\n",
    "        i=0\n",
    "        j=0\n",
    "        suma=0\n",
    "        result=[]\n",
    "        while j<len(words):\n",
    "            suma=suma+len(words[j])+1\n",
    "            if suma>maxWidth+1:\n",
    "                result.append(self.tz(words[i:j],maxWidth,suma-len(words[j])-1))\n",
    "                i=j\n",
    "                suma=0\n",
    "                continue\n",
    "            j+=1\n",
    "        \n",
    "        temp=''\n",
    "        for k in range(i,j):\n",
    "            temp=temp+words[k]\n",
    "            if len(temp)<maxWidth:\n",
    "                temp+=' '\n",
    "        \n",
    "        temp=temp+' '*(maxWidth-len(temp))\n",
    "        result.append(temp)\n",
    "        return result"
   ]
  },
  {
   "cell_type": "code",
   "execution_count": 36,
   "metadata": {
    "collapsed": true,
    "scrolled": true
   },
   "outputs": [
    {
     "data": {
      "text/plain": [
       "['This    is    an', 'example  of text', 'justification.  ']"
      ]
     },
     "execution_count": 36,
     "metadata": {},
     "output_type": "execute_result"
    }
   ],
   "source": [
    "a=Solution()\n",
    "#words = [\"Science\",\"is\",\"what\",\"we\",\"understand\",\"well\",\"enough\",\"to\",\"explain\",\n",
    "#         \"to\",\"a\",\"computer.\",\"Art\",\"is\",\"everything\",\"else\",\"we\",\"do\"]\n",
    "#maxWidth = 20\n",
    "    \n",
    "#words=[\"What\",\"must\",\"be\",\"acknowledgment\",\"shall\",\"be\"]\n",
    "#maxWidth=16\n",
    "\n",
    "words=[\"This\", \"is\", \"an\", \"example\", \"of\", \"text\", \"justification.\"]\n",
    "maxWidth=16\n",
    "\n",
    "c=a.fullJustify(words,maxWidth)\n",
    "c\n"
   ]
  },
  {
   "cell_type": "markdown",
   "metadata": {},
   "source": [
    "## 69 Sqrt(x) 平方根\n",
    "- 实现 int sqrt(int x) 函数。\n",
    "\n",
    "- 计算并返回 x 的平方根，其中 x 是非负整数。\n",
    "\n",
    "- 由于返回类型是整数，结果只保留整数的部分，小数部分将被舍去。"
   ]
  },
  {
   "cell_type": "raw",
   "metadata": {},
   "source": [
    "输入: 4\n",
    "输出: 2\n",
    "\n",
    "输入: 8\n",
    "输出: 2\n",
    "说明: 8 的平方根是 2.82842..., \n",
    "     由于返回类型是整数，小数部分将被舍去。"
   ]
  },
  {
   "cell_type": "code",
   "execution_count": 37,
   "metadata": {
    "collapsed": true,
    "scrolled": true
   },
   "outputs": [],
   "source": [
    "class Solution:\n",
    "    def mySqrt(self, x):\n",
    "        \"\"\"\n",
    "        :type x: int\n",
    "        :rtype: int\n",
    "        \"\"\"\n",
    "        if x<=1:\n",
    "            return x\n",
    "        i,j=0,x//2+1\n",
    "        result=j//2\n",
    "        \n",
    "        while result*result!=x:\n",
    "            if result*result>x:\n",
    "                j=result\n",
    "                result=(i+j)//2\n",
    "            else:\n",
    "               # temp=(result+1)*(result+1)\n",
    "                if (result+1)*(result+1)>x:\n",
    "                    return result\n",
    "               # elif temp==x:\n",
    "                #    return result+1\n",
    "                i=result\n",
    "                result=(i+j)//2\n",
    "        return result"
   ]
  },
  {
   "cell_type": "code",
   "execution_count": 38,
   "metadata": {
    "collapsed": true,
    "scrolled": true
   },
   "outputs": [
    {
     "data": {
      "text/plain": [
       "1"
      ]
     },
     "execution_count": 38,
     "metadata": {},
     "output_type": "execute_result"
    }
   ],
   "source": [
    "a=Solution()\n",
    "\n",
    "x=1\n",
    "c=a.mySqrt(x)\n",
    "c"
   ]
  },
  {
   "cell_type": "markdown",
   "metadata": {},
   "source": [
    "## 70 climbing stairs 爬楼梯 \n",
    "\n",
    "- 假设你正在爬楼梯。需要 n 阶你才能到达楼顶。\n",
    "\n",
    "- 每次你可以爬 1 或 2 个台阶。你有多少种不同的方法可以爬到楼顶呢？"
   ]
  },
  {
   "cell_type": "raw",
   "metadata": {},
   "source": [
    "输入： 2\n",
    "输出： 2\n",
    "解释： 有两种方法可以爬到楼顶。\n",
    "1.  1 阶 + 1 阶\n",
    "2.  2 阶\n",
    "\n",
    "输入： 3\n",
    "输出： 3\n",
    "解释： 有三种方法可以爬到楼顶。\n",
    "1.  1 阶 + 1 阶 + 1 阶\n",
    "2.  1 阶 + 2 阶\n",
    "3.  2 阶 + 1 阶"
   ]
  },
  {
   "cell_type": "code",
   "execution_count": 2,
   "metadata": {
    "collapsed": true,
    "scrolled": true
   },
   "outputs": [],
   "source": [
    "class Solution:\n",
    "    def climbStairs(self, n):\n",
    "        \"\"\"\n",
    "        :type n: int\n",
    "        :rtype: int\n",
    "        \"\"\"\n",
    "        if n==1:\n",
    "            return 1\n",
    "        if n==2:\n",
    "            return 2\n",
    "        a,b,c=1,2,2\n",
    "        while c!=n:\n",
    "            a,b=b,a+b\n",
    "            c+=1\n",
    "        return b\n",
    "        "
   ]
  },
  {
   "cell_type": "code",
   "execution_count": 3,
   "metadata": {
    "collapsed": true,
    "scrolled": true
   },
   "outputs": [
    {
     "data": {
      "text/plain": [
       "8"
      ]
     },
     "execution_count": 3,
     "metadata": {},
     "output_type": "execute_result"
    }
   ],
   "source": [
    "a=Solution()\n",
    "\n",
    "x=5\n",
    "c=a.climbStairs(x)\n",
    "c"
   ]
  },
  {
   "cell_type": "markdown",
   "metadata": {},
   "source": [
    "## 71 Simplify Path 简化路径\n",
    "\n",
    "给定一个文档 (Unix-style) 的完全路径，请进行路径简化。\n",
    "\n",
    "例如，\n",
    "```\n",
    "path = \"/home/\", => \"/home\"\n",
    "path = \"/a/./b/../../c/\", => \"/c\"\n",
    "```\n",
    "\n",
    "边界情况:\n",
    "\n",
    "你是否考虑了 路径 = \"/../\" 的情况？\n",
    "在这种情况下，你需返回 \"/\" 。\n",
    "此外，路径中也可能包含多个斜杠 '/' ，如 \"/home//foo/\" 。\n",
    "在这种情况下，你可忽略多余的斜杠，返回 \"/home/foo\" 。\n",
    "- ’./‘为当前路径\n",
    "- '../'为父目录"
   ]
  },
  {
   "cell_type": "code",
   "execution_count": 26,
   "metadata": {
    "collapsed": true,
    "scrolled": true
   },
   "outputs": [],
   "source": [
    "class Solution:\n",
    "    def simplifyPath(self, path):\n",
    "        \"\"\"\n",
    "        :type path: str\n",
    "        :rtype: str\n",
    "        \"\"\"\n",
    "        temp=''\n",
    "        sp=[]\n",
    "        result=['/']\n",
    "        r=''\n",
    "        for i in range(len(path)):\n",
    "            if path[i]=='/':\n",
    "                if i<len(path)-1 and path[i+1]=='/':\n",
    "                    continue\n",
    "                sp.append(temp)\n",
    "                temp=''\n",
    "                continue\n",
    "            temp+=path[i]\n",
    "        if temp!='':\n",
    "            sp.append(temp)\n",
    "        for i in range(1,len(sp)):\n",
    "            if sp[i]=='.':\n",
    "                continue\n",
    "            elif sp[i]=='..':\n",
    "                if len(result)>1:\n",
    "                    result.pop()\n",
    "                else:\n",
    "                    result.append('../')\n",
    "            else:\n",
    "                result.append(sp[i]+'/')\n",
    "        if len(result)>1:\n",
    "            result[-1]=result[-1][0:len(result[-1])-1]\n",
    "        for i in range(len(result)):\n",
    "            if result[i]=='/..' or result[i]=='..' or result[i]=='../':\n",
    "                continue\n",
    "            r+=result[i]\n",
    "        return r"
   ]
  },
  {
   "cell_type": "code",
   "execution_count": 27,
   "metadata": {
    "collapsed": true,
    "scrolled": true
   },
   "outputs": [
    {
     "data": {
      "text/plain": [
       "'/e/f/g'"
      ]
     },
     "execution_count": 27,
     "metadata": {},
     "output_type": "execute_result"
    }
   ],
   "source": [
    "a=Solution()\n",
    "\n",
    "#path='/a/./b/../../c/'\n",
    "path=\"/a/./b///../c/../././../d/..//../e/./f/./g/././//.//h///././/..///\"\n",
    "c=a.simplifyPath(path)\n",
    "c"
   ]
  },
  {
   "cell_type": "code",
   "execution_count": 25,
   "metadata": {
    "collapsed": true,
    "scrolled": true
   },
   "outputs": [],
   "source": [
    "#应用stack做\n",
    "class Solution:\n",
    "    def simplifyPath(self, path):\n",
    "        \"\"\"\n",
    "        :type path: str\n",
    "        :rtype: str\n",
    "        \"\"\"\n",
    "        stack = list()\n",
    "        dirs = path.split('/')\n",
    "        for dir in dirs:\n",
    "            if not dir or dir == '.':\n",
    "                continue\n",
    "            if dir == '..':\n",
    "                if stack:\n",
    "                    stack.pop()\n",
    "            else:\n",
    "                stack.append(dir)\n",
    "        return '/' + '/'.join(stack)"
   ]
  },
  {
   "cell_type": "markdown",
   "metadata": {},
   "source": [
    "## 72 Edit Distance 最小编辑量\n",
    "\n",
    "给定两个单词 word1 和 word2，计算出将 word1 转换成 word2 所使用的最少操作数 。\n",
    "\n",
    "你可以对一个单词进行如下三种操作：\n",
    "\n",
    "- 插入一个字符\n",
    "- 删除一个字符\n",
    "- 替换一个字符\n"
   ]
  },
  {
   "cell_type": "raw",
   "metadata": {},
   "source": [
    "输入: word1 = \"horse\", word2 = \"ros\"\n",
    "输出: 3\n",
    "解释: \n",
    "horse -> rorse (将 'h' 替换为 'r')\n",
    "rorse -> rose (删除 'r')\n",
    "rose -> ros (删除 'e')"
   ]
  },
  {
   "cell_type": "raw",
   "metadata": {},
   "source": [
    "输入: word1 = \"intention\", word2 = \"execution\"\n",
    "输出: 5\n",
    "解释: \n",
    "intention -> inention (删除 't')\n",
    "inention -> enention (将 'i' 替换为 'e')\n",
    "enention -> exention (将 'n' 替换为 'x')\n",
    "exention -> exection (将 'n' 替换为 'c')\n",
    "exection -> execution (插入 'u')"
   ]
  },
  {
   "cell_type": "code",
   "execution_count": 6,
   "metadata": {
    "collapsed": true,
    "scrolled": true
   },
   "outputs": [],
   "source": [
    "class Solution:\n",
    "    def minDistance(self, word1, word2):\n",
    "        \"\"\"\n",
    "        :type word1: str\n",
    "        :type word2: str\n",
    "        :rtype: int\n",
    "        \"\"\"\n",
    "        result=[[0 for i in range(len(word2)+1)] for j in range(len(word1)+1)]\n",
    "        for i in range(len(word1)+1):\n",
    "            for j in range(len(word2)+1):\n",
    "                if i==0:\n",
    "                    result[0][j]=j\n",
    "                elif j==0:\n",
    "                    result[i][0]=i\n",
    "                elif word1[i-1]==word2[j-1]:\n",
    "                    result[i][j]=result[i-1][j-1]\n",
    "                else:\n",
    "                    result[i][j]=1+min(result[i-1][j],result[i][j-1],result[i-1][j-1])\n",
    "        return result[-1][-1]"
   ]
  },
  {
   "cell_type": "code",
   "execution_count": 7,
   "metadata": {
    "collapsed": true,
    "scrolled": true
   },
   "outputs": [
    {
     "data": {
      "text/plain": [
       "3"
      ]
     },
     "execution_count": 7,
     "metadata": {},
     "output_type": "execute_result"
    }
   ],
   "source": [
    "a=Solution()\n",
    "word1='horse'\n",
    "word2='ros'\n",
    "c=a.minDistance(word1,word2)\n",
    "c\n"
   ]
  },
  {
   "cell_type": "markdown",
   "metadata": {},
   "source": [
    "- 备注：\n",
    "\n",
    "\n",
    "1. 用dp思想\n",
    "2. 若当前两值相等，则等于前面的\n",
    "3. 若当前两值不想等，则等于原来的最小值加一"
   ]
  },
  {
   "cell_type": "markdown",
   "metadata": {},
   "source": [
    "## 73 Set Matrix Zeroes 矩阵置零\n",
    "给定一个 m x n 的矩阵，如果一个元素为 0，则将其所在行和列的所有元素都设为 0。请使用原地算法。\n"
   ]
  },
  {
   "cell_type": "raw",
   "metadata": {},
   "source": [
    "输入: \n",
    "[\n",
    "  [1,1,1],\n",
    "  [1,0,1],\n",
    "  [1,1,1]\n",
    "]\n",
    "输出: \n",
    "[\n",
    "  [1,0,1],\n",
    "  [0,0,0],\n",
    "  [1,0,1]\n",
    "]"
   ]
  },
  {
   "cell_type": "raw",
   "metadata": {},
   "source": [
    "输入: \n",
    "[\n",
    "  [0,1,2,0],\n",
    "  [3,4,5,2],\n",
    "  [1,3,1,5]\n",
    "]\n",
    "输出: \n",
    "[\n",
    "  [0,0,0,0],\n",
    "  [0,4,5,0],\n",
    "  [0,3,1,0]\n",
    "]"
   ]
  },
  {
   "cell_type": "code",
   "execution_count": 1,
   "metadata": {
    "collapsed": true,
    "scrolled": true
   },
   "outputs": [],
   "source": [
    "class Solution:\n",
    "    def add_zero(self,a,b,new):\n",
    "        for i in range(len(new)):\n",
    "            new[i][b]='0'+new[i][b]\n",
    "        for i in range(len(new[0])):\n",
    "            new[a][i]='0'+new[a][i]\n",
    "    def setZeroes(self, matrix):\n",
    "        \"\"\"\n",
    "        :type matrix: List[List[int]]\n",
    "        :rtype: void Do not return anything, modify matrix in-place instead.\n",
    "        \"\"\"\n",
    "        new=[[str(matrix[i][j]) for j in range(len(matrix[0]))]for i in range(len(matrix))]\n",
    "        for i in range(len(matrix)):\n",
    "            for j in range(len(matrix[0])):\n",
    "                if int(matrix[i][j])==0:\n",
    "                    self.add_zero(i,j,new)\n",
    "        for i in range(len(matrix)):\n",
    "            for j in range(len(matrix[0])):\n",
    "                if new[i][j][0]=='0':\n",
    "                    matrix[i][j]=0\n",
    "    "
   ]
  },
  {
   "cell_type": "code",
   "execution_count": 2,
   "metadata": {
    "collapsed": true,
    "scrolled": true
   },
   "outputs": [
    {
     "data": {
      "text/plain": [
       "[[0, 0, 0, 0], [0, 4, 5, 0], [0, 3, 1, 0]]"
      ]
     },
     "execution_count": 2,
     "metadata": {},
     "output_type": "execute_result"
    }
   ],
   "source": [
    "a=Solution()\n",
    "\n",
    "x=[[0,1,2,0],[3,4,5,2],[1,3,1,5]]\n",
    "#x=[[1,1,1],[1,0,1],[1,1,1]]\n",
    "a.setZeroes(x)\n",
    "x"
   ]
  },
  {
   "cell_type": "code",
   "execution_count": 3,
   "metadata": {
    "collapsed": true,
    "scrolled": true
   },
   "outputs": [],
   "source": [
    "#用更小的储存，set加速\n",
    "class Solution:\n",
    "    def setZeroes(self, matrix):\n",
    "        \"\"\"\n",
    "        :type matrix: List[List[int]]\n",
    "        :rtype: void Do not return anything, modify matrix in-place instead.\n",
    "        \"\"\"\n",
    "        row = []\n",
    "        col = []\n",
    "        for i in range(len(matrix)):\n",
    "            for j in range(len(matrix[i])):\n",
    "                if matrix[i][j] == 0:\n",
    "                    row.append(i)\n",
    "                    col.append(j)\n",
    "        row = list(set(row))\n",
    "        col = list(set(col))\n",
    "        for i in row:\n",
    "            matrix[i] = [0]*len(matrix[i])\n",
    "            \n",
    "        for i in range(len(matrix)):\n",
    "            for j in col:\n",
    "                matrix[i][j] = 0\n",
    "        print(matrix)"
   ]
  },
  {
   "cell_type": "markdown",
   "metadata": {},
   "source": [
    "## 74 搜索二维矩阵 Search a 2D Matrix\n",
    "编写一个高效的算法来判断 m x n 矩阵中，是否存在一个目标值。该矩阵具有如下特性：\n",
    "\n",
    "每行中的整数从左到右按升序排列。\n",
    "每行的第一个整数大于前一行的最后一个整数。\n"
   ]
  },
  {
   "cell_type": "raw",
   "metadata": {},
   "source": [
    "输入:\n",
    "matrix = [\n",
    "  [1,   3,  5,  7],\n",
    "  [10, 11, 16, 20],\n",
    "  [23, 30, 34, 50]\n",
    "]\n",
    "target = 3\n",
    "输出: true\n",
    "输入:\n",
    "matrix = [\n",
    "  [1,   3,  5,  7],\n",
    "  [10, 11, 16, 20],\n",
    "  [23, 30, 34, 50]\n",
    "]\n",
    "target = 13\n",
    "输出: false"
   ]
  },
  {
   "cell_type": "code",
   "execution_count": 4,
   "metadata": {
    "collapsed": true,
    "scrolled": true
   },
   "outputs": [],
   "source": [
    "class Solution:\n",
    "    def searchMatrix(self, matrix, target):\n",
    "        \"\"\"\n",
    "        :type matrix: List[List[int]]\n",
    "        :type target: int\n",
    "        :rtype: bool\n",
    "        \"\"\"\n",
    "        if len(matrix)==0 or len(matrix[0])==0:\n",
    "            return False\n",
    "        i,j=0,len(matrix)\n",
    "        a,b=0,0\n",
    "        if target<matrix[0][0] or target>matrix[-1][-1]:\n",
    "            return False\n",
    "        while i<j-1:\n",
    "            if target==matrix[(i+j)//2][0]:\n",
    "                return True\n",
    "            elif target<matrix[(i+j)//2][0]:\n",
    "                j=(i+j)//2\n",
    "            else:\n",
    "                i=(i+j)//2\n",
    "        a=i\n",
    "        i,j=0,len(matrix[0])\n",
    "        while i<j-1:\n",
    "            if target==matrix[a][(i+j)//2]:\n",
    "                return True\n",
    "            elif target<matrix[a][(i+j)//2]:\n",
    "                j=(i+j)//2\n",
    "            else:\n",
    "                i=(i+j)//2\n",
    "        b=i\n",
    "        if matrix[a][b]==target:\n",
    "            return True\n",
    "        else:\n",
    "            return False\n",
    "        "
   ]
  },
  {
   "cell_type": "code",
   "execution_count": 6,
   "metadata": {
    "collapsed": true,
    "scrolled": true
   },
   "outputs": [
    {
     "data": {
      "text/plain": [
       "False"
      ]
     },
     "execution_count": 6,
     "metadata": {},
     "output_type": "execute_result"
    }
   ],
   "source": [
    "a=Solution()\n",
    "\n",
    "#x=[[1,   3,  5,  7],[10, 11, 16, 20],[23, 30, 34, 50]]\n",
    "#target=3\n",
    "x=[[1,   3,  5,  7],[10, 11, 16, 20],[23, 30, 34, 50]]\n",
    "target=13\n",
    "c=a.searchMatrix(x,target)\n",
    "c"
   ]
  },
  {
   "cell_type": "markdown",
   "metadata": {},
   "source": [
    "## 74 Sort Colors 颜色排序\n",
    "给定一个包含红色、白色和蓝色，一共 n 个元素的数组，原地对它们进行排序，使得相同颜色的元素相邻，并按照红色、白色、蓝色顺序排列。\n",
    "\n",
    "此题中，我们使用整数 0、 1 和 2 分别表示红色、白色和蓝色。\n",
    "\n",
    "注意:\n",
    "不能使用代码库中的排序函数来解决这道题。\n"
   ]
  },
  {
   "cell_type": "raw",
   "metadata": {},
   "source": [
    "输入: [2,0,2,1,1,0]\n",
    "输出: [0,0,1,1,2,2]"
   ]
  },
  {
   "cell_type": "code",
   "execution_count": 1,
   "metadata": {
    "collapsed": true,
    "scrolled": true
   },
   "outputs": [],
   "source": [
    "class Solution:\n",
    "    def sortColors(self, nums):\n",
    "        \"\"\"\n",
    "        :type nums: List[int]\n",
    "        :rtype: void Do not return anything, modify nums in-place instead.\n",
    "        \"\"\"\n",
    "        if len(nums)<=1:\n",
    "            return\n",
    "        i=0\n",
    "        j=0\n",
    "        k=len(nums)-1\n",
    "        num=[nums[i] for i in range(len(nums))]\n",
    "        while k>=0 and num[k]==2:\n",
    "            num.pop()\n",
    "            k-=1\n",
    "        while i<len(num):\n",
    "            if num[i]==0:\n",
    "                num=[0]+num[0:i]+num[i+1:]\n",
    "                i+=1\n",
    "            elif num[i]==2:\n",
    "                if i+j>=len(num):\n",
    "                    break\n",
    "                num=num[0:i]+num[i+1:]+[2]\n",
    "                j+=1\n",
    "            else:\n",
    "                i+=1\n",
    "        while k!=len(nums)-1:\n",
    "            num.append(2)\n",
    "            k+=1\n",
    "        for i in range(len(nums)):\n",
    "            nums[i]=num[i]"
   ]
  },
  {
   "cell_type": "code",
   "execution_count": 2,
   "metadata": {
    "collapsed": true,
    "scrolled": true
   },
   "outputs": [
    {
     "data": {
      "text/plain": [
       "[2, 2]"
      ]
     },
     "execution_count": 2,
     "metadata": {},
     "output_type": "execute_result"
    }
   ],
   "source": [
    "a=Solution()\n",
    "\n",
    "b=[2,2]\n",
    "a.sortColors(b)\n",
    "b"
   ]
  },
  {
   "cell_type": "code",
   "execution_count": 2,
   "metadata": {
    "collapsed": true,
    "scrolled": true
   },
   "outputs": [
    {
     "data": {
      "text/plain": [
       "10"
      ]
     },
     "execution_count": 2,
     "metadata": {},
     "output_type": "execute_result"
    }
   ],
   "source": [
    "a={'a':5,'b':3,'c':2}\n",
    "sum(a.values())"
   ]
  },
  {
   "cell_type": "code",
   "execution_count": null,
   "metadata": {
    "collapsed": true,
    "scrolled": true
   },
   "outputs": [],
   "source": []
  }
 ],
 "metadata": {
  "kernelspec": {
   "display_name": "Python 3",
   "language": "python",
   "name": "python3"
  },
  "language_info": {
   "codemirror_mode": {
    "name": "ipython",
    "version": 3
   },
   "file_extension": ".py",
   "mimetype": "text/x-python",
   "name": "python",
   "nbconvert_exporter": "python",
   "pygments_lexer": "ipython3",
   "version": "3.7.4"
  },
  "toc": {
   "base_numbering": 1,
   "nav_menu": {},
   "number_sections": true,
   "sideBar": true,
   "skip_h1_title": false,
   "title_cell": "Table of Contents",
   "title_sidebar": "Contents",
   "toc_cell": false,
   "toc_position": {},
   "toc_section_display": true,
   "toc_window_display": false
  }
 },
 "nbformat": 4,
 "nbformat_minor": 2
}
