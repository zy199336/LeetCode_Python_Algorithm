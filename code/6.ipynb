{
 "cells": [
  {
   "cell_type": "markdown",
   "metadata": {},
   "source": [
    "# 6 ZigZag Conversion   z字型变换\n",
    "\n",
    "- 将字符串以Z字形排列成给定的行数："
   ]
  },
  {
   "cell_type": "markdown",
   "metadata": {},
   "source": [
    "- 输入：PAYPALISHIRING\n",
    "- 输出：PAHNAPLSIIGYIR\n",
    "- 原因：横过来看是一个n行的z字型"
   ]
  },
  {
   "cell_type": "code",
   "execution_count": 9,
   "metadata": {},
   "outputs": [],
   "source": [
    "7//2"
   ]
  },
  {
   "cell_type": "raw",
   "metadata": {},
   "source": [
    "P   A   H   N\n",
    "A P L S I I G\n",
    "Y   I   R"
   ]
  },
  {
   "cell_type": "code",
   "execution_count": 24,
   "metadata": {},
   "outputs": [],
   "source": [
    "class Solution:\n",
    "    def convert(self, s, numRows):\n",
    "        if numRows==1:\n",
    "            return s\n",
    "        t=2*numRows-2\n",
    "        l=len(s)\n",
    "        n=l//t\n",
    "        result=\"\"\n",
    "        if l%t!=0:\n",
    "            n=n+1\n",
    "            s+=\"#\"*(t*n-l)\n",
    "        for i in range(numRows):\n",
    "            for j in range(n):\n",
    "                tmp=s[j*t+i]\n",
    "                if tmp!=\"#\":\n",
    "                    result+=tmp\n",
    "                if i!=0 and i!=numRows-1:\n",
    "                    tmp=s[(j+1)*t-i]\n",
    "                    if tmp!=\"#\":\n",
    "                        result+=tmp\n",
    "        return result\n",
    "            \n",
    "        "
   ]
  },
  {
   "cell_type": "code",
   "execution_count": 25,
   "metadata": {},
   "outputs": [
    {
     "name": "stdout",
     "output_type": "stream",
     "text": [
      "PAHNAPLSIIGYIR\n"
     ]
    }
   ],
   "source": [
    "a=Solution()\n",
    "b='PAYPALISHIRING'\n",
    "c=a.convert(b,3)\n",
    "print(c)"
   ]
  },
  {
   "cell_type": "code",
   "execution_count": null,
   "metadata": {},
   "outputs": [],
   "source": []
  }
 ],
 "metadata": {
  "kernelspec": {
   "display_name": "Python 3",
   "language": "python",
   "name": "python3"
  },
  "language_info": {
   "codemirror_mode": {
    "name": "ipython",
    "version": 3
   },
   "file_extension": ".py",
   "mimetype": "text/x-python",
   "name": "python",
   "nbconvert_exporter": "python",
   "pygments_lexer": "ipython3",
   "version": "3.6.8"
  }
 },
 "nbformat": 4,
 "nbformat_minor": 2
}
