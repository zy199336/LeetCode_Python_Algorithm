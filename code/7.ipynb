{
 "cells": [
  {
   "cell_type": "markdown",
   "metadata": {},
   "source": [
    "# 7 Reverse Integer 反转整数\n",
    "\n",
    "- 给定一个 32 位有符号整数，将整数中的数字进行反转。"
   ]
  },
  {
   "cell_type": "markdown",
   "metadata": {},
   "source": [
    "- 输入：120\n",
    "- 输出：21\n",
    "\n",
    "- 输入：-123\n",
    "- 输出：-321\n",
    "\n",
    "假设我们的环境只能存储 32 位有符号整数，其数值范围是$[-2^{31},2^{31}-1]$。根据这个假设，如果反转后的整数溢出，则返回 0。"
   ]
  },
  {
   "cell_type": "code",
   "execution_count": 1,
   "metadata": {},
   "outputs": [],
   "source": [
    "class Solution:\n",
    "    def reverse(self, x):\n",
    "        x=str(x)\n",
    "        t=''\n",
    "        i=len(x)-1\n",
    "        while i >=0:\n",
    "            t=t+x[i]\n",
    "            i=i-1\n",
    "        if t[-1]=='-':\n",
    "            t=-int(t[0:-1])\n",
    "        else:\n",
    "            t=int(t)\n",
    "        if t<-2**31 or t>2**31-1:\n",
    "            return 0\n",
    "        return t\n",
    "            \n",
    "        \"\"\"\n",
    "        :type x: int\n",
    "        :rtype: int\n",
    "        \"\"\"\n",
    "        "
   ]
  },
  {
   "cell_type": "code",
   "execution_count": 2,
   "metadata": {},
   "outputs": [
    {
     "name": "stdout",
     "output_type": "stream",
     "text": [
      "-4294967296\n",
      "0\n"
     ]
    }
   ],
   "source": [
    "a=Solution()\n",
    "b=-2**32\n",
    "c=a.reverse(b)\n",
    "print(b)\n",
    "print(c)"
   ]
  },
  {
   "cell_type": "code",
   "execution_count": null,
   "metadata": {},
   "outputs": [],
   "source": []
  }
 ],
 "metadata": {
  "kernelspec": {
   "display_name": "Python 3",
   "language": "python",
   "name": "python3"
  },
  "language_info": {
   "codemirror_mode": {
    "name": "ipython",
    "version": 3
   },
   "file_extension": ".py",
   "mimetype": "text/x-python",
   "name": "python",
   "nbconvert_exporter": "python",
   "pygments_lexer": "ipython3",
   "version": "3.6.8"
  }
 },
 "nbformat": 4,
 "nbformat_minor": 2
}
