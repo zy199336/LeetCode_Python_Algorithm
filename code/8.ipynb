{
 "cells": [
  {
   "cell_type": "markdown",
   "metadata": {},
   "source": [
    "## 2018-10-18 String to Integer (atoi) 字符串转整数\n",
    "\n",
    "- 实现 atoi，将字符串转为整数。\n",
    "\n",
    "- 该函数首先根据需要丢弃任意多的空格字符，直到找到第一个非空格字符为止。如果第一个非空字符是正号或负号，选取该符号，并将其与后面尽可能多的连续的数字组合起来，这部分字符即为整数的值。如果第一个非空字符是数字，则直接将其与之后连续的数字字符组合起来，形成整数。\n",
    "\n",
    "- 字符串可以在形成整数的字符后面包括多余的字符，这些字符可以被忽略，它们对于函数没有影响。\n",
    "\n",
    "- 当字符串中的第一个非空字符序列不是个有效的整数；或字符串为空；或字符串仅包含空白字符时，则不进行转换。\n",
    "\n",
    "- 若函数不能执行有效的转换，返回 0。\n",
    "\n",
    "- 说明：\n",
    "\n",
    "- 假设我们的环境只能存储 32 位有符号整数，其数值范围是 $[-2^{31},2^{31}-1]$。如果数值超过可表示的范围，则返回  INT_MAX (231 − 1) 或 INT_MIN (−231) 。"
   ]
  },
  {
   "cell_type": "raw",
   "metadata": {},
   "source": [
    "输入: \"   -42\"\n",
    "输出: -42\n",
    "解释: 第一个非空白字符为 '-', 它是一个负号。\n",
    "     我们尽可能将负号与后面所有连续出现的数字组合起来，最后得到 -42 。\n",
    "     \n",
    "输入: \"4193 with words\"\n",
    "输出: 4193\n",
    "解释: 转换截止于数字 '3' ，因为它的下一个字符不为数字。\n",
    "\n",
    "输入: \"words and 987\"\n",
    "输出: 0\n",
    "解释: 第一个非空字符是 'w', 但它不是数字或正、负号。\n",
    "     因此无法执行有效的转换。\n",
    "\n",
    "输入: \"-91283472332\"\n",
    "输出: -2147483648\n",
    "解释: 数字 \"-91283472332\" 超过 32 位有符号整数范围。 \n",
    "     因此返回 INT_MIN (−2^31) 。"
   ]
  },
  {
   "cell_type": "code",
   "execution_count": 1,
   "metadata": {},
   "outputs": [],
   "source": [
    "class Solution:\n",
    "    def myAtoi(self, str):\n",
    "        n=len(str)\n",
    "        result=0\n",
    "        fh=1\n",
    "        pan=0\n",
    "        for i in range(n):\n",
    "            if str[i]==' ':\n",
    "                if i>0 and str[i-1]!=' ':\n",
    "                    return result*fh\n",
    "                continue\n",
    "            if str[i]=='+' and pan==0:\n",
    "                if i!=0 and (str[i-1]=='-' or str[i-1]=='+'):\n",
    "                    return result*fh\n",
    "                continue\n",
    "            if str[i]=='-' and pan==0:\n",
    "                fh=-1\n",
    "                if i!=0 and (str[i-1]=='-' or str[i-1]=='+'):\n",
    "                    return result*fh\n",
    "                continue\n",
    "            if str[i].isdigit():\n",
    "                pan=1\n",
    "                temp=result*10+int(str[i])\n",
    "                if temp>2**31-1 and fh==1:\n",
    "                    return 2**31-1\n",
    "                elif temp>2**31 and fh==-1:\n",
    "                    return -2**31\n",
    "                result=temp\n",
    "            else:\n",
    "                return fh*result\n",
    "        return fh*result\n",
    "                    \n",
    "        \"\"\"\n",
    "        :type str: str\n",
    "        :rtype: int\n",
    "        \"\"\"\n",
    "        "
   ]
  },
  {
   "cell_type": "code",
   "execution_count": 2,
   "metadata": {},
   "outputs": [
    {
     "name": "stdout",
     "output_type": "stream",
     "text": [
      "  ++1\n",
      "0\n"
     ]
    }
   ],
   "source": [
    "a=Solution()\n",
    "b='  ++1'\n",
    "c=a.myAtoi(b)\n",
    "print(b)\n",
    "print(c)"
   ]
  },
  {
   "cell_type": "code",
   "execution_count": null,
   "metadata": {},
   "outputs": [],
   "source": []
  }
 ],
 "metadata": {
  "kernelspec": {
   "display_name": "Python 3",
   "language": "python",
   "name": "python3"
  },
  "language_info": {
   "codemirror_mode": {
    "name": "ipython",
    "version": 3
   },
   "file_extension": ".py",
   "mimetype": "text/x-python",
   "name": "python",
   "nbconvert_exporter": "python",
   "pygments_lexer": "ipython3",
   "version": "3.6.8"
  }
 },
 "nbformat": 4,
 "nbformat_minor": 2
}
