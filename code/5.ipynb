{
 "cells": [
  {
   "cell_type": "markdown",
   "metadata": {},
   "source": [
    "# 5 Longest Palindromic Substring 最长回文子串\n",
    "\n",
    "- 给定一个字符串 s，找到 s 中最长的回文子串。你可以假设 s 的最大长度为1000。\n",
    "- 回文字符串：正读反读都一样"
   ]
  },
  {
   "cell_type": "markdown",
   "metadata": {},
   "source": [
    "- 输入：\"babad\"\n",
    "- 输出：\"bab\"\n",
    "- 原因： \"aba\"也是一个有效答案。"
   ]
  },
  {
   "cell_type": "code",
   "execution_count": 8,
   "metadata": {},
   "outputs": [],
   "source": [
    "class Solution:\n",
    "    def longestPalindrome(self, s):\n",
    "        if len(s)<=1:\n",
    "            return s\n",
    "        l={}\n",
    "        max_length=1\n",
    "        max_a=s[0]\n",
    "        for m in range(len(s)):\n",
    "            if s[m] in l:\n",
    "                l[s[m]].append(m)\n",
    "            else:\n",
    "                l[s[m]]=[m]\n",
    "            for n in range(len(l[s[m]])-1):\n",
    "                if m-l[s[m]][n]+1<=max_length:\n",
    "                    break\n",
    "                if self.pan(l[s[m]][n],m,s)==True:\n",
    "                    max_length=m-l[s[m]][n]+1\n",
    "                    max_a=s[l[s[m]][n]:m+1]\n",
    "                    break\n",
    "        return max_a\n",
    "    def pan(self,i,j,s):\n",
    "        for k in range(j-(j-i+1)//2+1,j):\n",
    "            if s[k]!=s[i+j-k]:\n",
    "                return False\n",
    "        return True"
   ]
  },
  {
   "cell_type": "code",
   "execution_count": 9,
   "metadata": {},
   "outputs": [
    {
     "name": "stdout",
     "output_type": "stream",
     "text": [
      "ff\n"
     ]
    }
   ],
   "source": [
    "a=Solution()\n",
    "b='sdffwefwef'\n",
    "c=a.longestPalindrome(b)\n",
    "print(c)"
   ]
  },
  {
   "cell_type": "markdown",
   "metadata": {},
   "source": [
    "- 上述算法复杂度为o(n^2)，此外有复杂度同等的动态规划法以及还有一种复杂度更简单的，叫做Manacher算法，其充分利用了循环前置比对的量，可以缩短不少运算时间。"
   ]
  },
  {
   "cell_type": "code",
   "execution_count": null,
   "metadata": {},
   "outputs": [],
   "source": []
  }
 ],
 "metadata": {
  "kernelspec": {
   "display_name": "Python 3",
   "language": "python",
   "name": "python3"
  },
  "language_info": {
   "codemirror_mode": {
    "name": "ipython",
    "version": 3
   },
   "file_extension": ".py",
   "mimetype": "text/x-python",
   "name": "python",
   "nbconvert_exporter": "python",
   "pygments_lexer": "ipython3",
   "version": "3.6.8"
  }
 },
 "nbformat": 4,
 "nbformat_minor": 2
}
