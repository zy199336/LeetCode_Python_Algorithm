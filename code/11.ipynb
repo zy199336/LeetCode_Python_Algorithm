{
 "cells": [
  {
   "cell_type": "markdown",
   "metadata": {},
   "source": [
    "# 11 Container With Most Water  盛最多水的容器\n",
    "- 给定 n 个非负整数 a1，a2，...，an，每个数代表坐标中的一个点 (i, ai) 。在坐标内画 n 条垂直线，垂直线 i 的两个端点分别为 (i, ai) 和 (i, 0)。找出其中的两条线，使得它们与 x 轴共同构成的容器可以容纳最多的水。\n",
    "\n",
    "- 说明：你不能倾斜容器，且 n 的值至少为 2。\n",
    "![](http://tuchuang.rancholovecherry.top/%E5%BE%AE%E4%BF%A1%E6%88%AA%E5%9B%BE_20181022121940.png)"
   ]
  },
  {
   "cell_type": "raw",
   "metadata": {},
   "source": [
    "输入: [1,8,6,2,5,4,8,3,7]\n",
    "输出: 49\n",
    "原因：画图后垂直线代表输入数组 [1,8,6,2,5,4,8,3,7]。在此情况下，容器能够容纳水（表示为蓝色部分）的最大值为 49"
   ]
  },
  {
   "cell_type": "code",
   "execution_count": 1,
   "metadata": {},
   "outputs": [],
   "source": [
    "class Solution:\n",
    "    def maxArea(self, height):\n",
    "        \"\"\"\n",
    "        :type height: List[int]\n",
    "        :rtype: int\n",
    "        \"\"\"\n",
    "        h=height\n",
    "        result=0\n",
    "        p1=0\n",
    "        p2=len(h)-1\n",
    "        while p1!=p2:\n",
    "            sum=(p2-p1)*min(h[p1],h[p2])\n",
    "            if sum>result:\n",
    "                result=sum\n",
    "            if h[p1]>h[p2]:\n",
    "                p2-=1\n",
    "            else:\n",
    "                p1+=1\n",
    "        return result"
   ]
  },
  {
   "cell_type": "code",
   "execution_count": 2,
   "metadata": {},
   "outputs": [
    {
     "name": "stdout",
     "output_type": "stream",
     "text": [
      "49\n"
     ]
    }
   ],
   "source": [
    "a=Solution()\n",
    "b=[1,8,6,2,5,4,8,3,7]\n",
    "c=a.maxArea(b)\n",
    "print(c)"
   ]
  },
  {
   "cell_type": "markdown",
   "metadata": {},
   "source": [
    "附记：\n",
    "- 方法很巧妙，从最左边和最右边两者开始，这时高度是最高的，然后左右两边指针较小的往中间走，只有当两个指针指到比原来大的，才有可能比最开始的大，因为在向内的过程中高度一直在减小\n",
    "- 方法复杂度为o($n$)，若枚举比对为o($n^2$)"
   ]
  },
  {
   "cell_type": "code",
   "execution_count": null,
   "metadata": {},
   "outputs": [],
   "source": []
  }
 ],
 "metadata": {
  "kernelspec": {
   "display_name": "Python 3",
   "language": "python",
   "name": "python3"
  },
  "language_info": {
   "codemirror_mode": {
    "name": "ipython",
    "version": 3
   },
   "file_extension": ".py",
   "mimetype": "text/x-python",
   "name": "python",
   "nbconvert_exporter": "python",
   "pygments_lexer": "ipython3",
   "version": "3.7.4"
  }
 },
 "nbformat": 4,
 "nbformat_minor": 2
}
