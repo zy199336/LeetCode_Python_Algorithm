{
 "cells": [
  {
   "cell_type": "markdown",
   "metadata": {},
   "source": [
    "# 1 Two Sums 两数之和"
   ]
  },
  {
   "cell_type": "markdown",
   "metadata": {},
   "source": [
    "- 给定一个整数数组和一个目标值，找出数组中和为目标值的两个数。你可以假设每个输入只对应一种答案，且同样的元素不能被重复利用。\n",
    "- 输入： nums = [2, 7, 11, 15], target = 9\n",
    "- 输出： [0, 1]\n",
    "- 原因： nums[0] + nums[1] = 2 + 7 = 9"
   ]
  },
  {
   "cell_type": "code",
   "execution_count": 1,
   "metadata": {},
   "outputs": [],
   "source": [
    "#最佳答案：\n",
    "class Solution:\n",
    "    def twoSum(self, nums, target):\n",
    "        temp={}\n",
    "        for i in range(len(nums)):\n",
    "            if nums[i] in temp and temp[nums[i]]!=i:\n",
    "                return [temp[nums[i]],i]\n",
    "            temp[target-nums[i]]=i"
   ]
  },
  {
   "cell_type": "code",
   "execution_count": 2,
   "metadata": {},
   "outputs": [
    {
     "data": {
      "text/plain": [
       "[2, 3]"
      ]
     },
     "execution_count": 2,
     "metadata": {},
     "output_type": "execute_result"
    }
   ],
   "source": [
    "a=Solution()\n",
    "a.twoSum([2,7,11,15],26)"
   ]
  },
  {
   "cell_type": "markdown",
   "metadata": {},
   "source": [
    "附记：1.字典使用方法,空字典，字典数据插入\n",
    "2.哈希表，以空间换取时间，"
   ]
  },
  {
   "cell_type": "code",
   "execution_count": null,
   "metadata": {},
   "outputs": [],
   "source": []
  }
 ],
 "metadata": {
  "kernelspec": {
   "display_name": "Python 3",
   "language": "python",
   "name": "python3"
  },
  "language_info": {
   "codemirror_mode": {
    "name": "ipython",
    "version": 3
   },
   "file_extension": ".py",
   "mimetype": "text/x-python",
   "name": "python",
   "nbconvert_exporter": "python",
   "pygments_lexer": "ipython3",
   "version": "3.6.8"
  }
 },
 "nbformat": 4,
 "nbformat_minor": 2
}
