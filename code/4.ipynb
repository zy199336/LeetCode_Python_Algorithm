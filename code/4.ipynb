{
 "cells": [
  {
   "cell_type": "markdown",
   "metadata": {},
   "source": [
    "# 4 Median of Two Sorted Arrays 两个排序数组的中位数\n",
    "\n",
    "- 给定两个大小为 m 和 n 的有序数组 nums1 和 nums2 。\n",
    "\n",
    "- 请找出这两个有序数组的中位数。要求算法的时间复杂度为 $O(\\log(m+n))$ 。\n",
    "\n",
    "- 你可以假设 nums1 和 nums2 不同时为空。"
   ]
  },
  {
   "cell_type": "markdown",
   "metadata": {},
   "source": [
    "- 输入：[1,2],[3,4]\n",
    "- 输出:2.5\n",
    "- 原因：[1,2,3,4]中位数"
   ]
  },
  {
   "cell_type": "code",
   "execution_count": null,
   "metadata": {},
   "outputs": [],
   "source": [
    "class Solution:\n",
    "    def findMedianSortedArrays(self, A, B):\n",
    "        m, n = len(A), len(B)\n",
    "        if m > n:\n",
    "            A, B, m, n = B, A, n, m\n",
    "        imin, imax, half_len = 0, m, (m + n + 1)//2\n",
    "        while imin <= imax:\n",
    "            i = (imin + imax) // 2\n",
    "            j = half_len - i\n",
    "            if i < m and B[j-1] > A[i]:\n",
    "            # i is too small, must increase it\n",
    "                imin = i + 1\n",
    "            elif i > 0 and A[i-1] > B[j]:\n",
    "            # i is too big, must decrease it\n",
    "                imax = i - 1\n",
    "            else:\n",
    "            # i is perfect\n",
    "                if i == 0:\n",
    "                    max_of_left = B[j-1]\n",
    "                elif j == 0:\n",
    "                    max_of_left = A[i-1]\n",
    "                else:\n",
    "                    max_of_left = max(A[i-1], B[j-1])\n",
    "\n",
    "                if (m + n) % 2 == 1:\n",
    "                    return max_of_left\n",
    "                if i == m:\n",
    "                    min_of_right = B[j]\n",
    "                elif j == n:\n",
    "                    min_of_right = A[i]\n",
    "                else:\n",
    "                    min_of_right = min(A[i], B[j])\n",
    "                return (max_of_left + min_of_right) / 2.0\n",
    "\n",
    "        \"\"\"\n",
    "        :type nums1: List[int]\n",
    "        :type nums2: List[int]\n",
    "        :rtype: float\n",
    "        \"\"\""
   ]
  },
  {
   "cell_type": "code",
   "execution_count": null,
   "metadata": {},
   "outputs": [],
   "source": [
    "a=Solution()\n",
    "nums1=[1,2]\n",
    "nums2=[3,4]\n",
    "c=a.findMedianSortedArrays(nums1,nums2)\n",
    "print(c)\n"
   ]
  },
  {
   "cell_type": "markdown",
   "metadata": {},
   "source": [
    "附记：\n",
    "- 1.这题思路如下：\n",
    "设两个输入list中数量较小的list为A，其个数为m；数量较多的list为B，个数为n。\n",
    "假设我们分别用i，j两把刀将A与B分别划分为两份，如下所示：\n",
    "![](http://p2547p5dm.bkt.clouddn.com/%E5%BE%AE%E4%BF%A1%E6%88%AA%E5%9B%BE_20181016111406.png)\n",
    "只要满足左边部分总个数与右边部分总个数相等即可：$$i+j=m-i+n-j(+1)(1可有可无)$$\n",
    "从这里我们可以推出$$j==\\frac{m+n(+1)-2i}{2}$$\n",
    "同时需要满足$$B[j-1]\\leq A[i] 且 A[i-1]\\leq B[j]$$\n",
    "因为A,B为有序的，其在各自list中小于下一个值是确定的\n",
    "\n",
    "- 确定思路以后，我们将对预先二分的i与j进行微调，微调过程如下：\n",
    "$$ \\begin{cases}\n",
    "i_{min}++& A[i]\\leq B[j-1]\\\\\n",
    "i_{max}--& A[i-1]\\leq B[j]\\\\\n",
    "stop_search & B[j-1]\\leq A[i] 且 A[i-1]\\leq B[j]\\\\\n",
    "\\end{cases}$$"
   ]
  },
  {
   "cell_type": "code",
   "execution_count": null,
   "metadata": {},
   "outputs": [],
   "source": []
  }
 ],
 "metadata": {
  "kernelspec": {
   "display_name": "Python 3",
   "language": "python",
   "name": "python3"
  },
  "language_info": {
   "codemirror_mode": {
    "name": "ipython",
    "version": 3
   },
   "file_extension": ".py",
   "mimetype": "text/x-python",
   "name": "python",
   "nbconvert_exporter": "python",
   "pygments_lexer": "ipython3",
   "version": "3.6.8"
  }
 },
 "nbformat": 4,
 "nbformat_minor": 2
}
