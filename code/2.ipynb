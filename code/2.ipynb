{
 "cells": [
  {
   "cell_type": "markdown",
   "metadata": {},
   "source": [
    "# 2 Add Two Numbers 两数相加"
   ]
  },
  {
   "cell_type": "markdown",
   "metadata": {},
   "source": [
    "- 给定两个非空链表来表示两个非负整数。位数按照逆序方式存储，它们的每个节点只存储单个数字。将两数相加返回一个新的链表。你可以假设除了数字 0 之外，这两个数字都不会以零开头。\n",
    "\n",
    "- 输入：[2,4,3] , [5,6,4]\n",
    "- 输出：[7,0,8]\n",
    "- 原因：342 + 465 = 807"
   ]
  },
  {
   "cell_type": "code",
   "execution_count": 8,
   "metadata": {},
   "outputs": [],
   "source": [
    "#最佳答案\n",
    "# Definition for singly-linked list.\n",
    "class ListNode:\n",
    "    def __init__(self, x):\n",
    "        self.val = x\n",
    "        self.next = None\n",
    "\n",
    "class Solution:\n",
    "    def addTwoNumbers(self, l1, l2):\n",
    "        dummy = cur = ListNode(0)\n",
    "        carry = 0\n",
    "        while l1 or l2 or carry:\n",
    "            if l1:\n",
    "                carry = l1.val+carry\n",
    "                l1 = l1.next\n",
    "            if l2:\n",
    "                carry = l2.val+carry\n",
    "                l2 = l2.next\n",
    "            cur.next = ListNode(carry%10)#特别值得注意的是这里，为什么不直接写cur=ListNode(carry%10)\n",
    "            cur = cur.next               #因为，只有先对对象的变量赋值，才能导致与之相同的dummy获得下一个变量的值，若直接\n",
    "            carry //= 10                 #赋值则会导致丢失相互联系信息\n",
    "        return dummy.next   "
   ]
  },
  {
   "cell_type": "code",
   "execution_count": 17,
   "metadata": {},
   "outputs": [
    {
     "name": "stdout",
     "output_type": "stream",
     "text": [
      "[2,4,3]\n",
      "[5,6,4]\n",
      "[7,0,8]\n"
     ]
    }
   ],
   "source": [
    "#输入例子\"[2,4,3]\"\n",
    "def change():\n",
    "    temp1=input()\n",
    "    temp3=[]\n",
    "    for i in range(int((len(temp1)-1)/2)):\n",
    "        if i==0:\n",
    "            temp3.append(ListNode(int(temp1[1])))\n",
    "            continue\n",
    "        temp3.append(ListNode(int(temp1[i*2+1])))\n",
    "        temp3[i-1].next=temp3[i]\n",
    "    return temp3[0]\n",
    "\n",
    "\n",
    "a=Solution()\n",
    "l1=change()\n",
    "l2=change()\n",
    "c=a.addTwoNumbers(l1,l2)\n",
    "print('['+str(c.val)+','+str(c.next.val)+','+str(c.next.next.val)+']')\n",
    "\n",
    "    \n",
    "    "
   ]
  },
  {
   "cell_type": "markdown",
   "metadata": {},
   "source": [
    "附记：\n",
    "-  [yield的使用方法](./handson-ml-master/handson-ml-master/Yield 函数.ipynb)\n",
    "- 对象变量的赋值与对象的赋值，先后顺序的改变将改变结果"
   ]
  },
  {
   "cell_type": "code",
   "execution_count": null,
   "metadata": {},
   "outputs": [],
   "source": []
  }
 ],
 "metadata": {
  "kernelspec": {
   "display_name": "Python 3",
   "language": "python",
   "name": "python3"
  },
  "language_info": {
   "codemirror_mode": {
    "name": "ipython",
    "version": 3
   },
   "file_extension": ".py",
   "mimetype": "text/x-python",
   "name": "python",
   "nbconvert_exporter": "python",
   "pygments_lexer": "ipython3",
   "version": "3.7.4"
  }
 },
 "nbformat": 4,
 "nbformat_minor": 2
}
