{
 "cells": [
  {
   "cell_type": "markdown",
   "metadata": {},
   "source": [
    "## 20 Valid Parentheses 有效的括号\n",
    "\n",
    "- 给定一个只包括 '('，')'，'{'，'}'，'['，']' 的字符串，判断字符串是否有效。\n",
    "\n",
    "- 有效字符串需满足：\n",
    "\n",
    "- 左括号必须用相同类型的右括号闭合。\n",
    "- 左括号必须以正确的顺序闭合。\n",
    "- 注意空字符串可被认为是有效字符串。"
   ]
  },
  {
   "cell_type": "raw",
   "metadata": {},
   "source": [
    "输入: \"()\"\n",
    "输出: true\n",
    "\n",
    "输入: \"()[]{}\"\n",
    "输出: true\n",
    "\n",
    "输入: \"(]\"\n",
    "输出: false\n",
    "\n",
    "输入: \"([)]\"\n",
    "输出: false\n",
    "\n",
    "输入: \"{[]}\"\n",
    "输出: true"
   ]
  },
  {
   "cell_type": "code",
   "execution_count": 22,
   "metadata": {},
   "outputs": [],
   "source": [
    "class Solution:\n",
    "    def isValid(self, s):\n",
    "        \"\"\"\n",
    "        :type s: str\n",
    "        :rtype: bool\n",
    "        \"\"\"\n",
    "        l=[]\n",
    "        for i in s:\n",
    "            if i=='(' or i=='[' or i=='{':\n",
    "                l.append(i)\n",
    "            elif i==')':\n",
    "                if len(l)==0 or l[-1]!='(':\n",
    "                    return False\n",
    "                else:\n",
    "                    l.pop()\n",
    "            elif i==']':\n",
    "                if len(l)==0 or l[-1]!='[':\n",
    "                    return False\n",
    "                else:\n",
    "                    l.pop()\n",
    "            elif i=='}':\n",
    "                if len(l)==0 or l[-1]!='{':\n",
    "                    return False\n",
    "                else:\n",
    "                    l.pop()\n",
    "        if len(l)>0:\n",
    "            return False\n",
    "        else:\n",
    "            return True"
   ]
  },
  {
   "cell_type": "code",
   "execution_count": 2,
   "metadata": {},
   "outputs": [],
   "source": [
    "class Solution:\n",
    "    def isValid(self, s):\n",
    "        \"\"\"\n",
    "        :type s: str\n",
    "        :rtype: bool\n",
    "        \"\"\"\n",
    "        left={'{':'}','[':']','(':')'}\n",
    "        right=['}',']',')']\n",
    "        l=''\n",
    "        for i in range(len(s)):\n",
    "            if s[i] in left:\n",
    "                l=l+s[i]\n",
    "            elif s[i] in right:\n",
    "                if l!='' and left[l[-1]]==s[i]:\n",
    "                    l=l[0:-1]\n",
    "                else:\n",
    "                    return False\n",
    "            elif s[i]==' ':\n",
    "                continue\n",
    "            else:\n",
    "                return False\n",
    "        if len(l)==0:\n",
    "            return True\n",
    "        else:\n",
    "            return False"
   ]
  },
  {
   "cell_type": "code",
   "execution_count": 23,
   "metadata": {},
   "outputs": [
    {
     "data": {
      "text/plain": [
       "True"
      ]
     },
     "execution_count": 23,
     "metadata": {},
     "output_type": "execute_result"
    }
   ],
   "source": [
    "a=Solution()\n",
    "b='0'\n",
    "c=a.isValid(b)\n",
    "c"
   ]
  },
  {
   "cell_type": "code",
   "execution_count": null,
   "metadata": {},
   "outputs": [],
   "source": []
  }
 ],
 "metadata": {
  "kernelspec": {
   "display_name": "Python 3",
   "language": "python",
   "name": "python3"
  },
  "language_info": {
   "codemirror_mode": {
    "name": "ipython",
    "version": 3
   },
   "file_extension": ".py",
   "mimetype": "text/x-python",
   "name": "python",
   "nbconvert_exporter": "python",
   "pygments_lexer": "ipython3",
   "version": "3.7.7"
  }
 },
 "nbformat": 4,
 "nbformat_minor": 4
}
