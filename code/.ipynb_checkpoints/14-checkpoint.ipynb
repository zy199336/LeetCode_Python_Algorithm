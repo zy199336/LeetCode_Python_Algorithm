{
 "cells": [
  {
   "cell_type": "markdown",
   "metadata": {},
   "source": [
    "##  Longest Common Prefix 最长公共前缀\n",
    "\n",
    "- 编写一个函数来查找字符串数组中的最长公共前缀。\n",
    "\n",
    "- 如果不存在公共前缀，返回空字符串 \"\"。"
   ]
  },
  {
   "cell_type": "raw",
   "metadata": {},
   "source": [
    "输入: [\"flower\",\"flow\",\"flight\"]\n",
    "输出: \"fl\"\n",
    "\n",
    "输入: [\"dog\",\"racecar\",\"car\"]\n",
    "输出: \"\"\n",
    "解释: 输入不存在公共前缀。"
   ]
  },
  {
   "cell_type": "code",
   "execution_count": null,
   "metadata": {},
   "outputs": [],
   "source": [
    "class Solution:\n",
    "    def longestCommonPrefix(self, strs):\n",
    "        pan=0;\n",
    "        i=0;\n",
    "        while 1:\n",
    "            if pan==1:\n",
    "                break\n",
    "            p=strs[1][i]\n",
    "            for j in strs:\n",
    "                if j[i]!=p:\n",
    "                    pan=1\n",
    "                    break\n",
    "            i=i+1\n",
    "        return i-1"
   ]
  },
  {
   "cell_type": "code",
   "execution_count": null,
   "metadata": {},
   "outputs": [],
   "source": [
    "a=Solution()\n",
    "b=[\"flower\",\"flow\",\"flight\"]\n",
    "c=a.longestCommonPrefix(b)\n",
    "print(c)"
   ]
  },
  {
   "cell_type": "code",
   "execution_count": 2,
   "metadata": {},
   "outputs": [],
   "source": [
    "a=\"ee\"\n",
    "b=\"ff\""
   ]
  },
  {
   "cell_type": "code",
   "execution_count": 9,
   "metadata": {},
   "outputs": [],
   "source": [
    "b=[\"flower\",\"flow\",\"flight\"]"
   ]
  },
  {
   "cell_type": "code",
   "execution_count": 8,
   "metadata": {},
   "outputs": [
    {
     "data": {
      "text/plain": [
       "'o'"
      ]
     },
     "execution_count": 8,
     "metadata": {},
     "output_type": "execute_result"
    }
   ],
   "source": [
    "b[1][2]"
   ]
  },
  {
   "cell_type": "code",
   "execution_count": 10,
   "metadata": {},
   "outputs": [
    {
     "data": {
      "text/plain": [
       "3"
      ]
     },
     "execution_count": 10,
     "metadata": {},
     "output_type": "execute_result"
    }
   ],
   "source": [
    "len(b)"
   ]
  },
  {
   "cell_type": "code",
   "execution_count": null,
   "metadata": {},
   "outputs": [],
   "source": []
  }
 ],
 "metadata": {
  "kernelspec": {
   "display_name": "Python 3",
   "language": "python",
   "name": "python3"
  },
  "language_info": {
   "codemirror_mode": {
    "name": "ipython",
    "version": 3
   },
   "file_extension": ".py",
   "mimetype": "text/x-python",
   "name": "python",
   "nbconvert_exporter": "python",
   "pygments_lexer": "ipython3",
   "version": "3.7.4"
  }
 },
 "nbformat": 4,
 "nbformat_minor": 2
}
