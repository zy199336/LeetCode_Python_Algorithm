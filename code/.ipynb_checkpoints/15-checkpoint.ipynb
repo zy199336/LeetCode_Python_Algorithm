{
 "cells": [
  {
   "cell_type": "markdown",
   "metadata": {},
   "source": [
    "## 3Sum 三数之和\n",
    "\n",
    "- 给定一个包含 n 个整数的数组 nums，判断 nums 中是否存在三个元素 a，b，c ，使得 a + b + c = 0 ？找出所有满足条件且不重复的三元组。\n",
    "\n",
    "- 注意：答案中不可以包含重复的三元组。"
   ]
  },
  {
   "cell_type": "raw",
   "metadata": {},
   "source": [
    "例如, 给定数组 nums = [-1, 0, 1, 2, -1, -4]，\n",
    "\n",
    "满足要求的三元组集合为：\n",
    "[\n",
    "  [-1, 0, 1],\n",
    "  [-1, -1, 2]\n",
    "]"
   ]
  },
  {
   "cell_type": "code",
   "execution_count": 2,
   "metadata": {},
   "outputs": [],
   "source": [
    "class Solution:\n",
    "    def threeSum(self, nums):\n",
    "        \"\"\"\n",
    "        :type nums: List[int]\n",
    "        :rtype: List[List[int]]\n",
    "        \"\"\"\n",
    "        d = {}\n",
    "        result = []\n",
    "        \n",
    "        for n in nums:\n",
    "            d[n] = d.get(n, 0) + 1\n",
    "        \n",
    "        pos = {p for p in nums if p > 0}\n",
    "        neg = {n for n in nums if n < 0}\n",
    "        \n",
    "        if d.get(0, 0) >= 3:\n",
    "            result.append([0, 0, 0])\n",
    "            \n",
    "        for p in pos:\n",
    "            for n in neg:\n",
    "                i = -p-n\n",
    "                if i not in d:\n",
    "                    continue\n",
    "                if i == 0 and d[i] > 0:\n",
    "                    result.append([0, p, n])\n",
    "                elif i == p and d[p] > 1:\n",
    "                    result.append([n, p, p])\n",
    "                elif i == n and d[n] > 1:\n",
    "                    result.append([n, n, p])\n",
    "                elif i > p or i < n:\n",
    "                    result.append([i, p, n])\n",
    "                \n",
    "        return result\n",
    "                    "
   ]
  },
  {
   "cell_type": "code",
   "execution_count": 3,
   "metadata": {
    "scrolled": true
   },
   "outputs": [
    {
     "name": "stdout",
     "output_type": "stream",
     "text": [
      "[[0, 1, -1], [-1, -1, 2]]\n"
     ]
    }
   ],
   "source": [
    "a=Solution()\n",
    "b=[-1, 0, 1, 2, -1, -4]\n",
    "c=a.threeSum(b)\n",
    "print(c)"
   ]
  },
  {
   "cell_type": "code",
   "execution_count": null,
   "metadata": {},
   "outputs": [],
   "source": []
  }
 ],
 "metadata": {
  "kernelspec": {
   "display_name": "Python 3",
   "language": "python",
   "name": "python3"
  },
  "language_info": {
   "codemirror_mode": {
    "name": "ipython",
    "version": 3
   },
   "file_extension": ".py",
   "mimetype": "text/x-python",
   "name": "python",
   "nbconvert_exporter": "python",
   "pygments_lexer": "ipython3",
   "version": "3.7.7"
  }
 },
 "nbformat": 4,
 "nbformat_minor": 2
}
