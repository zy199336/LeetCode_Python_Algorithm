{
 "cells": [
  {
   "cell_type": "markdown",
   "metadata": {},
   "source": [
    "##  Longest Common Prefix 最长公共前缀\n",
    "\n",
    "- 编写一个函数来查找字符串数组中的最长公共前缀。\n",
    "\n",
    "- 如果不存在公共前缀，返回空字符串 \"\"。"
   ]
  },
  {
   "cell_type": "raw",
   "metadata": {},
   "source": [
    "输入: [\"flower\",\"flow\",\"flight\"]\n",
    "输出: \"fl\"\n",
    "\n",
    "输入: [\"dog\",\"racecar\",\"car\"]\n",
    "输出: \"\"\n",
    "解释: 输入不存在公共前缀。"
   ]
  },
  {
   "cell_type": "code",
   "execution_count": 1,
   "metadata": {},
   "outputs": [],
   "source": [
    "class Solution:\n",
    "    def longestCommonPrefix(self, strs):\n",
    "        result=''\n",
    "        temp=list(zip(*strs))\n",
    "        for i in temp:\n",
    "            if len(set(i))>1:\n",
    "                return result\n",
    "            else:\n",
    "                result+=i[0]\n",
    "                "
   ]
  },
  {
   "cell_type": "code",
   "execution_count": 2,
   "metadata": {},
   "outputs": [
    {
     "name": "stdout",
     "output_type": "stream",
     "text": [
      "fl\n"
     ]
    }
   ],
   "source": [
    "a=Solution()\n",
    "b=[\"flower\",\"flow\",\"flight\"]\n",
    "c=a.longestCommonPrefix(b)\n",
    "print(c)"
   ]
  },
  {
   "cell_type": "markdown",
   "metadata": {},
   "source": [
    "附记：\n",
    "- zip(a,b....)：输入n个list，取每个list前一个，组成一个tuble，再取每个list第二个，组成一个tuble。。。将这些tuble何伟一个list\n",
    "- zip([(a),(b)]): 输入一个list，取list第一个tuble，里面分别为输出list的第一个,,,,具体过程为zip反向\n",
    "- set():无序不重复元素组，可以进行交集，并集，差集\n",
    "- *(list) 可以将list每个单独作为变量传入\n",
    "- 还可以使用min(str),max(str)来找到差别最大的两个子串，来找这两个子串的最大公共前缀"
   ]
  },
  {
   "cell_type": "code",
   "execution_count": null,
   "metadata": {},
   "outputs": [],
   "source": []
  }
 ],
 "metadata": {
  "kernelspec": {
   "display_name": "Python 3",
   "language": "python",
   "name": "python3"
  },
  "language_info": {
   "codemirror_mode": {
    "name": "ipython",
    "version": 3
   },
   "file_extension": ".py",
   "mimetype": "text/x-python",
   "name": "python",
   "nbconvert_exporter": "python",
   "pygments_lexer": "ipython3",
   "version": "3.7.4"
  }
 },
 "nbformat": 4,
 "nbformat_minor": 2
}
