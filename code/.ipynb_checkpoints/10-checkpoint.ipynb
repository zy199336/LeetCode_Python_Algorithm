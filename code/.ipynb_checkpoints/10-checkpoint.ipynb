{
 "cells": [
  {
   "cell_type": "markdown",
   "metadata": {},
   "source": [
    "## 2018-10-20 Regular Expression Matching 正则表达式匹配\n",
    "- 给定一个字符串 (s) 和一个字符模式 (p)。实现支持 '.' 和 '*' 的正则表达式匹配。\n",
    "```\n",
    "'.' 匹配任意单个字符。\n",
    "'*' 匹配零个或多个前面的元素。\n",
    "s 可能为空，且只包含从 a-z 的小写字母。\n",
    "p 可能为空，且只包含从 a-z 的小写字母，以及字符 . 和 *。\n",
    "```"
   ]
  },
  {
   "cell_type": "raw",
   "metadata": {},
   "source": [
    "输入:\n",
    "s = \"aa\"\n",
    "p = \"a\"\n",
    "输出: false\n",
    "解释: \"a\" 无法匹配 \"aa\" 整个字符串。\n",
    "\n",
    "输入:\n",
    "s = \"aa\"\n",
    "p = \"a*\"\n",
    "输出: true\n",
    "解释: '*' 代表可匹配零个或多个前面的元素, 即可以匹配 'a' 。因此, 重复 'a' 一次, 字符串可变为 \"aa\"。\n",
    "\n",
    "输入:\n",
    "s = \"aab\"\n",
    "p = \"c*a*b\"\n",
    "输出: true\n",
    "解释: 'c' 可以不被重复, 'a' 可以被重复一次。因此可以匹配字符串 \"aab\"。"
   ]
  },
  {
   "cell_type": "code",
   "execution_count": 1,
   "metadata": {},
   "outputs": [],
   "source": [
    "class Solution(object):\n",
    "    def isMatch(self, s, p):\n",
    "        # The DP table and the string s and p use the same indexes i and j, but\n",
    "        # table[i][j] means the match status between p[:i] and s[:j], i.e.\n",
    "        # table[0][0] means the match status of two empty strings, and\n",
    "        # table[1][1] means the match status of p[0] and s[0]. Therefore, when\n",
    "        # refering to the i-th and the j-th characters of p and s for updating\n",
    "        # table[i][j], we use p[i - 1] and s[j - 1].\n",
    "\n",
    "        # Initialize the table with False. The first row is satisfied.\n",
    "        table = [[False] * (len(s) + 1) for _ in range(len(p) + 1)]\n",
    "\n",
    "        # Update the corner case of matching two empty strings.\n",
    "        table[0][0] = True\n",
    "\n",
    "        # Update the corner case of when s is an empty string but p is not.\n",
    "        # Since each '*' can eliminate the charter before it, the table is\n",
    "        # vertically updated by the one before previous. [test_symbol_0]\n",
    "        #p='a*';s=''\n",
    "        for i in range(2, len(p) + 1):\n",
    "            table[i][0] = table[i - 2][0] and p[i - 1] == '*'\n",
    "\n",
    "        for i in range(1, len(p) + 1):\n",
    "            for j in range(1, len(s) + 1):\n",
    "                if p[i - 1] != \"*\":\n",
    "                    # Update the table by referring the diagonal element.\n",
    "                    table[i][j] = table[i - 1][j - 1] and \\\n",
    "                                  (p[i - 1] == s[j - 1] or p[i - 1] == '.')\n",
    "                else:\n",
    "                    # Eliminations (referring to the vertical element)\n",
    "                    # Either refer to the one before previous or the previous.\n",
    "                    # I.e. * eliminate the previous or count the previous.\n",
    "                    # [test_symbol_1]\n",
    "                    #p='ab*';s='a'\n",
    "                    table[i][j] = table[i - 2][j] or table[i - 1][j]\n",
    "\n",
    "                    # Propagations (referring to the horizontal element)\n",
    "                    # If p's previous one is equal to the current s, with\n",
    "                    # helps of *, the status can be propagated from the left.\n",
    "                    # [test_symbol_2]\n",
    "                    #p='ab*';s='abb'\n",
    "                    if p[i - 2] == s[j - 1] or p[i - 2] == '.':\n",
    "                        table[i][j] |= table[i][j - 1]\n",
    "\n",
    "        return table[-1][-1]"
   ]
  },
  {
   "cell_type": "code",
   "execution_count": 2,
   "metadata": {},
   "outputs": [
    {
     "name": "stdout",
     "output_type": "stream",
     "text": [
      "aab c*a*b\n",
      "True\n"
     ]
    }
   ],
   "source": [
    "a=Solution()\n",
    "s='aab'\n",
    "p='c*a*b'\n",
    "c=a.isMatch(s,p)\n",
    "print(s,p)\n",
    "print(c)"
   ]
  },
  {
   "cell_type": "code",
   "execution_count": 3,
   "metadata": {},
   "outputs": [
    {
     "name": "stdout",
     "output_type": "stream",
     "text": [
      "mississippi mis*is*p*.\n",
      "False\n"
     ]
    }
   ],
   "source": [
    "s='mississippi'\n",
    "p='mis*is*p*.'\n",
    "c=a.isMatch(s,p)\n",
    "print(s,p)\n",
    "print(c)"
   ]
  },
  {
   "cell_type": "markdown",
   "metadata": {},
   "source": [
    "附记：\n",
    "- 动态规划实际应用，核心思想表述：\n",
    "1.table(i,j)表示的是[p[0],p[i]) 与[s[0],s[j])是否相符，则后续table更新动态规划规则如下：\n",
    "$$table(i,j)=\\begin{cases}\n",
    "table(i-1,j-1)==True\\hspace{2mm} and \\hspace{2mm}(p[i-1]==s[j-1]\\hspace{2mm}or\\hspace{2mm} p[i-1]=='.') & p[i-1]\\ne '*' \\\\\n",
    "(table(i-2,j)==True\\hspace{2mm}or\\hspace{2mm} table(i-1,j)==True)\\hspace{2mm}or\\hspace{2mm}((p[i-2]==s[j-1]\\hspace{2mm}or\\hspace{2mm}p[i-2]=='.')\\hspace{2mm}and\\hspace{2mm}table(i,j-1)==True) & p[i-1]=='*'\n",
    "\\end{cases}\n",
    "$$"
   ]
  },
  {
   "cell_type": "code",
   "execution_count": null,
   "metadata": {},
   "outputs": [],
   "source": []
  }
 ],
 "metadata": {
  "kernelspec": {
   "display_name": "Python 3",
   "language": "python",
   "name": "python3"
  },
  "language_info": {
   "codemirror_mode": {
    "name": "ipython",
    "version": 3
   },
   "file_extension": ".py",
   "mimetype": "text/x-python",
   "name": "python",
   "nbconvert_exporter": "python",
   "pygments_lexer": "ipython3",
   "version": "3.7.4"
  }
 },
 "nbformat": 4,
 "nbformat_minor": 2
}
