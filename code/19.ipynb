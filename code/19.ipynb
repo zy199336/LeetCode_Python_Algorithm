{
 "cells": [
  {
   "cell_type": "markdown",
   "metadata": {},
   "source": [
    "## 19 Remove Nth Node From End of List 删除链表的倒数第N个节点\n",
    "\n",
    "- 给定一个链表，删除链表的倒数第 n 个节点，并且返回链表的头结点。\n",
    "- 说明：\n",
    "- 给定的 n 保证是有效的。"
   ]
  },
  {
   "cell_type": "raw",
   "metadata": {},
   "source": [
    "给定一个链表: 1->2->3->4->5, 和 n = 2.\n",
    "\n",
    "当删除了倒数第二个节点后，链表变为 1->2->3->5."
   ]
  },
  {
   "cell_type": "code",
   "execution_count": 1,
   "metadata": {},
   "outputs": [],
   "source": [
    "class Solution:\n",
    "    def removeNthFromEnd(self, head, n):\n",
    "        l=[]\n",
    "        while head.next !=None:\n",
    "            l.append(head)\n",
    "            head=head.next\n",
    "        l.append(head)\n",
    "        if n==1:\n",
    "            if len(l)>1:\n",
    "                l[-2].next=None\n",
    "                return l[0]\n",
    "            else:\n",
    "                return None\n",
    "        \n",
    "        if len(l)>=n+1:\n",
    "            l[-n-1].next=l[-n+1]\n",
    "            return l[0]\n",
    "        else:\n",
    "            return l[-n].next"
   ]
  },
  {
   "cell_type": "code",
   "execution_count": 2,
   "metadata": {},
   "outputs": [
    {
     "name": "stdout",
     "output_type": "stream",
     "text": [
      "1,2,3,4,5\n",
      "3\n",
      "1\n",
      "2\n",
      "4\n",
      "5\n"
     ]
    }
   ],
   "source": [
    "class ListNode:\n",
    "    def __init__(self, x):\n",
    "        self.val = x\n",
    "        self.next = None\n",
    "\n",
    "def change():\n",
    "    temp1=input()\n",
    "    temp3=[]\n",
    "    for i in range(int((len(temp1))/2)+1):\n",
    "        if i==0:\n",
    "            temp3.append(ListNode(int(temp1[0])))\n",
    "            continue\n",
    "        temp3.append(ListNode(int(temp1[i*2])))\n",
    "        temp3[i-1].next=temp3[i]\n",
    "    return temp3[0]\n",
    "def print_node(l):\n",
    "    if l.next!=None:\n",
    "        print(l.val)\n",
    "        print_node(l.next)\n",
    "    else:\n",
    "        print(l.val)\n",
    "\n",
    "l1=change()\n",
    "a=Solution()\n",
    "b=input()\n",
    "c=a.removeNthFromEnd(l1,int(b))\n",
    "print_node(c)\n",
    "# input1:'1,2,3,4,5'\n",
    "# input2:'3'"
   ]
  },
  {
   "cell_type": "code",
   "execution_count": null,
   "metadata": {},
   "outputs": [],
   "source": []
  }
 ],
 "metadata": {
  "kernelspec": {
   "display_name": "Python 3",
   "language": "python",
   "name": "python3"
  },
  "language_info": {
   "codemirror_mode": {
    "name": "ipython",
    "version": 3
   },
   "file_extension": ".py",
   "mimetype": "text/x-python",
   "name": "python",
   "nbconvert_exporter": "python",
   "pygments_lexer": "ipython3",
   "version": "3.7.7"
  }
 },
 "nbformat": 4,
 "nbformat_minor": 4
}
