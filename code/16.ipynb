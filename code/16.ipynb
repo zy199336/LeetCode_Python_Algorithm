{
 "cells": [
  {
   "cell_type": "markdown",
   "metadata": {},
   "source": [
    "## 3Sum 三数之和\n",
    "\n",
    "- 给定一个包含 n 个整数的数组 nums，判断 nums 中是否存在三个元素 a，b，c ，使得 a + b + c = 0 ？找出所有满足条件且不重复的三元组。\n",
    "\n",
    "- 注意：答案中不可以包含重复的三元组。"
   ]
  },
  {
   "cell_type": "raw",
   "metadata": {},
   "source": [
    "例如, 给定数组 nums = [-1, 0, 1, 2, -1, -4]，\n",
    "\n",
    "满足要求的三元组集合为：\n",
    "[\n",
    "  [-1, 0, 1],\n",
    "  [-1, -1, 2]\n",
    "]"
   ]
  },
  {
   "cell_type": "code",
   "execution_count": 30,
   "metadata": {},
   "outputs": [],
   "source": [
    "class Solution:\n",
    "    def threeSum(self, nums):\n",
    "        \"\"\"\n",
    "        :type nums: List[int]\n",
    "        :rtype: List[List[int]]\n",
    "        \"\"\"\n",
    "        l=[]\n",
    "        result=[]\n",
    "        for i in b:\n",
    "            l.append(-i)\n",
    "        for m in range(len(nums)):\n",
    "            for n in range(len(nums)):\n",
    "                i=nums[m]\n",
    "                j=nums[n]\n",
    "                temp=set([i,j,-(i+j)])\n",
    "                if m!=n and i+j in l and l.index(i+j)!=m and l.index(i+j)!=n and temp not in result:\n",
    "                    print(i,j,-(i+j))\n",
    "                    result.append(temp)\n",
    "        return [list(i) for i in result]\n",
    "                \n",
    "        "
   ]
  },
  {
   "cell_type": "code",
   "execution_count": 31,
   "metadata": {},
   "outputs": [
    {
     "name": "stdout",
     "output_type": "stream",
     "text": [
      "-1 0 1\n",
      "-1 -1 2\n",
      "[[0, 1, -1], [2, -1]]\n"
     ]
    }
   ],
   "source": [
    "a=Solution()\n",
    "b=[-1, 0, 1, 2, -1, -4]\n",
    "c=a.threeSum(b)\n",
    "print(c)"
   ]
  },
  {
   "cell_type": "code",
   "execution_count": null,
   "metadata": {},
   "outputs": [],
   "source": []
  }
 ],
 "metadata": {
  "kernelspec": {
   "display_name": "Python 3",
   "language": "python",
   "name": "python3"
  },
  "language_info": {
   "codemirror_mode": {
    "name": "ipython",
    "version": 3
   },
   "file_extension": ".py",
   "mimetype": "text/x-python",
   "name": "python",
   "nbconvert_exporter": "python",
   "pygments_lexer": "ipython3",
   "version": "3.7.4"
  }
 },
 "nbformat": 4,
 "nbformat_minor": 2
}
