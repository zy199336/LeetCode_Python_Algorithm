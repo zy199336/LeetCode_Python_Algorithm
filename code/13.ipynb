{
 "cells": [
  {
   "cell_type": "markdown",
   "metadata": {},
   "source": [
    "## 2018-10-22  Roman to Integer 罗马数字转数字\n",
    "- 罗马数字包含以下七种字符： I， V， X， L，C，D 和 M。\n",
    "```\n",
    "字符          数值\n",
    "I             1\n",
    "V             5\n",
    "X             10\n",
    "L             50\n",
    "C             100\n",
    "D             500\n",
    "M             1000\n",
    "```\n",
    "- 例如， 罗马数字 2 写做 II ，即为两个并列的 1。12 写做 XII ，即为 X + II 。 27 写做  XXVII, 即为 XX + V + II 。\n",
    "\n",
    "- 通常情况下，罗马数字中小的数字在大的数字的右边。但也存在特例，例如 4 不写做 IIII，而是 IV。数字 1 在数字 5 的左边，所表示的数等于大数 5 减小数 1 得到的数值 4 。同样地，数字 9 表示为 IX。这个特殊的规则只适用于以下六种情况：\n",
    "\n",
    "- I 可以放在 V (5) 和 X (10) 的左边，来表示 4 和 9。\n",
    "- X 可以放在 L (50) 和 C (100) 的左边，来表示 40 和 90。 \n",
    "- C 可以放在 D (500) 和 M (1000) 的左边，来表示 400 和 900。\n",
    "- 给定一个罗马数字，将其转换成整数。输入确保在 1 到 3999 的范围内。"
   ]
  },
  {
   "cell_type": "code",
   "execution_count": 5,
   "metadata": {},
   "outputs": [],
   "source": [
    "class Solution:\n",
    "    def romanToInt(self, s):\n",
    "        e={'I':1,'V':5,'X':10,'L':50,'C':100,'D':500,'M':1000}\n",
    "        result=0\n",
    "        for i in range(len(s)):\n",
    "            result=result+e[s[i]]\n",
    "            if i!=0:\n",
    "                if e[s[i]]>e[s[i-1]]:\n",
    "                    result=result-2*e[s[i-1]]\n",
    "        return result"
   ]
  },
  {
   "cell_type": "code",
   "execution_count": 6,
   "metadata": {},
   "outputs": [
    {
     "name": "stdout",
     "output_type": "stream",
     "text": [
      "1994\n"
     ]
    }
   ],
   "source": [
    "a=Solution()\n",
    "b='MCMXCIV'\n",
    "c=a.romanToInt(b)\n",
    "print(c)"
   ]
  },
  {
   "cell_type": "code",
   "execution_count": null,
   "metadata": {},
   "outputs": [],
   "source": []
  }
 ],
 "metadata": {
  "kernelspec": {
   "display_name": "Python 3",
   "language": "python",
   "name": "python3"
  },
  "language_info": {
   "codemirror_mode": {
    "name": "ipython",
    "version": 3
   },
   "file_extension": ".py",
   "mimetype": "text/x-python",
   "name": "python",
   "nbconvert_exporter": "python",
   "pygments_lexer": "ipython3",
   "version": "3.7.4"
  }
 },
 "nbformat": 4,
 "nbformat_minor": 2
}
