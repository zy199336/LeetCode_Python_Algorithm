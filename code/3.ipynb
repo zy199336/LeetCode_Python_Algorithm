{
 "cells": [
  {
   "cell_type": "markdown",
   "metadata": {},
   "source": [
    "# 3 Longest Substring Without Repeating Characters 无重复字符的最长子串"
   ]
  },
  {
   "cell_type": "markdown",
   "metadata": {},
   "source": [
    "- 给定一个字符串，找出不含有重复字符的最长子串的长度。\n",
    "- 输入：'pwwkew'\n",
    "- 输出：3\n",
    "- 原因：最长为'wke'"
   ]
  },
  {
   "cell_type": "code",
   "execution_count": null,
   "metadata": {},
   "outputs": [],
   "source": [
    "class Solution:\n",
    "    def lengthOfLongestSubstring(self, s):\n",
    "        n=0\n",
    "        l=[]\n",
    "        for i in len(1,s):\n",
    "            if s[i] in s[0:i-1]:\n",
    "                l.append()"
   ]
  },
  {
   "cell_type": "code",
   "execution_count": 1,
   "metadata": {},
   "outputs": [],
   "source": [
    "class Solution:\n",
    "    def lengthOfLongestSubstring(self, s):\n",
    "        d = {}\n",
    "        max_len = 0\n",
    "        start = 0\n",
    "        end = 0\n",
    "        for i in range(len(s)):\n",
    "            c = s[i]\n",
    "            if c in d and start <= d[c]:\n",
    "                start = d[c] + 1\n",
    "            d[c] = i\n",
    "            end = i + 1\n",
    "            if max_len < (end - start):\n",
    "                max_len = end - start\n",
    "        return max_len"
   ]
  },
  {
   "cell_type": "code",
   "execution_count": 2,
   "metadata": {},
   "outputs": [
    {
     "name": "stdout",
     "output_type": "stream",
     "text": [
      "pwwkew\n"
     ]
    },
    {
     "data": {
      "text/plain": [
       "3"
      ]
     },
     "execution_count": 2,
     "metadata": {},
     "output_type": "execute_result"
    }
   ],
   "source": [
    "a=Solution()\n",
    "b=input()\n",
    "a.lengthOfLongestSubstring(b)"
   ]
  },
  {
   "cell_type": "code",
   "execution_count": null,
   "metadata": {},
   "outputs": [],
   "source": []
  }
 ],
 "metadata": {
  "kernelspec": {
   "display_name": "Python 3",
   "language": "python",
   "name": "python3"
  },
  "language_info": {
   "codemirror_mode": {
    "name": "ipython",
    "version": 3
   },
   "file_extension": ".py",
   "mimetype": "text/x-python",
   "name": "python",
   "nbconvert_exporter": "python",
   "pygments_lexer": "ipython3",
   "version": "3.7.4"
  }
 },
 "nbformat": 4,
 "nbformat_minor": 2
}
